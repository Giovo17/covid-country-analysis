{
 "cells": [
  {
   "cell_type": "markdown",
   "id": "79192a98-80c0-45de-ba61-a73aa8615780",
   "metadata": {},
   "source": [
    "# Covid Country Analysis"
   ]
  },
  {
   "cell_type": "code",
   "execution_count": 1,
   "id": "87101567-7a77-4f12-833e-daef270f2b64",
   "metadata": {
    "vscode": {
     "languageId": "r"
    }
   },
   "outputs": [
    {
     "name": "stderr",
     "output_type": "stream",
     "text": [
      "NOTE: Either Arial Narrow or Roboto Condensed fonts are required to use these themes.\n",
      "\n",
      "      Please use hrbrthemes::import_roboto_condensed() to install Roboto Condensed and\n",
      "\n",
      "      if Arial Narrow is not on your system, please see https://bit.ly/arialnarrow\n",
      "\n",
      "Registered S3 method overwritten by 'GGally':\n",
      "  method from   \n",
      "  +.gg   ggplot2\n",
      "\n"
     ]
    }
   ],
   "source": [
    "library(ggplot2)\n",
    "library(hrbrthemes)\n",
    "library(GGally)\n",
    "library(corrgram)\n",
    "library(visdat)\n",
    "library(ISLR2)\n",
    "library(e1071)\n",
    "library(caTools)\n",
    "library(hopkins)\n",
    "#library(randomForest)\n"
   ]
  },
  {
   "cell_type": "markdown",
   "id": "855b4c1b",
   "metadata": {},
   "source": [
    "Context\n",
    "- A new coronavirus designated 2019-nCoV was first identified in Wuhan, the capital of China's Hubei province\n",
    "- People developed pneumonia without a clear cause and for which existing vaccines or treatments were not effective.\n",
    "- The virus has shown evidence of human-to-human transmission\n",
    "- Transmission rate (rate of infection) appeared to escalate in mid-January 2020\n",
    "- As of 30 January 2020, approximately 8,243 cases have been confirmed"
   ]
  },
  {
   "cell_type": "markdown",
   "id": "6fbc6b71",
   "metadata": {},
   "source": [
    "- full_grouped.csv - Day to day country wise no. of cases (Has County/State/Province level data)\n",
    "- covid19clean_complete.csv - Day to day country wise no. of cases (Doesn't have County/State/Province level data)\n",
    "- countrywiselatest.csv - Latest country level no. of cases\n",
    "- day_wise.csv - Day wise no. of cases (Doesn't have country level data)\n",
    "- usacountywise.csv - Day to day county level no. of cases\n",
    "- worldometer_data.csv - Latest data from https://www.worldometers.info/"
   ]
  },
  {
   "cell_type": "code",
   "execution_count": 2,
   "id": "3851299b-642a-47dc-ad12-1496da50bc92",
   "metadata": {
    "vscode": {
     "languageId": "r"
    }
   },
   "outputs": [],
   "source": [
    "# Import datasets from csv\n",
    "\n",
    "# Source: https://www.kaggle.com/datasets/imdevskp/corona-virus-report?resource=download&select=country_wise_latest.csv\n",
    "\n",
    "# Online from github repo\n",
    "df = read.csv('https://raw.githubusercontent.com/Giovo17/covid-country-analysis/main/country_wise_latest.csv')\n",
    "\n",
    "# Local from disk\n",
    "#df = read.csv(\"country_wise_latest.csv\")\n"
   ]
  },
  {
   "cell_type": "code",
   "execution_count": 3,
   "id": "ecaa0c2c-75b5-4a3b-8a8d-367fa3c2d989",
   "metadata": {
    "vscode": {
     "languageId": "r"
    }
   },
   "outputs": [
    {
     "data": {
      "text/html": [
       "<table class=\"dataframe\">\n",
       "<caption>A data.frame: 7 × 15</caption>\n",
       "<thead>\n",
       "\t<tr><th></th><th scope=col>Country.Region</th><th scope=col>Confirmed</th><th scope=col>Deaths</th><th scope=col>Recovered</th><th scope=col>Active</th><th scope=col>New.cases</th><th scope=col>New.deaths</th><th scope=col>New.recovered</th><th scope=col>Deaths...100.Cases</th><th scope=col>Recovered...100.Cases</th><th scope=col>Deaths...100.Recovered</th><th scope=col>Confirmed.last.week</th><th scope=col>X1.week.change</th><th scope=col>X1.week...increase</th><th scope=col>WHO.Region</th></tr>\n",
       "\t<tr><th></th><th scope=col>&lt;chr&gt;</th><th scope=col>&lt;int&gt;</th><th scope=col>&lt;int&gt;</th><th scope=col>&lt;int&gt;</th><th scope=col>&lt;int&gt;</th><th scope=col>&lt;int&gt;</th><th scope=col>&lt;int&gt;</th><th scope=col>&lt;int&gt;</th><th scope=col>&lt;dbl&gt;</th><th scope=col>&lt;dbl&gt;</th><th scope=col>&lt;dbl&gt;</th><th scope=col>&lt;int&gt;</th><th scope=col>&lt;int&gt;</th><th scope=col>&lt;dbl&gt;</th><th scope=col>&lt;chr&gt;</th></tr>\n",
       "</thead>\n",
       "<tbody>\n",
       "\t<tr><th scope=row>1</th><td>Afghanistan        </td><td> 36263</td><td>1269</td><td>25198</td><td> 9796</td><td> 106</td><td> 10</td><td>  18</td><td>3.50</td><td>69.49</td><td> 5.04</td><td> 35526</td><td>  737</td><td> 2.07</td><td>Eastern Mediterranean</td></tr>\n",
       "\t<tr><th scope=row>2</th><td>Albania            </td><td>  4880</td><td> 144</td><td> 2745</td><td> 1991</td><td> 117</td><td>  6</td><td>  63</td><td>2.95</td><td>56.25</td><td> 5.25</td><td>  4171</td><td>  709</td><td>17.00</td><td>Europe               </td></tr>\n",
       "\t<tr><th scope=row>3</th><td>Algeria            </td><td> 27973</td><td>1163</td><td>18837</td><td> 7973</td><td> 616</td><td>  8</td><td> 749</td><td>4.16</td><td>67.34</td><td> 6.17</td><td> 23691</td><td> 4282</td><td>18.07</td><td>Africa               </td></tr>\n",
       "\t<tr><th scope=row>4</th><td>Andorra            </td><td>   907</td><td>  52</td><td>  803</td><td>   52</td><td>  10</td><td>  0</td><td>   0</td><td>5.73</td><td>88.53</td><td> 6.48</td><td>   884</td><td>   23</td><td> 2.60</td><td>Europe               </td></tr>\n",
       "\t<tr><th scope=row>5</th><td>Angola             </td><td>   950</td><td>  41</td><td>  242</td><td>  667</td><td>  18</td><td>  1</td><td>   0</td><td>4.32</td><td>25.47</td><td>16.94</td><td>   749</td><td>  201</td><td>26.84</td><td>Africa               </td></tr>\n",
       "\t<tr><th scope=row>6</th><td>Antigua and Barbuda</td><td>    86</td><td>   3</td><td>   65</td><td>   18</td><td>   4</td><td>  0</td><td>   5</td><td>3.49</td><td>75.58</td><td> 4.62</td><td>    76</td><td>   10</td><td>13.16</td><td>Americas             </td></tr>\n",
       "\t<tr><th scope=row>7</th><td>Argentina          </td><td>167416</td><td>3059</td><td>72575</td><td>91782</td><td>4890</td><td>120</td><td>2057</td><td>1.83</td><td>43.35</td><td> 4.21</td><td>130774</td><td>36642</td><td>28.02</td><td>Americas             </td></tr>\n",
       "</tbody>\n",
       "</table>\n"
      ],
      "text/latex": [
       "A data.frame: 7 × 15\n",
       "\\begin{tabular}{r|lllllllllllllll}\n",
       "  & Country.Region & Confirmed & Deaths & Recovered & Active & New.cases & New.deaths & New.recovered & Deaths...100.Cases & Recovered...100.Cases & Deaths...100.Recovered & Confirmed.last.week & X1.week.change & X1.week...increase & WHO.Region\\\\\n",
       "  & <chr> & <int> & <int> & <int> & <int> & <int> & <int> & <int> & <dbl> & <dbl> & <dbl> & <int> & <int> & <dbl> & <chr>\\\\\n",
       "\\hline\n",
       "\t1 & Afghanistan         &  36263 & 1269 & 25198 &  9796 &  106 &  10 &   18 & 3.50 & 69.49 &  5.04 &  35526 &   737 &  2.07 & Eastern Mediterranean\\\\\n",
       "\t2 & Albania             &   4880 &  144 &  2745 &  1991 &  117 &   6 &   63 & 2.95 & 56.25 &  5.25 &   4171 &   709 & 17.00 & Europe               \\\\\n",
       "\t3 & Algeria             &  27973 & 1163 & 18837 &  7973 &  616 &   8 &  749 & 4.16 & 67.34 &  6.17 &  23691 &  4282 & 18.07 & Africa               \\\\\n",
       "\t4 & Andorra             &    907 &   52 &   803 &    52 &   10 &   0 &    0 & 5.73 & 88.53 &  6.48 &    884 &    23 &  2.60 & Europe               \\\\\n",
       "\t5 & Angola              &    950 &   41 &   242 &   667 &   18 &   1 &    0 & 4.32 & 25.47 & 16.94 &    749 &   201 & 26.84 & Africa               \\\\\n",
       "\t6 & Antigua and Barbuda &     86 &    3 &    65 &    18 &    4 &   0 &    5 & 3.49 & 75.58 &  4.62 &     76 &    10 & 13.16 & Americas             \\\\\n",
       "\t7 & Argentina           & 167416 & 3059 & 72575 & 91782 & 4890 & 120 & 2057 & 1.83 & 43.35 &  4.21 & 130774 & 36642 & 28.02 & Americas             \\\\\n",
       "\\end{tabular}\n"
      ],
      "text/markdown": [
       "\n",
       "A data.frame: 7 × 15\n",
       "\n",
       "| <!--/--> | Country.Region &lt;chr&gt; | Confirmed &lt;int&gt; | Deaths &lt;int&gt; | Recovered &lt;int&gt; | Active &lt;int&gt; | New.cases &lt;int&gt; | New.deaths &lt;int&gt; | New.recovered &lt;int&gt; | Deaths...100.Cases &lt;dbl&gt; | Recovered...100.Cases &lt;dbl&gt; | Deaths...100.Recovered &lt;dbl&gt; | Confirmed.last.week &lt;int&gt; | X1.week.change &lt;int&gt; | X1.week...increase &lt;dbl&gt; | WHO.Region &lt;chr&gt; |\n",
       "|---|---|---|---|---|---|---|---|---|---|---|---|---|---|---|---|\n",
       "| 1 | Afghanistan         |  36263 | 1269 | 25198 |  9796 |  106 |  10 |   18 | 3.50 | 69.49 |  5.04 |  35526 |   737 |  2.07 | Eastern Mediterranean |\n",
       "| 2 | Albania             |   4880 |  144 |  2745 |  1991 |  117 |   6 |   63 | 2.95 | 56.25 |  5.25 |   4171 |   709 | 17.00 | Europe                |\n",
       "| 3 | Algeria             |  27973 | 1163 | 18837 |  7973 |  616 |   8 |  749 | 4.16 | 67.34 |  6.17 |  23691 |  4282 | 18.07 | Africa                |\n",
       "| 4 | Andorra             |    907 |   52 |   803 |    52 |   10 |   0 |    0 | 5.73 | 88.53 |  6.48 |    884 |    23 |  2.60 | Europe                |\n",
       "| 5 | Angola              |    950 |   41 |   242 |   667 |   18 |   1 |    0 | 4.32 | 25.47 | 16.94 |    749 |   201 | 26.84 | Africa                |\n",
       "| 6 | Antigua and Barbuda |     86 |    3 |    65 |    18 |    4 |   0 |    5 | 3.49 | 75.58 |  4.62 |     76 |    10 | 13.16 | Americas              |\n",
       "| 7 | Argentina           | 167416 | 3059 | 72575 | 91782 | 4890 | 120 | 2057 | 1.83 | 43.35 |  4.21 | 130774 | 36642 | 28.02 | Americas              |\n",
       "\n"
      ],
      "text/plain": [
       "  Country.Region      Confirmed Deaths Recovered Active New.cases New.deaths\n",
       "1 Afghanistan          36263    1269   25198      9796   106       10       \n",
       "2 Albania               4880     144    2745      1991   117        6       \n",
       "3 Algeria              27973    1163   18837      7973   616        8       \n",
       "4 Andorra                907      52     803        52    10        0       \n",
       "5 Angola                 950      41     242       667    18        1       \n",
       "6 Antigua and Barbuda     86       3      65        18     4        0       \n",
       "7 Argentina           167416    3059   72575     91782  4890      120       \n",
       "  New.recovered Deaths...100.Cases Recovered...100.Cases Deaths...100.Recovered\n",
       "1   18          3.50               69.49                  5.04                 \n",
       "2   63          2.95               56.25                  5.25                 \n",
       "3  749          4.16               67.34                  6.17                 \n",
       "4    0          5.73               88.53                  6.48                 \n",
       "5    0          4.32               25.47                 16.94                 \n",
       "6    5          3.49               75.58                  4.62                 \n",
       "7 2057          1.83               43.35                  4.21                 \n",
       "  Confirmed.last.week X1.week.change X1.week...increase WHO.Region           \n",
       "1  35526                737           2.07              Eastern Mediterranean\n",
       "2   4171                709          17.00              Europe               \n",
       "3  23691               4282          18.07              Africa               \n",
       "4    884                 23           2.60              Europe               \n",
       "5    749                201          26.84              Africa               \n",
       "6     76                 10          13.16              Americas             \n",
       "7 130774              36642          28.02              Americas             "
      ]
     },
     "metadata": {},
     "output_type": "display_data"
    },
    {
     "name": "stdout",
     "output_type": "stream",
     "text": [
      "'data.frame':\t187 obs. of  15 variables:\n",
      " $ Country.Region        : chr  \"Afghanistan\" \"Albania\" \"Algeria\" \"Andorra\" ...\n",
      " $ Confirmed             : int  36263 4880 27973 907 950 86 167416 37390 15303 20558 ...\n",
      " $ Deaths                : int  1269 144 1163 52 41 3 3059 711 167 713 ...\n",
      " $ Recovered             : int  25198 2745 18837 803 242 65 72575 26665 9311 18246 ...\n",
      " $ Active                : int  9796 1991 7973 52 667 18 91782 10014 5825 1599 ...\n",
      " $ New.cases             : int  106 117 616 10 18 4 4890 73 368 86 ...\n",
      " $ New.deaths            : int  10 6 8 0 1 0 120 6 6 1 ...\n",
      " $ New.recovered         : int  18 63 749 0 0 5 2057 187 137 37 ...\n",
      " $ Deaths...100.Cases    : num  3.5 2.95 4.16 5.73 4.32 3.49 1.83 1.9 1.09 3.47 ...\n",
      " $ Recovered...100.Cases : num  69.5 56.2 67.3 88.5 25.5 ...\n",
      " $ Deaths...100.Recovered: num  5.04 5.25 6.17 6.48 16.94 ...\n",
      " $ Confirmed.last.week   : int  35526 4171 23691 884 749 76 130774 34981 12428 19743 ...\n",
      " $ X1.week.change        : int  737 709 4282 23 201 10 36642 2409 2875 815 ...\n",
      " $ X1.week...increase    : num  2.07 17 18.07 2.6 26.84 ...\n",
      " $ WHO.Region            : chr  \"Eastern Mediterranean\" \"Europe\" \"Africa\" \"Europe\" ...\n"
     ]
    },
    {
     "data": {
      "text/plain": [
       " Country.Region       Confirmed           Deaths           Recovered        \n",
       " Length:187         Min.   :     10   Min.   :     0.0   Min.   :      0.0  \n",
       " Class :character   1st Qu.:   1114   1st Qu.:    18.5   1st Qu.:    626.5  \n",
       " Mode  :character   Median :   5059   Median :   108.0   Median :   2815.0  \n",
       "                    Mean   :  88131   Mean   :  3497.5   Mean   :  50631.5  \n",
       "                    3rd Qu.:  40460   3rd Qu.:   734.0   3rd Qu.:  22606.0  \n",
       "                    Max.   :4290259   Max.   :148011.0   Max.   :1846641.0  \n",
       "     Active            New.cases         New.deaths      New.recovered    \n",
       " Min.   :      0.0   Min.   :    0.0   Min.   :   0.00   Min.   :    0.0  \n",
       " 1st Qu.:    141.5   1st Qu.:    4.0   1st Qu.:   0.00   1st Qu.:    0.0  \n",
       " Median :   1600.0   Median :   49.0   Median :   1.00   Median :   22.0  \n",
       " Mean   :  34001.9   Mean   : 1223.0   Mean   :  28.96   Mean   :  933.8  \n",
       " 3rd Qu.:   9149.0   3rd Qu.:  419.5   3rd Qu.:   6.00   3rd Qu.:  221.0  \n",
       " Max.   :2816444.0   Max.   :56336.0   Max.   :1076.00   Max.   :33728.0  \n",
       " Deaths...100.Cases Recovered...100.Cases Deaths...100.Recovered\n",
       " Min.   : 0.000     Min.   :  0.00        Min.   :0.00          \n",
       " 1st Qu.: 0.945     1st Qu.: 48.77        1st Qu.:1.45          \n",
       " Median : 2.150     Median : 71.32        Median :3.62          \n",
       " Mean   : 3.020     Mean   : 64.82        Mean   : Inf          \n",
       " 3rd Qu.: 3.875     3rd Qu.: 86.89        3rd Qu.:6.44          \n",
       " Max.   :28.560     Max.   :100.00        Max.   : Inf          \n",
       " Confirmed.last.week X1.week.change   X1.week...increase  WHO.Region       \n",
       " Min.   :     10     Min.   :   -47   Min.   : -3.840    Length:187        \n",
       " 1st Qu.:   1052     1st Qu.:    49   1st Qu.:  2.775    Class :character  \n",
       " Median :   5020     Median :   432   Median :  6.890    Mode  :character  \n",
       " Mean   :  78682     Mean   :  9448   Mean   : 13.606                      \n",
       " 3rd Qu.:  37080     3rd Qu.:  3172   3rd Qu.: 16.855                      \n",
       " Max.   :3834677     Max.   :455582   Max.   :226.320                      "
      ]
     },
     "metadata": {},
     "output_type": "display_data"
    }
   ],
   "source": [
    "head(df, 7)\n",
    "str(df)\n",
    "summary(df)"
   ]
  },
  {
   "cell_type": "code",
   "execution_count": 4,
   "id": "bc75d8a6",
   "metadata": {
    "vscode": {
     "languageId": "r"
    }
   },
   "outputs": [
    {
     "name": "stderr",
     "output_type": "stream",
     "text": [
      "Warning message:\n",
      "\"\u001b[1m\u001b[22m`gather_()` was deprecated in tidyr 1.2.0.\n",
      "\u001b[36mℹ\u001b[39m Please use `gather()` instead.\n",
      "\u001b[36mℹ\u001b[39m The deprecated feature was likely used in the \u001b[34mvisdat\u001b[39m package.\n",
      "  Please report the issue at \u001b[3m\u001b[34m<https://github.com/ropensci/visdat/issues>\u001b[39m\u001b[23m.\"\n"
     ]
    },
    {
     "data": {
      "image/png": "[encoded data removed]",
      "text/plain": [
       "plot without title"
      ]
     },
     "metadata": {
      "image/png": {
       "height": 420,
       "width": 420
      }
     },
     "output_type": "display_data"
    }
   ],
   "source": [
    "vis_miss(df)"
   ]
  },
  {
   "cell_type": "code",
   "execution_count": 5,
   "id": "4748f3e6",
   "metadata": {
    "vscode": {
     "languageId": "r"
    }
   },
   "outputs": [],
   "source": [
    "# Removed a row with a strange value\n",
    "df = df[!(df$Deaths...100.Recovered==\"Inf\" ),]"
   ]
  },
  {
   "cell_type": "markdown",
   "id": "2fb8e024-20c8-46a4-a3e3-3ea265989fd2",
   "metadata": {},
   "source": [
    "## EDA"
   ]
  },
  {
   "cell_type": "code",
   "execution_count": 6,
   "id": "4238a4bc",
   "metadata": {
    "vscode": {
     "languageId": "r"
    }
   },
   "outputs": [
    {
     "name": "stdout",
     "output_type": "stream",
     "text": [
      " [1] \"Country.Region\"         \"Confirmed\"              \"Deaths\"                \n",
      " [4] \"Recovered\"              \"Active\"                 \"New.cases\"             \n",
      " [7] \"New.deaths\"             \"New.recovered\"          \"Deaths...100.Cases\"    \n",
      "[10] \"Recovered...100.Cases\"  \"Deaths...100.Recovered\" \"Confirmed.last.week\"   \n",
      "[13] \"X1.week.change\"         \"X1.week...increase\"     \"WHO.Region\"            \n"
     ]
    }
   ],
   "source": [
    "print(colnames(df))"
   ]
  },
  {
   "cell_type": "markdown",
   "id": "5ab84ff9",
   "metadata": {},
   "source": [
    "### Univariate EDA"
   ]
  },
  {
   "cell_type": "markdown",
   "id": "06eee9db",
   "metadata": {},
   "source": [
    "#### Confirmed"
   ]
  },
  {
   "cell_type": "code",
   "execution_count": 7,
   "id": "109f8d60",
   "metadata": {
    "vscode": {
     "languageId": "r"
    }
   },
   "outputs": [
    {
     "data": {
      "text/html": [
       "<dl>\n",
       "\t<dt>$stats</dt>\n",
       "\t\t<dd><style>\n",
       ".list-inline {list-style: none; margin:0; padding: 0}\n",
       ".list-inline>li {display: inline-block}\n",
       ".list-inline>li:not(:last-child)::after {content: \"\\00b7\"; padding: 0 .5ex}\n",
       "</style>\n",
       "<ol class=list-inline><li>10</li><li>1100</li><li>4970</li><li>39741</li><li>92482</li></ol>\n",
       "</dd>\n",
       "\t<dt>$n</dt>\n",
       "\t\t<dd>182</dd>\n",
       "\t<dt>$conf</dt>\n",
       "\t\t<dd><style>\n",
       ".list-inline {list-style: none; margin:0; padding: 0}\n",
       ".list-inline>li {display: inline-block}\n",
       ".list-inline>li:not(:last-child)::after {content: \"\\00b7\"; padding: 0 .5ex}\n",
       "</style>\n",
       "<ol class=list-inline><li>444.466854473945</li><li>9495.53314552605</li></ol>\n",
       "</dd>\n",
       "\t<dt>$out</dt>\n",
       "\t\t<dd><style>\n",
       ".list-inline {list-style: none; margin:0; padding: 0}\n",
       ".list-inline>li {display: inline-block}\n",
       ".list-inline>li:not(:last-child)::after {content: \"\\00b7\"; padding: 0 .5ex}\n",
       "</style>\n",
       "<ol class=list-inline><li>167416</li><li>226225</li><li>2442375</li><li>347923</li><li>257101</li><li>220352</li><li>207112</li><li>1480073</li><li>100303</li><li>293606</li><li>112585</li><li>246286</li><li>395489</li><li>274289</li><li>389717</li><li>109597</li><li>816680</li><li>268934</li><li>452529</li><li>272421</li><li>227019</li><li>4290259</li><li>301708</li></ol>\n",
       "</dd>\n",
       "</dl>\n"
      ],
      "text/latex": [
       "\\begin{description}\n",
       "\\item[\\$stats] \\begin{enumerate*}\n",
       "\\item 10\n",
       "\\item 1100\n",
       "\\item 4970\n",
       "\\item 39741\n",
       "\\item 92482\n",
       "\\end{enumerate*}\n",
       "\n",
       "\\item[\\$n] 182\n",
       "\\item[\\$conf] \\begin{enumerate*}\n",
       "\\item 444.466854473945\n",
       "\\item 9495.53314552605\n",
       "\\end{enumerate*}\n",
       "\n",
       "\\item[\\$out] \\begin{enumerate*}\n",
       "\\item 167416\n",
       "\\item 226225\n",
       "\\item 2442375\n",
       "\\item 347923\n",
       "\\item 257101\n",
       "\\item 220352\n",
       "\\item 207112\n",
       "\\item 1480073\n",
       "\\item 100303\n",
       "\\item 293606\n",
       "\\item 112585\n",
       "\\item 246286\n",
       "\\item 395489\n",
       "\\item 274289\n",
       "\\item 389717\n",
       "\\item 109597\n",
       "\\item 816680\n",
       "\\item 268934\n",
       "\\item 452529\n",
       "\\item 272421\n",
       "\\item 227019\n",
       "\\item 4290259\n",
       "\\item 301708\n",
       "\\end{enumerate*}\n",
       "\n",
       "\\end{description}\n"
      ],
      "text/markdown": [
       "$stats\n",
       ":   1. 10\n",
       "2. 1100\n",
       "3. 4970\n",
       "4. 39741\n",
       "5. 92482\n",
       "\n",
       "\n",
       "\n",
       "$n\n",
       ":   182\n",
       "$conf\n",
       ":   1. 444.466854473945\n",
       "2. 9495.53314552605\n",
       "\n",
       "\n",
       "\n",
       "$out\n",
       ":   1. 167416\n",
       "2. 226225\n",
       "3. 2442375\n",
       "4. 347923\n",
       "5. 257101\n",
       "6. 220352\n",
       "7. 207112\n",
       "8. 1480073\n",
       "9. 100303\n",
       "10. 293606\n",
       "11. 112585\n",
       "12. 246286\n",
       "13. 395489\n",
       "14. 274289\n",
       "15. 389717\n",
       "16. 109597\n",
       "17. 816680\n",
       "18. 268934\n",
       "19. 452529\n",
       "20. 272421\n",
       "21. 227019\n",
       "22. 4290259\n",
       "23. 301708\n",
       "\n",
       "\n",
       "\n",
       "\n",
       "\n"
      ],
      "text/plain": [
       "$stats\n",
       "[1]    10  1100  4970 39741 92482\n",
       "\n",
       "$n\n",
       "[1] 182\n",
       "\n",
       "$conf\n",
       "[1]  444.4669 9495.5331\n",
       "\n",
       "$out\n",
       " [1]  167416  226225 2442375  347923  257101  220352  207112 1480073  100303\n",
       "[10]  293606  112585  246286  395489  274289  389717  109597  816680  268934\n",
       "[19]  452529  272421  227019 4290259  301708\n"
      ]
     },
     "metadata": {},
     "output_type": "display_data"
    }
   ],
   "source": [
    "boxplot.stats(df$Confirmed)"
   ]
  },
  {
   "cell_type": "code",
   "execution_count": 8,
   "id": "af215917",
   "metadata": {
    "vscode": {
     "languageId": "r"
    }
   },
   "outputs": [
    {
     "data": {
      "image/png": "[encoded data removed]",
      "text/plain": [
       "plot without title"
      ]
     },
     "metadata": {
      "image/png": {
       "height": 420,
       "width": 420
      }
     },
     "output_type": "display_data"
    },
    {
     "data": {
      "image/png": "[encoded data removed]",
      "text/plain": [
       "plot without title"
      ]
     },
     "metadata": {
      "image/png": {
       "height": 420,
       "width": 420
      }
     },
     "output_type": "display_data"
    }
   ],
   "source": [
    "ggplot(df, aes(x=as.factor(WHO.Region), y=Confirmed)) + \n",
    "    geom_boxplot(fill=\"slateblue\", alpha=0.2) + \n",
    "    ggtitle(\"Boxplots of confirmed cases divided by WHO region\") +\n",
    "    theme(\n",
    "        axis.text=element_text(size=6.5), \n",
    "        axis.title=element_text(size=14, face=\"bold\")\n",
    "    ) +\n",
    "    coord_cartesian(ylim = c(0, 120000)) + \n",
    "    xlab(\"WHO.Region\")\n",
    "\n",
    "ggplot(df, aes(y=Confirmed)) + \n",
    "    geom_boxplot(fill=\"slateblue\", alpha=0.2) + \n",
    "    ggtitle(\"Boxplot of confirmed cases\") +\n",
    "    theme(\n",
    "        axis.text=element_text(size=6.5), \n",
    "        axis.title=element_text(size=14, face=\"bold\")\n",
    "    ) +\n",
    "    coord_cartesian(ylim = c(0, 120000)) "
   ]
  },
  {
   "cell_type": "code",
   "execution_count": 9,
   "id": "1730049c",
   "metadata": {
    "vscode": {
     "languageId": "r"
    }
   },
   "outputs": [
    {
     "name": "stderr",
     "output_type": "stream",
     "text": [
      "Warning message:\n",
      "\"\u001b[1m\u001b[22mRemoved 20 rows containing non-finite values (`stat_bin()`).\"\n",
      "Warning message:\n",
      "\"\u001b[1m\u001b[22mRemoved 2 rows containing missing values (`geom_bar()`).\"\n"
     ]
    },
    {
     "data": {
      "image/png": "[encoded data removed]",
      "text/plain": [
       "plot without title"
      ]
     },
     "metadata": {
      "image/png": {
       "height": 420,
       "width": 420
      }
     },
     "output_type": "display_data"
    }
   ],
   "source": [
    "ggplot(df, aes(x=Confirmed)) +\n",
    "    geom_histogram( binwidth=4000, fill=\"#69b3a2\", color=\"#e9ecef\", alpha=0.9, position = 'identity') +\n",
    "    ggtitle(\"Histogram of confirmed cases\") +\n",
    "    theme(plot.title = element_text(size=15)) +\n",
    "    xlim(0,120000)\n",
    "    "
   ]
  },
  {
   "cell_type": "code",
   "execution_count": 10,
   "id": "a20b9861",
   "metadata": {
    "vscode": {
     "languageId": "r"
    }
   },
   "outputs": [
    {
     "data": {
      "text/html": [
       "<strong>png:</strong> 2"
      ],
      "text/latex": [
       "\\textbf{png:} 2"
      ],
      "text/markdown": [
       "**png:** 2"
      ],
      "text/plain": [
       "png \n",
       "  2 "
      ]
     },
     "metadata": {},
     "output_type": "display_data"
    },
    {
     "data": {
      "text/html": [
       "<strong>png:</strong> 2"
      ],
      "text/latex": [
       "\\textbf{png:} 2"
      ],
      "text/markdown": [
       "**png:** 2"
      ],
      "text/plain": [
       "png \n",
       "  2 "
      ]
     },
     "metadata": {},
     "output_type": "display_data"
    },
    {
     "name": "stderr",
     "output_type": "stream",
     "text": [
      "Warning message:\n",
      "\"\u001b[1m\u001b[22mRemoved 20 rows containing non-finite values (`stat_bin()`).\"\n",
      "Warning message:\n",
      "\"\u001b[1m\u001b[22mRemoved 2 rows containing missing values (`geom_bar()`).\"\n"
     ]
    },
    {
     "data": {
      "text/html": [
       "<strong>png:</strong> 2"
      ],
      "text/latex": [
       "\\textbf{png:} 2"
      ],
      "text/markdown": [
       "**png:** 2"
      ],
      "text/plain": [
       "png \n",
       "  2 "
      ]
     },
     "metadata": {},
     "output_type": "display_data"
    }
   ],
   "source": [
    "png(filename = \"img/Confirmed_conditional_boxplot.png\", units=\"in\", width=5, height=5, res=300)\n",
    "\n",
    "ggplot(df, aes(x=as.factor(WHO.Region), y=Confirmed)) + \n",
    "    geom_boxplot(fill=\"slateblue\", alpha=0.2) + \n",
    "    ggtitle(\"Boxplots of confirmed cases divided by WHO region\") +\n",
    "    theme(\n",
    "        axis.text=element_text(size=6.5), \n",
    "        axis.title=element_text(size=14,face=\"bold\")\n",
    "    ) +\n",
    "    coord_cartesian(ylim = c(0, 120000)) +\n",
    "    xlab(\"WHO.Region\")\n",
    "\n",
    "dev.off()\n",
    "\n",
    "png(filename = \"img/Confirmed_boxplot.png\", units=\"in\", width=5, height=5, res=300)\n",
    "\n",
    "ggplot(df, aes(y=Confirmed)) + \n",
    "    geom_boxplot(fill=\"slateblue\", alpha=0.2) + \n",
    "    ggtitle(\"Boxplot of confirmed cases\") +\n",
    "    theme(\n",
    "        axis.text=element_text(size=6.5), \n",
    "        axis.title=element_text(size=14, face=\"bold\")\n",
    "    ) +\n",
    "    coord_cartesian(ylim = c(0, 120000))\n",
    "\n",
    "dev.off()\n",
    "\n",
    "png(filename = \"img/Confirmed_histogram.png\", units=\"in\", width=5, height=5, res=300)\n",
    "\n",
    "ggplot(df, aes(Confirmed)) +\n",
    "    geom_histogram( binwidth=4000, fill=\"#69b3a2\", color=\"#e9ecef\", alpha=0.9) +\n",
    "    ggtitle(\"Histogram of confirmed cases\") +\n",
    "    theme(plot.title = element_text(size=15)) +\n",
    "    xlim(0,120000)\n",
    "\n",
    "dev.off()"
   ]
  },
  {
   "cell_type": "markdown",
   "id": "b8302bf5",
   "metadata": {},
   "source": [
    "#### Deaths"
   ]
  },
  {
   "cell_type": "code",
   "execution_count": 11,
   "id": "71cd6f5c",
   "metadata": {
    "vscode": {
     "languageId": "r"
    }
   },
   "outputs": [
    {
     "data": {
      "text/html": [
       "<dl>\n",
       "\t<dt>$stats</dt>\n",
       "\t\t<dd><style>\n",
       ".list-inline {list-style: none; margin:0; padding: 0}\n",
       ".list-inline>li {display: inline-block}\n",
       ".list-inline>li:not(:last-child)::after {content: \"\\00b7\"; padding: 0 .5ex}\n",
       "</style>\n",
       "<ol class=list-inline><li>0</li><li>18</li><li>103.5</li><li>720</li><li>1764</li></ol>\n",
       "</dd>\n",
       "\t<dt>$n</dt>\n",
       "\t\t<dd>182</dd>\n",
       "\t<dt>$conf</dt>\n",
       "\t\t<dd><style>\n",
       ".list-inline {list-style: none; margin:0; padding: 0}\n",
       ".list-inline>li {display: inline-block}\n",
       ".list-inline>li:not(:last-child)::after {content: \"\\00b7\"; padding: 0 .5ex}\n",
       "</style>\n",
       "<ol class=list-inline><li>21.2835907932173</li><li>185.716409206783</li></ol>\n",
       "</dd>\n",
       "\t<dt>$out</dt>\n",
       "\t\t<dd><style>\n",
       ".list-inline {list-style: none; margin:0; padding: 0}\n",
       ".list-inline>li {display: inline-block}\n",
       ".list-inline>li:not(:last-child)::after {content: \"\\00b7\"; padding: 0 .5ex}\n",
       "</style>\n",
       "<ol class=list-inline><li>3059</li><li>2965</li><li>9822</li><li>2647</li><li>87618</li><li>9187</li><li>4656</li><li>8777</li><li>5532</li><li>4652</li><li>30212</li><li>9125</li><li>33408</li><li>4838</li><li>15912</li><li>4458</li><li>35112</li><li>44022</li><li>6160</li><li>5842</li><li>18418</li><li>1945</li><li>2206</li><li>13334</li><li>2760</li><li>7067</li><li>28432</li><li>1978</li><li>5630</li><li>148011</li><li>45844</li></ol>\n",
       "</dd>\n",
       "</dl>\n"
      ],
      "text/latex": [
       "\\begin{description}\n",
       "\\item[\\$stats] \\begin{enumerate*}\n",
       "\\item 0\n",
       "\\item 18\n",
       "\\item 103.5\n",
       "\\item 720\n",
       "\\item 1764\n",
       "\\end{enumerate*}\n",
       "\n",
       "\\item[\\$n] 182\n",
       "\\item[\\$conf] \\begin{enumerate*}\n",
       "\\item 21.2835907932173\n",
       "\\item 185.716409206783\n",
       "\\end{enumerate*}\n",
       "\n",
       "\\item[\\$out] \\begin{enumerate*}\n",
       "\\item 3059\n",
       "\\item 2965\n",
       "\\item 9822\n",
       "\\item 2647\n",
       "\\item 87618\n",
       "\\item 9187\n",
       "\\item 4656\n",
       "\\item 8777\n",
       "\\item 5532\n",
       "\\item 4652\n",
       "\\item 30212\n",
       "\\item 9125\n",
       "\\item 33408\n",
       "\\item 4838\n",
       "\\item 15912\n",
       "\\item 4458\n",
       "\\item 35112\n",
       "\\item 44022\n",
       "\\item 6160\n",
       "\\item 5842\n",
       "\\item 18418\n",
       "\\item 1945\n",
       "\\item 2206\n",
       "\\item 13334\n",
       "\\item 2760\n",
       "\\item 7067\n",
       "\\item 28432\n",
       "\\item 1978\n",
       "\\item 5630\n",
       "\\item 148011\n",
       "\\item 45844\n",
       "\\end{enumerate*}\n",
       "\n",
       "\\end{description}\n"
      ],
      "text/markdown": [
       "$stats\n",
       ":   1. 0\n",
       "2. 18\n",
       "3. 103.5\n",
       "4. 720\n",
       "5. 1764\n",
       "\n",
       "\n",
       "\n",
       "$n\n",
       ":   182\n",
       "$conf\n",
       ":   1. 21.2835907932173\n",
       "2. 185.716409206783\n",
       "\n",
       "\n",
       "\n",
       "$out\n",
       ":   1. 3059\n",
       "2. 2965\n",
       "3. 9822\n",
       "4. 2647\n",
       "5. 87618\n",
       "6. 9187\n",
       "7. 4656\n",
       "8. 8777\n",
       "9. 5532\n",
       "10. 4652\n",
       "11. 30212\n",
       "12. 9125\n",
       "13. 33408\n",
       "14. 4838\n",
       "15. 15912\n",
       "16. 4458\n",
       "17. 35112\n",
       "18. 44022\n",
       "19. 6160\n",
       "20. 5842\n",
       "21. 18418\n",
       "22. 1945\n",
       "23. 2206\n",
       "24. 13334\n",
       "25. 2760\n",
       "26. 7067\n",
       "27. 28432\n",
       "28. 1978\n",
       "29. 5630\n",
       "30. 148011\n",
       "31. 45844\n",
       "\n",
       "\n",
       "\n",
       "\n",
       "\n"
      ],
      "text/plain": [
       "$stats\n",
       "[1]    0.0   18.0  103.5  720.0 1764.0\n",
       "\n",
       "$n\n",
       "[1] 182\n",
       "\n",
       "$conf\n",
       "[1]  21.28359 185.71641\n",
       "\n",
       "$out\n",
       " [1]   3059   2965   9822   2647  87618   9187   4656   8777   5532   4652\n",
       "[11]  30212   9125  33408   4838  15912   4458  35112  44022   6160   5842\n",
       "[21]  18418   1945   2206  13334   2760   7067  28432   1978   5630 148011\n",
       "[31]  45844\n"
      ]
     },
     "metadata": {},
     "output_type": "display_data"
    }
   ],
   "source": [
    "boxplot.stats(df$Deaths)"
   ]
  },
  {
   "cell_type": "code",
   "execution_count": 12,
   "id": "e3e20828",
   "metadata": {
    "vscode": {
     "languageId": "r"
    }
   },
   "outputs": [
    {
     "data": {
      "image/png": "[encoded data removed]",
      "text/plain": [
       "plot without title"
      ]
     },
     "metadata": {
      "image/png": {
       "height": 420,
       "width": 420
      }
     },
     "output_type": "display_data"
    },
    {
     "data": {
      "image/png": "[encoded data removed]",
      "text/plain": [
       "plot without title"
      ]
     },
     "metadata": {
      "image/png": {
       "height": 420,
       "width": 420
      }
     },
     "output_type": "display_data"
    }
   ],
   "source": [
    "ggplot(df, aes(x=as.factor(WHO.Region), y=Deaths)) + \n",
    "    geom_boxplot(fill=\"slateblue\", alpha=0.2) + \n",
    "    ggtitle(\"Boxplots of deaths cases divided by WHO region\") +\n",
    "    theme(\n",
    "        axis.text=element_text(size=6.5), \n",
    "        axis.title=element_text(size=14,face=\"bold\")\n",
    "    ) +\n",
    "    coord_cartesian(ylim = c(0, 5000)) + \n",
    "    xlab(\"WHO.Region\")\n",
    "\n",
    "ggplot(df, aes(y=Deaths)) + \n",
    "    geom_boxplot(fill=\"slateblue\", alpha=0.2) + \n",
    "    ggtitle(\"Boxplot of deaths cases\") +\n",
    "    theme(\n",
    "        axis.text=element_text(size=6.5), \n",
    "        axis.title=element_text(size=14,face=\"bold\")\n",
    "    ) +\n",
    "    coord_cartesian(ylim = c(0, 5000)) "
   ]
  },
  {
   "cell_type": "code",
   "execution_count": 13,
   "id": "7a6941ce",
   "metadata": {
    "vscode": {
     "languageId": "r"
    }
   },
   "outputs": [
    {
     "name": "stderr",
     "output_type": "stream",
     "text": [
      "Warning message:\n",
      "\"\u001b[1m\u001b[22mRemoved 20 rows containing non-finite values (`stat_bin()`).\"\n",
      "Warning message:\n",
      "\"\u001b[1m\u001b[22mRemoved 2 rows containing missing values (`geom_bar()`).\"\n"
     ]
    },
    {
     "data": {
      "image/png": "[encoded data removed]",
      "text/plain": [
       "plot without title"
      ]
     },
     "metadata": {
      "image/png": {
       "height": 420,
       "width": 420
      }
     },
     "output_type": "display_data"
    }
   ],
   "source": [
    "ggplot(df, aes(Deaths)) +\n",
    "    geom_histogram( binwidth=150, fill=\"#69b3a2\", color=\"#e9ecef\", alpha=0.9) +\n",
    "    ggtitle(\"Histogram of deaths cases\") +\n",
    "    theme(plot.title = element_text(size=15)) +\n",
    "    xlim(0,5000)"
   ]
  },
  {
   "cell_type": "code",
   "execution_count": 14,
   "id": "882eccd2",
   "metadata": {
    "vscode": {
     "languageId": "r"
    }
   },
   "outputs": [
    {
     "data": {
      "text/html": [
       "<strong>png:</strong> 2"
      ],
      "text/latex": [
       "\\textbf{png:} 2"
      ],
      "text/markdown": [
       "**png:** 2"
      ],
      "text/plain": [
       "png \n",
       "  2 "
      ]
     },
     "metadata": {},
     "output_type": "display_data"
    },
    {
     "data": {
      "text/html": [
       "<strong>png:</strong> 2"
      ],
      "text/latex": [
       "\\textbf{png:} 2"
      ],
      "text/markdown": [
       "**png:** 2"
      ],
      "text/plain": [
       "png \n",
       "  2 "
      ]
     },
     "metadata": {},
     "output_type": "display_data"
    },
    {
     "name": "stderr",
     "output_type": "stream",
     "text": [
      "Warning message:\n",
      "\"\u001b[1m\u001b[22mRemoved 20 rows containing non-finite values (`stat_bin()`).\"\n",
      "Warning message:\n",
      "\"\u001b[1m\u001b[22mRemoved 2 rows containing missing values (`geom_bar()`).\"\n"
     ]
    },
    {
     "data": {
      "text/html": [
       "<strong>png:</strong> 2"
      ],
      "text/latex": [
       "\\textbf{png:} 2"
      ],
      "text/markdown": [
       "**png:** 2"
      ],
      "text/plain": [
       "png \n",
       "  2 "
      ]
     },
     "metadata": {},
     "output_type": "display_data"
    }
   ],
   "source": [
    "png(filename = \"img/Deaths_conditional_boxplot.png\", units=\"in\", width=5, height=5, res=300)\n",
    "\n",
    "ggplot(df, aes(x=as.factor(WHO.Region), y=Deaths)) + \n",
    "    geom_boxplot(fill=\"slateblue\", alpha=0.2) + \n",
    "    ggtitle(\"Boxplots of deaths cases divided by WHO region\") +\n",
    "    theme(\n",
    "        axis.text=element_text(size=6.5), \n",
    "        axis.title=element_text(size=14,face=\"bold\")\n",
    "    ) +\n",
    "    coord_cartesian(ylim = c(0, 5000)) +\n",
    "    xlab(\"WHO.Region\")\n",
    "\n",
    "dev.off()\n",
    "\n",
    "png(filename = \"img/Deaths_boxplot.png\", units=\"in\", width=5, height=5, res=300)\n",
    "\n",
    "ggplot(df, aes(y=Deaths)) + \n",
    "    geom_boxplot(fill=\"slateblue\", alpha=0.2) + \n",
    "    ggtitle(\"Boxplot of deaths cases\") +\n",
    "    theme(\n",
    "        axis.text=element_text(size=6.5), \n",
    "        axis.title=element_text(size=14, face=\"bold\")\n",
    "    ) +\n",
    "    coord_cartesian(ylim = c(0, 5000))\n",
    "\n",
    "dev.off()\n",
    "\n",
    "png(filename = \"img/Deaths_histogram.png\", units=\"in\", width=5, height=5, res=300)\n",
    "\n",
    "ggplot(df, aes(Deaths)) +\n",
    "    geom_histogram( binwidth=150, fill=\"#69b3a2\", color=\"#e9ecef\", alpha=0.9) +\n",
    "    ggtitle(\"Histogram of deaths cases\") +\n",
    "    theme(plot.title = element_text(size=15)) +\n",
    "    xlim(0,5000)\n",
    "\n",
    "dev.off()"
   ]
  },
  {
   "cell_type": "markdown",
   "id": "c2408ebb",
   "metadata": {},
   "source": [
    "#### Recovered"
   ]
  },
  {
   "cell_type": "code",
   "execution_count": 15,
   "id": "109f8d60",
   "metadata": {
    "vscode": {
     "languageId": "r"
    }
   },
   "outputs": [
    {
     "data": {
      "text/html": [
       "<dl>\n",
       "\t<dt>$stats</dt>\n",
       "\t\t<dd><style>\n",
       ".list-inline {list-style: none; margin:0; padding: 0}\n",
       ".list-inline>li {display: inline-block}\n",
       ".list-inline>li:not(:last-child)::after {content: \"\\00b7\"; padding: 0 .5ex}\n",
       "</style>\n",
       "<ol class=list-inline><li>0</li><li>714</li><li>3220</li><li>23364</li><li>57028</li></ol>\n",
       "</dd>\n",
       "\t<dt>$n</dt>\n",
       "\t\t<dd>182</dd>\n",
       "\t<dt>$conf</dt>\n",
       "\t\t<dd><style>\n",
       ".list-inline {list-style: none; margin:0; padding: 0}\n",
       ".list-inline>li {display: inline-block}\n",
       ".list-inline>li:not(:last-child)::after {content: \"\\00b7\"; padding: 0 .5ex}\n",
       "</style>\n",
       "<ol class=list-inline><li>567.291070464917</li><li>5872.70892953508</li></ol>\n",
       "</dd>\n",
       "\t<dt>$out</dt>\n",
       "\t\t<dd><style>\n",
       ".list-inline {list-style: none; margin:0; padding: 0}\n",
       ".list-inline>li {display: inline-block}\n",
       ".list-inline>li:not(:last-child)::after {content: \"\\00b7\"; padding: 0 .5ex}\n",
       "</style>\n",
       "<ol class=list-inline><li>72575</li><li>125683</li><li>60492</li><li>1846641</li><li>319954</li><li>78869</li><li>131161</li><li>81212</li><li>190314</li><li>951166</li><li>58173</li><li>255144</li><li>77144</li><li>198593</li><li>303810</li><li>241026</li><li>272547</li><li>106328</li><li>602249</li><li>222936</li><li>274925</li><li>150376</li><li>210469</li><li>1325804</li></ol>\n",
       "</dd>\n",
       "</dl>\n"
      ],
      "text/latex": [
       "\\begin{description}\n",
       "\\item[\\$stats] \\begin{enumerate*}\n",
       "\\item 0\n",
       "\\item 714\n",
       "\\item 3220\n",
       "\\item 23364\n",
       "\\item 57028\n",
       "\\end{enumerate*}\n",
       "\n",
       "\\item[\\$n] 182\n",
       "\\item[\\$conf] \\begin{enumerate*}\n",
       "\\item 567.291070464917\n",
       "\\item 5872.70892953508\n",
       "\\end{enumerate*}\n",
       "\n",
       "\\item[\\$out] \\begin{enumerate*}\n",
       "\\item 72575\n",
       "\\item 125683\n",
       "\\item 60492\n",
       "\\item 1846641\n",
       "\\item 319954\n",
       "\\item 78869\n",
       "\\item 131161\n",
       "\\item 81212\n",
       "\\item 190314\n",
       "\\item 951166\n",
       "\\item 58173\n",
       "\\item 255144\n",
       "\\item 77144\n",
       "\\item 198593\n",
       "\\item 303810\n",
       "\\item 241026\n",
       "\\item 272547\n",
       "\\item 106328\n",
       "\\item 602249\n",
       "\\item 222936\n",
       "\\item 274925\n",
       "\\item 150376\n",
       "\\item 210469\n",
       "\\item 1325804\n",
       "\\end{enumerate*}\n",
       "\n",
       "\\end{description}\n"
      ],
      "text/markdown": [
       "$stats\n",
       ":   1. 0\n",
       "2. 714\n",
       "3. 3220\n",
       "4. 23364\n",
       "5. 57028\n",
       "\n",
       "\n",
       "\n",
       "$n\n",
       ":   182\n",
       "$conf\n",
       ":   1. 567.291070464917\n",
       "2. 5872.70892953508\n",
       "\n",
       "\n",
       "\n",
       "$out\n",
       ":   1. 72575\n",
       "2. 125683\n",
       "3. 60492\n",
       "4. 1846641\n",
       "5. 319954\n",
       "6. 78869\n",
       "7. 131161\n",
       "8. 81212\n",
       "9. 190314\n",
       "10. 951166\n",
       "11. 58173\n",
       "12. 255144\n",
       "13. 77144\n",
       "14. 198593\n",
       "15. 303810\n",
       "16. 241026\n",
       "17. 272547\n",
       "18. 106328\n",
       "19. 602249\n",
       "20. 222936\n",
       "21. 274925\n",
       "22. 150376\n",
       "23. 210469\n",
       "24. 1325804\n",
       "\n",
       "\n",
       "\n",
       "\n",
       "\n"
      ],
      "text/plain": [
       "$stats\n",
       "[1]     0   714  3220 23364 57028\n",
       "\n",
       "$n\n",
       "[1] 182\n",
       "\n",
       "$conf\n",
       "[1]  567.2911 5872.7089\n",
       "\n",
       "$out\n",
       " [1]   72575  125683   60492 1846641  319954   78869  131161   81212  190314\n",
       "[10]  951166   58173  255144   77144  198593  303810  241026  272547  106328\n",
       "[19]  602249  222936  274925  150376  210469 1325804\n"
      ]
     },
     "metadata": {},
     "output_type": "display_data"
    }
   ],
   "source": [
    "boxplot.stats(df$Recovered)"
   ]
  },
  {
   "cell_type": "code",
   "execution_count": 16,
   "id": "af215917",
   "metadata": {
    "vscode": {
     "languageId": "r"
    }
   },
   "outputs": [
    {
     "data": {
      "image/png": "[encoded data removed]",
      "text/plain": [
       "plot without title"
      ]
     },
     "metadata": {
      "image/png": {
       "height": 420,
       "width": 420
      }
     },
     "output_type": "display_data"
    },
    {
     "data": {
      "image/png": "[encoded data removed]",
      "text/plain": [
       "plot without title"
      ]
     },
     "metadata": {
      "image/png": {
       "height": 420,
       "width": 420
      }
     },
     "output_type": "display_data"
    }
   ],
   "source": [
    "ggplot(df, aes(x=as.factor(WHO.Region), y=Recovered)) + \n",
    "    geom_boxplot(fill=\"slateblue\", alpha=0.2) + \n",
    "    ggtitle(\"Boxplots of recovered cases divided by WHO region\") +\n",
    "    theme(\n",
    "        axis.text=element_text(size=6.5), \n",
    "        axis.title=element_text(size=14, face=\"bold\")\n",
    "    ) +\n",
    "    coord_cartesian(ylim = c(0, 70000)) + \n",
    "    xlab(\"WHO.Region\")\n",
    "\n",
    "ggplot(df, aes(y=Recovered)) + \n",
    "    geom_boxplot(fill=\"slateblue\", alpha=0.2) + \n",
    "    ggtitle(\"Boxplot of recovered cases\") +\n",
    "    theme(\n",
    "        axis.text=element_text(size=6.5), \n",
    "        axis.title=element_text(size=14, face=\"bold\")\n",
    "    ) +\n",
    "    coord_cartesian(ylim = c(0, 70000)) "
   ]
  },
  {
   "cell_type": "code",
   "execution_count": 17,
   "id": "1730049c",
   "metadata": {
    "vscode": {
     "languageId": "r"
    }
   },
   "outputs": [
    {
     "name": "stderr",
     "output_type": "stream",
     "text": [
      "Warning message:\n",
      "\"\u001b[1m\u001b[22mRemoved 22 rows containing non-finite values (`stat_bin()`).\"\n",
      "Warning message:\n",
      "\"\u001b[1m\u001b[22mRemoved 2 rows containing missing values (`geom_bar()`).\"\n"
     ]
    },
    {
     "data": {
      "image/png": "[encoded data removed]",
      "text/plain": [
       "plot without title"
      ]
     },
     "metadata": {
      "image/png": {
       "height": 420,
       "width": 420
      }
     },
     "output_type": "display_data"
    }
   ],
   "source": [
    "ggplot(df, aes(x=Recovered)) +\n",
    "    geom_histogram( binwidth=3000, fill=\"#69b3a2\", color=\"#e9ecef\", alpha=0.9, position = 'identity') +\n",
    "    ggtitle(\"Histogram of recovered cases\") +\n",
    "    theme(plot.title = element_text(size=15)) +\n",
    "    xlim(0,70000)\n",
    "    "
   ]
  },
  {
   "cell_type": "code",
   "execution_count": 18,
   "id": "a20b9861",
   "metadata": {
    "vscode": {
     "languageId": "r"
    }
   },
   "outputs": [
    {
     "data": {
      "text/html": [
       "<strong>png:</strong> 2"
      ],
      "text/latex": [
       "\\textbf{png:} 2"
      ],
      "text/markdown": [
       "**png:** 2"
      ],
      "text/plain": [
       "png \n",
       "  2 "
      ]
     },
     "metadata": {},
     "output_type": "display_data"
    },
    {
     "data": {
      "text/html": [
       "<strong>png:</strong> 2"
      ],
      "text/latex": [
       "\\textbf{png:} 2"
      ],
      "text/markdown": [
       "**png:** 2"
      ],
      "text/plain": [
       "png \n",
       "  2 "
      ]
     },
     "metadata": {},
     "output_type": "display_data"
    },
    {
     "name": "stderr",
     "output_type": "stream",
     "text": [
      "Warning message:\n",
      "\"\u001b[1m\u001b[22mRemoved 22 rows containing non-finite values (`stat_bin()`).\"\n",
      "Warning message:\n",
      "\"\u001b[1m\u001b[22mRemoved 2 rows containing missing values (`geom_bar()`).\"\n"
     ]
    },
    {
     "data": {
      "text/html": [
       "<strong>png:</strong> 2"
      ],
      "text/latex": [
       "\\textbf{png:} 2"
      ],
      "text/markdown": [
       "**png:** 2"
      ],
      "text/plain": [
       "png \n",
       "  2 "
      ]
     },
     "metadata": {},
     "output_type": "display_data"
    }
   ],
   "source": [
    "png(filename = \"img/Recovered_conditional_boxplot.png\", units=\"in\", width=5, height=5, res=300)\n",
    "\n",
    "ggplot(df, aes(x=as.factor(WHO.Region), y=Recovered)) + \n",
    "    geom_boxplot(fill=\"slateblue\", alpha=0.2) + \n",
    "    ggtitle(\"Boxplots of recovered cases divided by WHO region\") +\n",
    "    theme(\n",
    "        axis.text=element_text(size=6.5), \n",
    "        axis.title=element_text(size=14,face=\"bold\")\n",
    "    ) +\n",
    "    coord_cartesian(ylim = c(0, 70000)) +\n",
    "    xlab(\"WHO.Region\")\n",
    "\n",
    "dev.off()\n",
    "\n",
    "png(filename = \"img/Recovered_boxplot.png\", units=\"in\", width=5, height=5, res=300)\n",
    "\n",
    "ggplot(df, aes(y=Recovered)) + \n",
    "    geom_boxplot(fill=\"slateblue\", alpha=0.2) + \n",
    "    ggtitle(\"Boxplot of confirmed cases\") +\n",
    "    theme(\n",
    "        axis.text=element_text(size=6.5), \n",
    "        axis.title=element_text(size=14, face=\"bold\")\n",
    "    ) +\n",
    "    coord_cartesian(ylim = c(0, 70000))\n",
    "\n",
    "dev.off()\n",
    "\n",
    "png(filename = \"img/Recovered_histogram.png\", units=\"in\", width=5, height=5, res=300)\n",
    "\n",
    "ggplot(df, aes(Recovered)) +\n",
    "    geom_histogram( binwidth=3000, fill=\"#69b3a2\", color=\"#e9ecef\", alpha=0.9) +\n",
    "    ggtitle(\"Histogram of confirmed cases\") +\n",
    "    theme(plot.title = element_text(size=15)) +\n",
    "    xlim(0,70000)\n",
    "\n",
    "dev.off()"
   ]
  },
  {
   "cell_type": "markdown",
   "id": "e7fc0196",
   "metadata": {},
   "source": [
    "#### Active"
   ]
  },
  {
   "cell_type": "code",
   "execution_count": 19,
   "id": "109f8d60",
   "metadata": {
    "vscode": {
     "languageId": "r"
    }
   },
   "outputs": [
    {
     "data": {
      "text/html": [
       "<dl>\n",
       "\t<dt>$stats</dt>\n",
       "\t\t<dd><style>\n",
       ".list-inline {list-style: none; margin:0; padding: 0}\n",
       ".list-inline>li {display: inline-block}\n",
       ".list-inline>li:not(:last-child)::after {content: \"\\00b7\"; padding: 0 .5ex}\n",
       "</style>\n",
       "<ol class=list-inline><li>0</li><li>129</li><li>1599</li><li>8870</li><li>19637</li></ol>\n",
       "</dd>\n",
       "\t<dt>$n</dt>\n",
       "\t\t<dd>182</dd>\n",
       "\t<dt>$conf</dt>\n",
       "\t\t<dd><style>\n",
       ".list-inline {list-style: none; margin:0; padding: 0}\n",
       ".list-inline>li {display: inline-block}\n",
       ".list-inline>li:not(:last-child)::after {content: \"\\00b7\"; padding: 0 .5ex}\n",
       "</style>\n",
       "<ol class=list-inline><li>575.27687624432</li><li>2622.72312375568</li></ol>\n",
       "</dd>\n",
       "\t<dt>$out</dt>\n",
       "\t\t<dd><style>\n",
       ".list-inline {list-style: none; margin:0; padding: 0}\n",
       ".list-inline>li {display: inline-block}\n",
       ".list-inline>li:not(:last-child)::after {content: \"\\00b7\"; padding: 0 .5ex}\n",
       "</style>\n",
       "<ol class=list-inline><li>91782</li><li>97577</li><li>39154</li><li>47056</li><li>508116</li><li>117163</li><li>32869</li><li>40733</li><li>52992</li><li>108928</li><li>33536</li><li>495499</li><li>37292</li><li>22550</li><li>30983</li><li>36378</li><li>29659</li><li>47657</li><li>47064</li><li>22117</li><li>27421</li><li>25034</li><li>98752</li><li>53649</li><li>201097</li><li>43238</li><li>170537</li><li>93613</li><li>2816444</li><li>28258</li><li>254427</li></ol>\n",
       "</dd>\n",
       "</dl>\n"
      ],
      "text/latex": [
       "\\begin{description}\n",
       "\\item[\\$stats] \\begin{enumerate*}\n",
       "\\item 0\n",
       "\\item 129\n",
       "\\item 1599\n",
       "\\item 8870\n",
       "\\item 19637\n",
       "\\end{enumerate*}\n",
       "\n",
       "\\item[\\$n] 182\n",
       "\\item[\\$conf] \\begin{enumerate*}\n",
       "\\item 575.27687624432\n",
       "\\item 2622.72312375568\n",
       "\\end{enumerate*}\n",
       "\n",
       "\\item[\\$out] \\begin{enumerate*}\n",
       "\\item 91782\n",
       "\\item 97577\n",
       "\\item 39154\n",
       "\\item 47056\n",
       "\\item 508116\n",
       "\\item 117163\n",
       "\\item 32869\n",
       "\\item 40733\n",
       "\\item 52992\n",
       "\\item 108928\n",
       "\\item 33536\n",
       "\\item 495499\n",
       "\\item 37292\n",
       "\\item 22550\n",
       "\\item 30983\n",
       "\\item 36378\n",
       "\\item 29659\n",
       "\\item 47657\n",
       "\\item 47064\n",
       "\\item 22117\n",
       "\\item 27421\n",
       "\\item 25034\n",
       "\\item 98752\n",
       "\\item 53649\n",
       "\\item 201097\n",
       "\\item 43238\n",
       "\\item 170537\n",
       "\\item 93613\n",
       "\\item 2816444\n",
       "\\item 28258\n",
       "\\item 254427\n",
       "\\end{enumerate*}\n",
       "\n",
       "\\end{description}\n"
      ],
      "text/markdown": [
       "$stats\n",
       ":   1. 0\n",
       "2. 129\n",
       "3. 1599\n",
       "4. 8870\n",
       "5. 19637\n",
       "\n",
       "\n",
       "\n",
       "$n\n",
       ":   182\n",
       "$conf\n",
       ":   1. 575.27687624432\n",
       "2. 2622.72312375568\n",
       "\n",
       "\n",
       "\n",
       "$out\n",
       ":   1. 91782\n",
       "2. 97577\n",
       "3. 39154\n",
       "4. 47056\n",
       "5. 508116\n",
       "6. 117163\n",
       "7. 32869\n",
       "8. 40733\n",
       "9. 52992\n",
       "10. 108928\n",
       "11. 33536\n",
       "12. 495499\n",
       "13. 37292\n",
       "14. 22550\n",
       "15. 30983\n",
       "16. 36378\n",
       "17. 29659\n",
       "18. 47657\n",
       "19. 47064\n",
       "20. 22117\n",
       "21. 27421\n",
       "22. 25034\n",
       "23. 98752\n",
       "24. 53649\n",
       "25. 201097\n",
       "26. 43238\n",
       "27. 170537\n",
       "28. 93613\n",
       "29. 2816444\n",
       "30. 28258\n",
       "31. 254427\n",
       "\n",
       "\n",
       "\n",
       "\n",
       "\n"
      ],
      "text/plain": [
       "$stats\n",
       "[1]     0   129  1599  8870 19637\n",
       "\n",
       "$n\n",
       "[1] 182\n",
       "\n",
       "$conf\n",
       "[1]  575.2769 2622.7231\n",
       "\n",
       "$out\n",
       " [1]   91782   97577   39154   47056  508116  117163   32869   40733   52992\n",
       "[10]  108928   33536  495499   37292   22550   30983   36378   29659   47657\n",
       "[19]   47064   22117   27421   25034   98752   53649  201097   43238  170537\n",
       "[28]   93613 2816444   28258  254427\n"
      ]
     },
     "metadata": {},
     "output_type": "display_data"
    }
   ],
   "source": [
    "boxplot.stats(df$Active)"
   ]
  },
  {
   "cell_type": "code",
   "execution_count": 20,
   "id": "af215917",
   "metadata": {
    "vscode": {
     "languageId": "r"
    }
   },
   "outputs": [
    {
     "data": {
      "image/png": "[encoded data removed]",
      "text/plain": [
       "plot without title"
      ]
     },
     "metadata": {
      "image/png": {
       "height": 420,
       "width": 420
      }
     },
     "output_type": "display_data"
    },
    {
     "data": {
      "image/png": "[encoded data removed]",
      "text/plain": [
       "plot without title"
      ]
     },
     "metadata": {
      "image/png": {
       "height": 420,
       "width": 420
      }
     },
     "output_type": "display_data"
    }
   ],
   "source": [
    "ggplot(df, aes(x=as.factor(WHO.Region), y=Active)) + \n",
    "    geom_boxplot(fill=\"slateblue\", alpha=0.2) + \n",
    "    ggtitle(\"Boxplots of active cases divided by WHO region\") +\n",
    "    theme(\n",
    "        axis.text=element_text(size=6.5), \n",
    "        axis.title=element_text(size=14, face=\"bold\")\n",
    "    ) +\n",
    "    coord_cartesian(ylim = c(0, 40000)) + \n",
    "    xlab(\"WHO.Region\")\n",
    "\n",
    "ggplot(df, aes(y=Active)) + \n",
    "    geom_boxplot(fill=\"slateblue\", alpha=0.2) + \n",
    "    ggtitle(\"Boxplot of active cases\") +\n",
    "    theme(\n",
    "        axis.text=element_text(size=6.5), \n",
    "        axis.title=element_text(size=14, face=\"bold\")\n",
    "    ) +\n",
    "    coord_cartesian(ylim = c(0, 40000)) "
   ]
  },
  {
   "cell_type": "code",
   "execution_count": 21,
   "id": "1730049c",
   "metadata": {
    "vscode": {
     "languageId": "r"
    }
   },
   "outputs": [
    {
     "name": "stderr",
     "output_type": "stream",
     "text": [
      "Warning message:\n",
      "\"\u001b[1m\u001b[22mRemoved 19 rows containing non-finite values (`stat_bin()`).\"\n",
      "Warning message:\n",
      "\"\u001b[1m\u001b[22mRemoved 2 rows containing missing values (`geom_bar()`).\"\n"
     ]
    },
    {
     "data": {
      "image/png": "[encoded data removed]",
      "text/plain": [
       "plot without title"
      ]
     },
     "metadata": {
      "image/png": {
       "height": 420,
       "width": 420
      }
     },
     "output_type": "display_data"
    }
   ],
   "source": [
    "ggplot(df, aes(x=Active)) +\n",
    "    geom_histogram( binwidth=2500, fill=\"#69b3a2\", color=\"#e9ecef\", alpha=0.9, position = 'identity') +\n",
    "    ggtitle(\"Histogram of active cases\") +\n",
    "    theme(plot.title = element_text(size=15)) +\n",
    "    xlim(0,40000)\n",
    "    "
   ]
  },
  {
   "cell_type": "code",
   "execution_count": 22,
   "id": "a20b9861",
   "metadata": {
    "vscode": {
     "languageId": "r"
    }
   },
   "outputs": [
    {
     "data": {
      "text/html": [
       "<strong>png:</strong> 2"
      ],
      "text/latex": [
       "\\textbf{png:} 2"
      ],
      "text/markdown": [
       "**png:** 2"
      ],
      "text/plain": [
       "png \n",
       "  2 "
      ]
     },
     "metadata": {},
     "output_type": "display_data"
    },
    {
     "data": {
      "text/html": [
       "<strong>png:</strong> 2"
      ],
      "text/latex": [
       "\\textbf{png:} 2"
      ],
      "text/markdown": [
       "**png:** 2"
      ],
      "text/plain": [
       "png \n",
       "  2 "
      ]
     },
     "metadata": {},
     "output_type": "display_data"
    },
    {
     "name": "stderr",
     "output_type": "stream",
     "text": [
      "Warning message:\n",
      "\"\u001b[1m\u001b[22mRemoved 19 rows containing non-finite values (`stat_bin()`).\"\n",
      "Warning message:\n",
      "\"\u001b[1m\u001b[22mRemoved 2 rows containing missing values (`geom_bar()`).\"\n"
     ]
    },
    {
     "data": {
      "text/html": [
       "<strong>png:</strong> 2"
      ],
      "text/latex": [
       "\\textbf{png:} 2"
      ],
      "text/markdown": [
       "**png:** 2"
      ],
      "text/plain": [
       "png \n",
       "  2 "
      ]
     },
     "metadata": {},
     "output_type": "display_data"
    }
   ],
   "source": [
    "png(filename = \"img/Active_conditional_boxplot.png\", units=\"in\", width=5, height=5, res=300)\n",
    "\n",
    "ggplot(df, aes(x=as.factor(WHO.Region), y=Active)) + \n",
    "    geom_boxplot(fill=\"slateblue\", alpha=0.2) + \n",
    "    ggtitle(\"Boxplots of active cases divided by WHO region\") +\n",
    "    theme(\n",
    "        axis.text=element_text(size=6.5), \n",
    "        axis.title=element_text(size=14,face=\"bold\")\n",
    "    ) +\n",
    "    coord_cartesian(ylim = c(0, 40000)) +\n",
    "    xlab(\"WHO.Region\")\n",
    "\n",
    "dev.off()\n",
    "\n",
    "png(filename = \"img/Active_boxplot.png\", units=\"in\", width=5, height=5, res=300)\n",
    "\n",
    "ggplot(df, aes(y=Active)) + \n",
    "    geom_boxplot(fill=\"slateblue\", alpha=0.2) + \n",
    "    ggtitle(\"Boxplot of active cases\") +\n",
    "    theme(\n",
    "        axis.text=element_text(size=6.5), \n",
    "        axis.title=element_text(size=14, face=\"bold\")\n",
    "    ) +\n",
    "    coord_cartesian(ylim = c(0, 40000))\n",
    "\n",
    "dev.off()\n",
    "\n",
    "png(filename = \"img/Active_histogram.png\", units=\"in\", width=5, height=5, res=300)\n",
    "\n",
    "ggplot(df, aes(Active)) +\n",
    "    geom_histogram( binwidth=2500, fill=\"#69b3a2\", color=\"#e9ecef\", alpha=0.9) +\n",
    "    ggtitle(\"Histogram of active cases\") +\n",
    "    theme(plot.title = element_text(size=15)) +\n",
    "    xlim(0,40000)\n",
    "\n",
    "dev.off()"
   ]
  },
  {
   "cell_type": "markdown",
   "id": "32b971c4",
   "metadata": {},
   "source": [
    "#### New cases"
   ]
  },
  {
   "cell_type": "code",
   "execution_count": 23,
   "id": "109f8d60",
   "metadata": {
    "vscode": {
     "languageId": "r"
    }
   },
   "outputs": [
    {
     "data": {
      "text/html": [
       "<dl>\n",
       "\t<dt>$stats</dt>\n",
       "\t\t<dd><style>\n",
       ".list-inline {list-style: none; margin:0; padding: 0}\n",
       ".list-inline>li {display: inline-block}\n",
       ".list-inline>li:not(:last-child)::after {content: \"\\00b7\"; padding: 0 .5ex}\n",
       "</style>\n",
       "<ol class=list-inline><li>0</li><li>4</li><li>49</li><li>420</li><li>919</li></ol>\n",
       "</dd>\n",
       "\t<dt>$n</dt>\n",
       "\t\t<dd>182</dd>\n",
       "\t<dt>$conf</dt>\n",
       "\t\t<dd><style>\n",
       ".list-inline {list-style: none; margin:0; padding: 0}\n",
       ".list-inline>li {display: inline-block}\n",
       ".list-inline>li:not(:last-child)::after {content: \"\\00b7\"; padding: 0 .5ex}\n",
       "</style>\n",
       "<ol class=list-inline><li>0.279164914499141</li><li>97.7208350855009</li></ol>\n",
       "</dd>\n",
       "\t<dt>$out</dt>\n",
       "\t\t<dd><style>\n",
       ".list-inline {list-style: none; margin:0; padding: 0}\n",
       ".list-inline>li {display: inline-block}\n",
       ".list-inline>li:not(:last-child)::after {content: \"\\00b7\"; padding: 0 .5ex}\n",
       "</style>\n",
       "<ol class=list-inline><li>4890</li><li>2772</li><li>1752</li><li>23284</li><li>2133</li><li>16306</li><li>1248</li><li>2551</li><li>44457</li><li>1525</li><li>2434</li><li>2553</li><li>2029</li><li>1526</li><li>4973</li><li>1053</li><li>1176</li><li>1146</li><li>13756</li><li>1592</li><li>1104</li><li>5607</li><li>1993</li><li>7096</li><li>56336</li></ol>\n",
       "</dd>\n",
       "</dl>\n"
      ],
      "text/latex": [
       "\\begin{description}\n",
       "\\item[\\$stats] \\begin{enumerate*}\n",
       "\\item 0\n",
       "\\item 4\n",
       "\\item 49\n",
       "\\item 420\n",
       "\\item 919\n",
       "\\end{enumerate*}\n",
       "\n",
       "\\item[\\$n] 182\n",
       "\\item[\\$conf] \\begin{enumerate*}\n",
       "\\item 0.279164914499141\n",
       "\\item 97.7208350855009\n",
       "\\end{enumerate*}\n",
       "\n",
       "\\item[\\$out] \\begin{enumerate*}\n",
       "\\item 4890\n",
       "\\item 2772\n",
       "\\item 1752\n",
       "\\item 23284\n",
       "\\item 2133\n",
       "\\item 16306\n",
       "\\item 1248\n",
       "\\item 2551\n",
       "\\item 44457\n",
       "\\item 1525\n",
       "\\item 2434\n",
       "\\item 2553\n",
       "\\item 2029\n",
       "\\item 1526\n",
       "\\item 4973\n",
       "\\item 1053\n",
       "\\item 1176\n",
       "\\item 1146\n",
       "\\item 13756\n",
       "\\item 1592\n",
       "\\item 1104\n",
       "\\item 5607\n",
       "\\item 1993\n",
       "\\item 7096\n",
       "\\item 56336\n",
       "\\end{enumerate*}\n",
       "\n",
       "\\end{description}\n"
      ],
      "text/markdown": [
       "$stats\n",
       ":   1. 0\n",
       "2. 4\n",
       "3. 49\n",
       "4. 420\n",
       "5. 919\n",
       "\n",
       "\n",
       "\n",
       "$n\n",
       ":   182\n",
       "$conf\n",
       ":   1. 0.279164914499141\n",
       "2. 97.7208350855009\n",
       "\n",
       "\n",
       "\n",
       "$out\n",
       ":   1. 4890\n",
       "2. 2772\n",
       "3. 1752\n",
       "4. 23284\n",
       "5. 2133\n",
       "6. 16306\n",
       "7. 1248\n",
       "8. 2551\n",
       "9. 44457\n",
       "10. 1525\n",
       "11. 2434\n",
       "12. 2553\n",
       "13. 2029\n",
       "14. 1526\n",
       "15. 4973\n",
       "16. 1053\n",
       "17. 1176\n",
       "18. 1146\n",
       "19. 13756\n",
       "20. 1592\n",
       "21. 1104\n",
       "22. 5607\n",
       "23. 1993\n",
       "24. 7096\n",
       "25. 56336\n",
       "\n",
       "\n",
       "\n",
       "\n",
       "\n"
      ],
      "text/plain": [
       "$stats\n",
       "[1]   0   4  49 420 919\n",
       "\n",
       "$n\n",
       "[1] 182\n",
       "\n",
       "$conf\n",
       "[1]  0.2791649 97.7208351\n",
       "\n",
       "$out\n",
       " [1]  4890  2772  1752 23284  2133 16306  1248  2551 44457  1525  2434  2553\n",
       "[13]  2029  1526  4973  1053  1176  1146 13756  1592  1104  5607  1993  7096\n",
       "[25] 56336\n"
      ]
     },
     "metadata": {},
     "output_type": "display_data"
    }
   ],
   "source": [
    "boxplot.stats(df$New.cases)"
   ]
  },
  {
   "cell_type": "code",
   "execution_count": 24,
   "id": "af215917",
   "metadata": {
    "vscode": {
     "languageId": "r"
    }
   },
   "outputs": [
    {
     "data": {
      "image/png": "[encoded data removed]",
      "text/plain": [
       "plot without title"
      ]
     },
     "metadata": {
      "image/png": {
       "height": 420,
       "width": 420
      }
     },
     "output_type": "display_data"
    },
    {
     "data": {
      "image/png": "[encoded data removed]",
      "text/plain": [
       "plot without title"
      ]
     },
     "metadata": {
      "image/png": {
       "height": 420,
       "width": 420
      }
     },
     "output_type": "display_data"
    }
   ],
   "source": [
    "ggplot(df, aes(x=as.factor(WHO.Region), y=New.cases)) + \n",
    "    geom_boxplot(fill=\"slateblue\", alpha=0.2) + \n",
    "    ggtitle(\"Boxplots of new cases divided by WHO region\") +\n",
    "    theme(\n",
    "        axis.text=element_text(size=6.5), \n",
    "        axis.title=element_text(size=14, face=\"bold\")\n",
    "    ) +\n",
    "    coord_cartesian(ylim = c(0, 1600)) + \n",
    "    xlab(\"WHO.Region\")\n",
    "\n",
    "ggplot(df, aes(y=New.cases)) + \n",
    "    geom_boxplot(fill=\"slateblue\", alpha=0.2) + \n",
    "    ggtitle(\"Boxplot of new cases\") +\n",
    "    theme(\n",
    "        axis.text=element_text(size=6.5), \n",
    "        axis.title=element_text(size=14, face=\"bold\")\n",
    "    ) +\n",
    "    coord_cartesian(ylim = c(0, 1600)) "
   ]
  },
  {
   "cell_type": "code",
   "execution_count": 25,
   "id": "1730049c",
   "metadata": {
    "vscode": {
     "languageId": "r"
    }
   },
   "outputs": [
    {
     "name": "stderr",
     "output_type": "stream",
     "text": [
      "Warning message:\n",
      "\"\u001b[1m\u001b[22mRemoved 17 rows containing non-finite values (`stat_bin()`).\"\n",
      "Warning message:\n",
      "\"\u001b[1m\u001b[22mRemoved 2 rows containing missing values (`geom_bar()`).\"\n"
     ]
    },
    {
     "data": {
      "image/png": "[encoded data removed]",
      "text/plain": [
       "plot without title"
      ]
     },
     "metadata": {
      "image/png": {
       "height": 420,
       "width": 420
      }
     },
     "output_type": "display_data"
    }
   ],
   "source": [
    "ggplot(df, aes(x=New.cases)) +\n",
    "    geom_histogram( binwidth=70, fill=\"#69b3a2\", color=\"#e9ecef\", alpha=0.9, position = 'identity') +\n",
    "    ggtitle(\"Histogram of new cases\") +\n",
    "    theme(plot.title = element_text(size=15)) +\n",
    "    xlim(0,1600)\n",
    "    "
   ]
  },
  {
   "cell_type": "code",
   "execution_count": 26,
   "id": "a20b9861",
   "metadata": {
    "vscode": {
     "languageId": "r"
    }
   },
   "outputs": [
    {
     "data": {
      "text/html": [
       "<strong>png:</strong> 2"
      ],
      "text/latex": [
       "\\textbf{png:} 2"
      ],
      "text/markdown": [
       "**png:** 2"
      ],
      "text/plain": [
       "png \n",
       "  2 "
      ]
     },
     "metadata": {},
     "output_type": "display_data"
    },
    {
     "data": {
      "text/html": [
       "<strong>png:</strong> 2"
      ],
      "text/latex": [
       "\\textbf{png:} 2"
      ],
      "text/markdown": [
       "**png:** 2"
      ],
      "text/plain": [
       "png \n",
       "  2 "
      ]
     },
     "metadata": {},
     "output_type": "display_data"
    },
    {
     "name": "stderr",
     "output_type": "stream",
     "text": [
      "Warning message:\n",
      "\"\u001b[1m\u001b[22mRemoved 17 rows containing non-finite values (`stat_bin()`).\"\n",
      "Warning message:\n",
      "\"\u001b[1m\u001b[22mRemoved 2 rows containing missing values (`geom_bar()`).\"\n"
     ]
    },
    {
     "data": {
      "text/html": [
       "<strong>png:</strong> 2"
      ],
      "text/latex": [
       "\\textbf{png:} 2"
      ],
      "text/markdown": [
       "**png:** 2"
      ],
      "text/plain": [
       "png \n",
       "  2 "
      ]
     },
     "metadata": {},
     "output_type": "display_data"
    }
   ],
   "source": [
    "png(filename = \"img/New_cases_conditional_boxplot.png\", units=\"in\", width=5, height=5, res=300)\n",
    "\n",
    "ggplot(df, aes(x=as.factor(WHO.Region), y=New.cases)) + \n",
    "    geom_boxplot(fill=\"slateblue\", alpha=0.2) + \n",
    "    ggtitle(\"Boxplots of new cases divided by WHO region\") +\n",
    "    theme(\n",
    "        axis.text=element_text(size=6.5), \n",
    "        axis.title=element_text(size=14,face=\"bold\")\n",
    "    ) +\n",
    "    coord_cartesian(ylim = c(0, 1600)) +\n",
    "    xlab(\"WHO.Region\")\n",
    "\n",
    "dev.off()\n",
    "\n",
    "png(filename = \"img/New_cases_boxplot.png\", units=\"in\", width=5, height=5, res=300)\n",
    "\n",
    "ggplot(df, aes(y=New.cases)) + \n",
    "    geom_boxplot(fill=\"slateblue\", alpha=0.2) + \n",
    "    ggtitle(\"Boxplot of new cases\") +\n",
    "    theme(\n",
    "        axis.text=element_text(size=6.5), \n",
    "        axis.title=element_text(size=14, face=\"bold\")\n",
    "    ) +\n",
    "    coord_cartesian(ylim = c(0, 1600))\n",
    "\n",
    "dev.off()\n",
    "\n",
    "png(filename = \"img/New_cases_histogram.png\", units=\"in\", width=5, height=5, res=300)\n",
    "\n",
    "ggplot(df, aes(New.cases)) +\n",
    "    geom_histogram( binwidth=70, fill=\"#69b3a2\", color=\"#e9ecef\", alpha=0.9) +\n",
    "    ggtitle(\"Histogram of new cases\") +\n",
    "    theme(plot.title = element_text(size=15)) +\n",
    "    xlim(0,1600)\n",
    "\n",
    "dev.off()"
   ]
  },
  {
   "cell_type": "markdown",
   "id": "99cf941f",
   "metadata": {},
   "source": [
    "#### New deaths"
   ]
  },
  {
   "cell_type": "code",
   "execution_count": 27,
   "id": "109f8d60",
   "metadata": {
    "vscode": {
     "languageId": "r"
    }
   },
   "outputs": [
    {
     "data": {
      "text/html": [
       "<dl>\n",
       "\t<dt>$stats</dt>\n",
       "\t\t<dd><style>\n",
       ".list-inline {list-style: none; margin:0; padding: 0}\n",
       ".list-inline>li {display: inline-block}\n",
       ".list-inline>li:not(:last-child)::after {content: \"\\00b7\"; padding: 0 .5ex}\n",
       "</style>\n",
       "<ol class=list-inline><li>0</li><li>0</li><li>1</li><li>6</li><li>14</li></ol>\n",
       "</dd>\n",
       "\t<dt>$n</dt>\n",
       "\t\t<dd>182</dd>\n",
       "\t<dt>$conf</dt>\n",
       "\t\t<dd><style>\n",
       ".list-inline {list-style: none; margin:0; padding: 0}\n",
       ".list-inline>li {display: inline-block}\n",
       ".list-inline>li:not(:last-child)::after {content: \"\\00b7\"; padding: 0 .5ex}\n",
       "</style>\n",
       "<ol class=list-inline><li>0.297295647805276</li><li>1.70270435219472</li></ol>\n",
       "</dd>\n",
       "\t<dt>$out</dt>\n",
       "\t\t<dd><style>\n",
       ".list-inline {list-style: none; margin:0; padding: 0}\n",
       ".list-inline>li {display: inline-block}\n",
       ".list-inline>li:not(:last-child)::after {content: \"\\00b7\"; padding: 0 .5ex}\n",
       "</style>\n",
       "<ol class=list-inline><li>120</li><li>37</li><li>64</li><li>614</li><li>75</li><li>508</li><li>20</li><li>17</li><li>46</li><li>17</li><li>27</li><li>50</li><li>637</li><li>57</li><li>212</li><li>96</li><li>16</li><li>24</li><li>342</li><li>20</li><li>28</li><li>575</li><li>19</li><li>85</li><li>27</li><li>298</li><li>17</li><li>1076</li></ol>\n",
       "</dd>\n",
       "</dl>\n"
      ],
      "text/latex": [
       "\\begin{description}\n",
       "\\item[\\$stats] \\begin{enumerate*}\n",
       "\\item 0\n",
       "\\item 0\n",
       "\\item 1\n",
       "\\item 6\n",
       "\\item 14\n",
       "\\end{enumerate*}\n",
       "\n",
       "\\item[\\$n] 182\n",
       "\\item[\\$conf] \\begin{enumerate*}\n",
       "\\item 0.297295647805276\n",
       "\\item 1.70270435219472\n",
       "\\end{enumerate*}\n",
       "\n",
       "\\item[\\$out] \\begin{enumerate*}\n",
       "\\item 120\n",
       "\\item 37\n",
       "\\item 64\n",
       "\\item 614\n",
       "\\item 75\n",
       "\\item 508\n",
       "\\item 20\n",
       "\\item 17\n",
       "\\item 46\n",
       "\\item 17\n",
       "\\item 27\n",
       "\\item 50\n",
       "\\item 637\n",
       "\\item 57\n",
       "\\item 212\n",
       "\\item 96\n",
       "\\item 16\n",
       "\\item 24\n",
       "\\item 342\n",
       "\\item 20\n",
       "\\item 28\n",
       "\\item 575\n",
       "\\item 19\n",
       "\\item 85\n",
       "\\item 27\n",
       "\\item 298\n",
       "\\item 17\n",
       "\\item 1076\n",
       "\\end{enumerate*}\n",
       "\n",
       "\\end{description}\n"
      ],
      "text/markdown": [
       "$stats\n",
       ":   1. 0\n",
       "2. 0\n",
       "3. 1\n",
       "4. 6\n",
       "5. 14\n",
       "\n",
       "\n",
       "\n",
       "$n\n",
       ":   182\n",
       "$conf\n",
       ":   1. 0.297295647805276\n",
       "2. 1.70270435219472\n",
       "\n",
       "\n",
       "\n",
       "$out\n",
       ":   1. 120\n",
       "2. 37\n",
       "3. 64\n",
       "4. 614\n",
       "5. 75\n",
       "6. 508\n",
       "7. 20\n",
       "8. 17\n",
       "9. 46\n",
       "10. 17\n",
       "11. 27\n",
       "12. 50\n",
       "13. 637\n",
       "14. 57\n",
       "15. 212\n",
       "16. 96\n",
       "17. 16\n",
       "18. 24\n",
       "19. 342\n",
       "20. 20\n",
       "21. 28\n",
       "22. 575\n",
       "23. 19\n",
       "24. 85\n",
       "25. 27\n",
       "26. 298\n",
       "27. 17\n",
       "28. 1076\n",
       "\n",
       "\n",
       "\n",
       "\n",
       "\n"
      ],
      "text/plain": [
       "$stats\n",
       "[1]  0  0  1  6 14\n",
       "\n",
       "$n\n",
       "[1] 182\n",
       "\n",
       "$conf\n",
       "[1] 0.2972956 1.7027044\n",
       "\n",
       "$out\n",
       " [1]  120   37   64  614   75  508   20   17   46   17   27   50  637   57  212\n",
       "[16]   96   16   24  342   20   28  575   19   85   27  298   17 1076\n"
      ]
     },
     "metadata": {},
     "output_type": "display_data"
    }
   ],
   "source": [
    "boxplot.stats(df$New.deaths)"
   ]
  },
  {
   "cell_type": "code",
   "execution_count": 28,
   "id": "af215917",
   "metadata": {
    "vscode": {
     "languageId": "r"
    }
   },
   "outputs": [
    {
     "data": {
      "image/png": "[encoded data removed]",
      "text/plain": [
       "plot without title"
      ]
     },
     "metadata": {
      "image/png": {
       "height": 420,
       "width": 420
      }
     },
     "output_type": "display_data"
    },
    {
     "data": {
      "image/png": "[encoded data removed]",
      "text/plain": [
       "plot without title"
      ]
     },
     "metadata": {
      "image/png": {
       "height": 420,
       "width": 420
      }
     },
     "output_type": "display_data"
    }
   ],
   "source": [
    "ggplot(df, aes(x=as.factor(WHO.Region), y=New.deaths)) + \n",
    "    geom_boxplot(fill=\"slateblue\", alpha=0.2) + \n",
    "    ggtitle(\"Boxplots of new deaths cases divided by WHO region\") +\n",
    "    theme(\n",
    "        axis.text=element_text(size=6.5), \n",
    "        axis.title=element_text(size=14, face=\"bold\")\n",
    "    ) +\n",
    "    coord_cartesian(ylim = c(0, 60)) + \n",
    "    xlab(\"WHO.Region\")\n",
    "\n",
    "ggplot(df, aes(y=New.deaths)) + \n",
    "    geom_boxplot(fill=\"slateblue\", alpha=0.2) + \n",
    "    ggtitle(\"Boxplot of new deaths cases\") +\n",
    "    theme(\n",
    "        axis.text=element_text(size=6.5), \n",
    "        axis.title=element_text(size=14, face=\"bold\")\n",
    "    ) +\n",
    "    coord_cartesian(ylim = c(0, 60)) "
   ]
  },
  {
   "cell_type": "code",
   "execution_count": 29,
   "id": "1730049c",
   "metadata": {
    "vscode": {
     "languageId": "r"
    }
   },
   "outputs": [
    {
     "name": "stderr",
     "output_type": "stream",
     "text": [
      "Warning message:\n",
      "\"\u001b[1m\u001b[22mRemoved 13 rows containing non-finite values (`stat_bin()`).\"\n",
      "Warning message:\n",
      "\"\u001b[1m\u001b[22mRemoved 2 rows containing missing values (`geom_bar()`).\"\n"
     ]
    },
    {
     "data": {
      "image/png": "[encoded data removed]",
      "text/plain": [
       "plot without title"
      ]
     },
     "metadata": {
      "image/png": {
       "height": 420,
       "width": 420
      }
     },
     "output_type": "display_data"
    }
   ],
   "source": [
    "ggplot(df, aes(x=New.deaths)) +\n",
    "    geom_histogram( binwidth=5, fill=\"#69b3a2\", color=\"#e9ecef\", alpha=0.9, position = 'identity') +\n",
    "    ggtitle(\"Histogram of new deaths cases\") +\n",
    "    theme(plot.title = element_text(size=15)) +\n",
    "    xlim(0,60)\n",
    "    "
   ]
  },
  {
   "cell_type": "code",
   "execution_count": 30,
   "id": "a20b9861",
   "metadata": {
    "vscode": {
     "languageId": "r"
    }
   },
   "outputs": [
    {
     "data": {
      "text/html": [
       "<strong>png:</strong> 2"
      ],
      "text/latex": [
       "\\textbf{png:} 2"
      ],
      "text/markdown": [
       "**png:** 2"
      ],
      "text/plain": [
       "png \n",
       "  2 "
      ]
     },
     "metadata": {},
     "output_type": "display_data"
    },
    {
     "data": {
      "text/html": [
       "<strong>png:</strong> 2"
      ],
      "text/latex": [
       "\\textbf{png:} 2"
      ],
      "text/markdown": [
       "**png:** 2"
      ],
      "text/plain": [
       "png \n",
       "  2 "
      ]
     },
     "metadata": {},
     "output_type": "display_data"
    },
    {
     "name": "stderr",
     "output_type": "stream",
     "text": [
      "Warning message:\n",
      "\"\u001b[1m\u001b[22mRemoved 13 rows containing non-finite values (`stat_bin()`).\"\n",
      "Warning message:\n",
      "\"\u001b[1m\u001b[22mRemoved 2 rows containing missing values (`geom_bar()`).\"\n"
     ]
    },
    {
     "data": {
      "text/html": [
       "<strong>png:</strong> 2"
      ],
      "text/latex": [
       "\\textbf{png:} 2"
      ],
      "text/markdown": [
       "**png:** 2"
      ],
      "text/plain": [
       "png \n",
       "  2 "
      ]
     },
     "metadata": {},
     "output_type": "display_data"
    }
   ],
   "source": [
    "png(filename = \"img/New_deaths_conditional_boxplot.png\", units=\"in\", width=5, height=5, res=300)\n",
    "\n",
    "ggplot(df, aes(x=as.factor(WHO.Region), y=New.deaths)) + \n",
    "    geom_boxplot(fill=\"slateblue\", alpha=0.2) + \n",
    "    ggtitle(\"Boxplots of new deaths cases divided by WHO region\") +\n",
    "    theme(\n",
    "        axis.text=element_text(size=6.5), \n",
    "        axis.title=element_text(size=14,face=\"bold\")\n",
    "    ) +\n",
    "    coord_cartesian(ylim = c(0, 60)) +\n",
    "    xlab(\"WHO.Region\")\n",
    "\n",
    "dev.off()\n",
    "\n",
    "png(filename = \"img/New_deaths_boxplot.png\", units=\"in\", width=5, height=5, res=300)\n",
    "\n",
    "ggplot(df, aes(y=New.deaths)) + \n",
    "    geom_boxplot(fill=\"slateblue\", alpha=0.2) + \n",
    "    ggtitle(\"Boxplot of new deaths cases\") +\n",
    "    theme(\n",
    "        axis.text=element_text(size=6.5), \n",
    "        axis.title=element_text(size=14, face=\"bold\")\n",
    "    ) +\n",
    "    coord_cartesian(ylim = c(0, 60))\n",
    "\n",
    "dev.off()\n",
    "\n",
    "png(filename = \"img/New_deaths_histogram.png\", units=\"in\", width=5, height=5, res=300)\n",
    "\n",
    "ggplot(df, aes(New.deaths)) +\n",
    "    geom_histogram( binwidth=5, fill=\"#69b3a2\", color=\"#e9ecef\", alpha=0.9) +\n",
    "    ggtitle(\"Histogram of new deaths cases\") +\n",
    "    theme(plot.title = element_text(size=15)) +\n",
    "    xlim(0,60)\n",
    "\n",
    "dev.off()"
   ]
  },
  {
   "cell_type": "markdown",
   "id": "aca5106b",
   "metadata": {},
   "source": [
    "#### New recovered"
   ]
  },
  {
   "cell_type": "code",
   "execution_count": 31,
   "id": "109f8d60",
   "metadata": {
    "vscode": {
     "languageId": "r"
    }
   },
   "outputs": [
    {
     "data": {
      "text/html": [
       "<dl>\n",
       "\t<dt>$stats</dt>\n",
       "\t\t<dd><style>\n",
       ".list-inline {list-style: none; margin:0; padding: 0}\n",
       ".list-inline>li {display: inline-block}\n",
       ".list-inline>li:not(:last-child)::after {content: \"\\00b7\"; padding: 0 .5ex}\n",
       "</style>\n",
       "<ol class=list-inline><li>0</li><li>0</li><li>24</li><li>230</li><li>569</li></ol>\n",
       "</dd>\n",
       "\t<dt>$n</dt>\n",
       "\t\t<dd>182</dd>\n",
       "\t<dt>$conf</dt>\n",
       "\t\t<dd><style>\n",
       ".list-inline {list-style: none; margin:0; padding: 0}\n",
       ".list-inline>li {display: inline-block}\n",
       ".list-inline>li:not(:last-child)::after {content: \"\\00b7\"; padding: 0 .5ex}\n",
       "</style>\n",
       "<ol class=list-inline><li>-2.93700016746442</li><li>50.9370001674644</li></ol>\n",
       "</dd>\n",
       "\t<dt>$out</dt>\n",
       "\t\t<dd><style>\n",
       ".list-inline {list-style: none; margin:0; padding: 0}\n",
       ".list-inline>li {display: inline-block}\n",
       ".list-inline>li:not(:last-child)::after {content: \"\\00b7\"; padding: 0 .5ex}\n",
       "</style>\n",
       "<ol class=list-inline><li>749</li><li>2057</li><li>1801</li><li>33728</li><li>1859</li><li>11494</li><li>1601</li><li>1007</li><li>843</li><li>33598</li><li>1518</li><li>1931</li><li>1927</li><li>1833</li><li>684</li><li>817</li><li>681</li><li>8588</li><li>626</li><li>829</li><li>1729</li><li>3592</li><li>955</li><li>4697</li><li>3077</li><li>2613</li><li>9848</li><li>982</li><li>27941</li></ol>\n",
       "</dd>\n",
       "</dl>\n"
      ],
      "text/latex": [
       "\\begin{description}\n",
       "\\item[\\$stats] \\begin{enumerate*}\n",
       "\\item 0\n",
       "\\item 0\n",
       "\\item 24\n",
       "\\item 230\n",
       "\\item 569\n",
       "\\end{enumerate*}\n",
       "\n",
       "\\item[\\$n] 182\n",
       "\\item[\\$conf] \\begin{enumerate*}\n",
       "\\item -2.93700016746442\n",
       "\\item 50.9370001674644\n",
       "\\end{enumerate*}\n",
       "\n",
       "\\item[\\$out] \\begin{enumerate*}\n",
       "\\item 749\n",
       "\\item 2057\n",
       "\\item 1801\n",
       "\\item 33728\n",
       "\\item 1859\n",
       "\\item 11494\n",
       "\\item 1601\n",
       "\\item 1007\n",
       "\\item 843\n",
       "\\item 33598\n",
       "\\item 1518\n",
       "\\item 1931\n",
       "\\item 1927\n",
       "\\item 1833\n",
       "\\item 684\n",
       "\\item 817\n",
       "\\item 681\n",
       "\\item 8588\n",
       "\\item 626\n",
       "\\item 829\n",
       "\\item 1729\n",
       "\\item 3592\n",
       "\\item 955\n",
       "\\item 4697\n",
       "\\item 3077\n",
       "\\item 2613\n",
       "\\item 9848\n",
       "\\item 982\n",
       "\\item 27941\n",
       "\\end{enumerate*}\n",
       "\n",
       "\\end{description}\n"
      ],
      "text/markdown": [
       "$stats\n",
       ":   1. 0\n",
       "2. 0\n",
       "3. 24\n",
       "4. 230\n",
       "5. 569\n",
       "\n",
       "\n",
       "\n",
       "$n\n",
       ":   182\n",
       "$conf\n",
       ":   1. -2.93700016746442\n",
       "2. 50.9370001674644\n",
       "\n",
       "\n",
       "\n",
       "$out\n",
       ":   1. 749\n",
       "2. 2057\n",
       "3. 1801\n",
       "4. 33728\n",
       "5. 1859\n",
       "6. 11494\n",
       "7. 1601\n",
       "8. 1007\n",
       "9. 843\n",
       "10. 33598\n",
       "11. 1518\n",
       "12. 1931\n",
       "13. 1927\n",
       "14. 1833\n",
       "15. 684\n",
       "16. 817\n",
       "17. 681\n",
       "18. 8588\n",
       "19. 626\n",
       "20. 829\n",
       "21. 1729\n",
       "22. 3592\n",
       "23. 955\n",
       "24. 4697\n",
       "25. 3077\n",
       "26. 2613\n",
       "27. 9848\n",
       "28. 982\n",
       "29. 27941\n",
       "\n",
       "\n",
       "\n",
       "\n",
       "\n"
      ],
      "text/plain": [
       "$stats\n",
       "[1]   0   0  24 230 569\n",
       "\n",
       "$n\n",
       "[1] 182\n",
       "\n",
       "$conf\n",
       "[1] -2.937 50.937\n",
       "\n",
       "$out\n",
       " [1]   749  2057  1801 33728  1859 11494  1601  1007   843 33598  1518  1931\n",
       "[13]  1927  1833   684   817   681  8588   626   829  1729  3592   955  4697\n",
       "[25]  3077  2613  9848   982 27941\n"
      ]
     },
     "metadata": {},
     "output_type": "display_data"
    }
   ],
   "source": [
    "boxplot.stats(df$New.recovered)"
   ]
  },
  {
   "cell_type": "code",
   "execution_count": 32,
   "id": "af215917",
   "metadata": {
    "vscode": {
     "languageId": "r"
    }
   },
   "outputs": [
    {
     "data": {
      "image/png": "[encoded data removed]",
      "text/plain": [
       "plot without title"
      ]
     },
     "metadata": {
      "image/png": {
       "height": 420,
       "width": 420
      }
     },
     "output_type": "display_data"
    },
    {
     "data": {
      "image/png": "[encoded data removed]",
      "text/plain": [
       "plot without title"
      ]
     },
     "metadata": {
      "image/png": {
       "height": 420,
       "width": 420
      }
     },
     "output_type": "display_data"
    }
   ],
   "source": [
    "ggplot(df, aes(x=as.factor(WHO.Region), y=New.recovered)) + \n",
    "    geom_boxplot(fill=\"slateblue\", alpha=0.2) + \n",
    "    ggtitle(\"Boxplots of new recovered cases divided by WHO region\") +\n",
    "    theme(\n",
    "        axis.text=element_text(size=6.5), \n",
    "        axis.title=element_text(size=14, face=\"bold\")\n",
    "    ) +\n",
    "    coord_cartesian(ylim = c(0, 1700)) + \n",
    "    xlab(\"WHO.Region\")\n",
    "\n",
    "ggplot(df, aes(y=New.recovered)) + \n",
    "    geom_boxplot(fill=\"slateblue\", alpha=0.2) + \n",
    "    ggtitle(\"Boxplot of new recovered cases\") +\n",
    "    theme(\n",
    "        axis.text=element_text(size=6.5), \n",
    "        axis.title=element_text(size=14, face=\"bold\")\n",
    "    ) +\n",
    "    coord_cartesian(ylim = c(0, 1700)) "
   ]
  },
  {
   "cell_type": "code",
   "execution_count": 33,
   "id": "1730049c",
   "metadata": {
    "vscode": {
     "languageId": "r"
    }
   },
   "outputs": [
    {
     "name": "stderr",
     "output_type": "stream",
     "text": [
      "Warning message:\n",
      "\"\u001b[1m\u001b[22mRemoved 17 rows containing non-finite values (`stat_bin()`).\"\n",
      "Warning message:\n",
      "\"\u001b[1m\u001b[22mRemoved 2 rows containing missing values (`geom_bar()`).\"\n"
     ]
    },
    {
     "data": {
      "image/png": "[encoded data removed]",
      "text/plain": [
       "plot without title"
      ]
     },
     "metadata": {
      "image/png": {
       "height": 420,
       "width": 420
      }
     },
     "output_type": "display_data"
    }
   ],
   "source": [
    "ggplot(df, aes(x=New.recovered)) +\n",
    "    geom_histogram( binwidth=80, fill=\"#69b3a2\", color=\"#e9ecef\", alpha=0.9, position = 'identity') +\n",
    "    ggtitle(\"Histogram of new recovered cases\") +\n",
    "    theme(plot.title = element_text(size=15)) +\n",
    "    xlim(0,1700)\n",
    "    "
   ]
  },
  {
   "cell_type": "code",
   "execution_count": 34,
   "id": "a20b9861",
   "metadata": {
    "vscode": {
     "languageId": "r"
    }
   },
   "outputs": [
    {
     "data": {
      "text/html": [
       "<strong>png:</strong> 2"
      ],
      "text/latex": [
       "\\textbf{png:} 2"
      ],
      "text/markdown": [
       "**png:** 2"
      ],
      "text/plain": [
       "png \n",
       "  2 "
      ]
     },
     "metadata": {},
     "output_type": "display_data"
    },
    {
     "data": {
      "text/html": [
       "<strong>png:</strong> 2"
      ],
      "text/latex": [
       "\\textbf{png:} 2"
      ],
      "text/markdown": [
       "**png:** 2"
      ],
      "text/plain": [
       "png \n",
       "  2 "
      ]
     },
     "metadata": {},
     "output_type": "display_data"
    },
    {
     "name": "stderr",
     "output_type": "stream",
     "text": [
      "Warning message:\n",
      "\"\u001b[1m\u001b[22mRemoved 17 rows containing non-finite values (`stat_bin()`).\"\n",
      "Warning message:\n",
      "\"\u001b[1m\u001b[22mRemoved 2 rows containing missing values (`geom_bar()`).\"\n"
     ]
    },
    {
     "data": {
      "text/html": [
       "<strong>png:</strong> 2"
      ],
      "text/latex": [
       "\\textbf{png:} 2"
      ],
      "text/markdown": [
       "**png:** 2"
      ],
      "text/plain": [
       "png \n",
       "  2 "
      ]
     },
     "metadata": {},
     "output_type": "display_data"
    }
   ],
   "source": [
    "png(filename = \"img/New_recovered_conditional_boxplot.png\", units=\"in\", width=5, height=5, res=300)\n",
    "\n",
    "ggplot(df, aes(x=as.factor(WHO.Region), y=New.recovered)) + \n",
    "    geom_boxplot(fill=\"slateblue\", alpha=0.2) + \n",
    "    ggtitle(\"Boxplots of new recovered cases divided by WHO region\") +\n",
    "    theme(\n",
    "        axis.text=element_text(size=6.5), \n",
    "        axis.title=element_text(size=14,face=\"bold\")\n",
    "    ) +\n",
    "    coord_cartesian(ylim = c(0, 1700)) +\n",
    "    xlab(\"WHO.Region\")\n",
    "\n",
    "dev.off()\n",
    "\n",
    "png(filename = \"img/New_recovered_boxplot.png\", units=\"in\", width=5, height=5, res=300)\n",
    "\n",
    "ggplot(df, aes(y=New.recovered)) + \n",
    "    geom_boxplot(fill=\"slateblue\", alpha=0.2) + \n",
    "    ggtitle(\"Boxplot of new recovered cases\") +\n",
    "    theme(\n",
    "        axis.text=element_text(size=6.5), \n",
    "        axis.title=element_text(size=14, face=\"bold\")\n",
    "    ) +\n",
    "    coord_cartesian(ylim = c(0, 1700))\n",
    "\n",
    "dev.off()\n",
    "\n",
    "png(filename = \"img/New_recovered_histogram.png\", units=\"in\", width=5, height=5, res=300)\n",
    "\n",
    "ggplot(df, aes(New.recovered)) +\n",
    "    geom_histogram( binwidth=80, fill=\"#69b3a2\", color=\"#e9ecef\", alpha=0.9) +\n",
    "    ggtitle(\"Histogram of new recovered cases\") +\n",
    "    theme(plot.title = element_text(size=15)) +\n",
    "    xlim(0,1700)\n",
    "\n",
    "dev.off()"
   ]
  },
  {
   "cell_type": "markdown",
   "id": "5a9a1342",
   "metadata": {},
   "source": [
    "#### Deaths / 100 Cases"
   ]
  },
  {
   "cell_type": "code",
   "execution_count": 35,
   "id": "109f8d60",
   "metadata": {
    "vscode": {
     "languageId": "r"
    }
   },
   "outputs": [
    {
     "data": {
      "text/html": [
       "<dl>\n",
       "\t<dt>$stats</dt>\n",
       "\t\t<dd><style>\n",
       ".list-inline {list-style: none; margin:0; padding: 0}\n",
       ".list-inline>li {display: inline-block}\n",
       ".list-inline>li:not(:last-child)::after {content: \"\\00b7\"; padding: 0 .5ex}\n",
       "</style>\n",
       "<ol class=list-inline><li>0</li><li>0.94</li><li>2.13</li><li>3.72</li><li>6.82</li></ol>\n",
       "</dd>\n",
       "\t<dt>$n</dt>\n",
       "\t\t<dd>182</dd>\n",
       "\t<dt>$conf</dt>\n",
       "\t\t<dd><style>\n",
       ".list-inline {list-style: none; margin:0; padding: 0}\n",
       ".list-inline>li {display: inline-block}\n",
       ".list-inline>li:not(:last-child)::after {content: \"\\00b7\"; padding: 0 .5ex}\n",
       "</style>\n",
       "<ol class=list-inline><li>1.80441365014978</li><li>2.45558634985022</li></ol>\n",
       "</dd>\n",
       "\t<dt>$out</dt>\n",
       "\t\t<dd><style>\n",
       ".list-inline {list-style: none; margin:0; padding: 0}\n",
       ".list-inline>li {display: inline-block}\n",
       ".list-inline>li:not(:last-child)::after {content: \"\\00b7\"; padding: 0 .5ex}\n",
       "</style>\n",
       "<ol class=list-inline><li>14.79</li><li>8.13</li><li>13.71</li><li>13.4</li><li>14.26</li><li>11.13</li><li>11.53</li><li>10.44</li><li>15.19</li><li>10</li><li>28.56</li></ol>\n",
       "</dd>\n",
       "</dl>\n"
      ],
      "text/latex": [
       "\\begin{description}\n",
       "\\item[\\$stats] \\begin{enumerate*}\n",
       "\\item 0\n",
       "\\item 0.94\n",
       "\\item 2.13\n",
       "\\item 3.72\n",
       "\\item 6.82\n",
       "\\end{enumerate*}\n",
       "\n",
       "\\item[\\$n] 182\n",
       "\\item[\\$conf] \\begin{enumerate*}\n",
       "\\item 1.80441365014978\n",
       "\\item 2.45558634985022\n",
       "\\end{enumerate*}\n",
       "\n",
       "\\item[\\$out] \\begin{enumerate*}\n",
       "\\item 14.79\n",
       "\\item 8.13\n",
       "\\item 13.71\n",
       "\\item 13.4\n",
       "\\item 14.26\n",
       "\\item 11.13\n",
       "\\item 11.53\n",
       "\\item 10.44\n",
       "\\item 15.19\n",
       "\\item 10\n",
       "\\item 28.56\n",
       "\\end{enumerate*}\n",
       "\n",
       "\\end{description}\n"
      ],
      "text/markdown": [
       "$stats\n",
       ":   1. 0\n",
       "2. 0.94\n",
       "3. 2.13\n",
       "4. 3.72\n",
       "5. 6.82\n",
       "\n",
       "\n",
       "\n",
       "$n\n",
       ":   182\n",
       "$conf\n",
       ":   1. 1.80441365014978\n",
       "2. 2.45558634985022\n",
       "\n",
       "\n",
       "\n",
       "$out\n",
       ":   1. 14.79\n",
       "2. 8.13\n",
       "3. 13.71\n",
       "4. 13.4\n",
       "5. 14.26\n",
       "6. 11.13\n",
       "7. 11.53\n",
       "8. 10.44\n",
       "9. 15.19\n",
       "10. 10\n",
       "11. 28.56\n",
       "\n",
       "\n",
       "\n",
       "\n",
       "\n"
      ],
      "text/plain": [
       "$stats\n",
       "[1] 0.00 0.94 2.13 3.72 6.82\n",
       "\n",
       "$n\n",
       "[1] 182\n",
       "\n",
       "$conf\n",
       "[1] 1.804414 2.455586\n",
       "\n",
       "$out\n",
       " [1] 14.79  8.13 13.71 13.40 14.26 11.13 11.53 10.44 15.19 10.00 28.56\n"
      ]
     },
     "metadata": {},
     "output_type": "display_data"
    }
   ],
   "source": [
    "boxplot.stats(df$Deaths...100.Cases)"
   ]
  },
  {
   "cell_type": "code",
   "execution_count": 36,
   "id": "af215917",
   "metadata": {
    "vscode": {
     "languageId": "r"
    }
   },
   "outputs": [
    {
     "data": {
      "image/png": "[encoded data removed]",
      "text/plain": [
       "plot without title"
      ]
     },
     "metadata": {
      "image/png": {
       "height": 420,
       "width": 420
      }
     },
     "output_type": "display_data"
    },
    {
     "data": {
      "image/png": "[encoded data removed]",
      "text/plain": [
       "plot without title"
      ]
     },
     "metadata": {
      "image/png": {
       "height": 420,
       "width": 420
      }
     },
     "output_type": "display_data"
    }
   ],
   "source": [
    "ggplot(df, aes(x=as.factor(WHO.Region), y=Deaths...100.Cases)) + \n",
    "    geom_boxplot(fill=\"slateblue\", alpha=0.2) + \n",
    "    ggtitle(\"Boxplots of deaths over 100 cases divided by WHO region\") +\n",
    "    theme(\n",
    "        axis.text=element_text(size=6.5), \n",
    "        axis.title=element_text(size=14, face=\"bold\")\n",
    "    ) +\n",
    "    coord_cartesian(ylim = c(0, 10)) + \n",
    "    xlab(\"WHO.Region\")\n",
    "\n",
    "ggplot(df, aes(y=Deaths...100.Cases)) + \n",
    "    geom_boxplot(fill=\"slateblue\", alpha=0.2) + \n",
    "    ggtitle(\"Boxplot of deaths over 100 cases\") +\n",
    "    theme(\n",
    "        axis.text=element_text(size=6.5), \n",
    "        axis.title=element_text(size=14, face=\"bold\")\n",
    "    ) +\n",
    "    coord_cartesian(ylim = c(0, 10)) "
   ]
  },
  {
   "cell_type": "code",
   "execution_count": 37,
   "id": "1730049c",
   "metadata": {
    "vscode": {
     "languageId": "r"
    }
   },
   "outputs": [
    {
     "name": "stderr",
     "output_type": "stream",
     "text": [
      "Warning message:\n",
      "\"\u001b[1m\u001b[22mRemoved 9 rows containing non-finite values (`stat_bin()`).\"\n",
      "Warning message:\n",
      "\"\u001b[1m\u001b[22mRemoved 2 rows containing missing values (`geom_bar()`).\"\n"
     ]
    },
    {
     "data": {
      "image/png": "[encoded data removed]",
      "text/plain": [
       "plot without title"
      ]
     },
     "metadata": {
      "image/png": {
       "height": 420,
       "width": 420
      }
     },
     "output_type": "display_data"
    }
   ],
   "source": [
    "ggplot(df, aes(x=Deaths...100.Cases)) +\n",
    "    geom_histogram( binwidth=0.6, fill=\"#69b3a2\", color=\"#e9ecef\", alpha=0.9, position = 'identity') +\n",
    "    ggtitle(\"Histogram of deaths over 100 cases\") +\n",
    "    theme(plot.title = element_text(size=15)) +\n",
    "    xlim(0,10)\n",
    "    "
   ]
  },
  {
   "cell_type": "code",
   "execution_count": 38,
   "id": "a20b9861",
   "metadata": {
    "vscode": {
     "languageId": "r"
    }
   },
   "outputs": [
    {
     "data": {
      "text/html": [
       "<strong>png:</strong> 2"
      ],
      "text/latex": [
       "\\textbf{png:} 2"
      ],
      "text/markdown": [
       "**png:** 2"
      ],
      "text/plain": [
       "png \n",
       "  2 "
      ]
     },
     "metadata": {},
     "output_type": "display_data"
    },
    {
     "data": {
      "text/html": [
       "<strong>png:</strong> 2"
      ],
      "text/latex": [
       "\\textbf{png:} 2"
      ],
      "text/markdown": [
       "**png:** 2"
      ],
      "text/plain": [
       "png \n",
       "  2 "
      ]
     },
     "metadata": {},
     "output_type": "display_data"
    },
    {
     "name": "stderr",
     "output_type": "stream",
     "text": [
      "Warning message:\n",
      "\"\u001b[1m\u001b[22mRemoved 9 rows containing non-finite values (`stat_bin()`).\"\n",
      "Warning message:\n",
      "\"\u001b[1m\u001b[22mRemoved 2 rows containing missing values (`geom_bar()`).\"\n"
     ]
    },
    {
     "data": {
      "text/html": [
       "<strong>png:</strong> 2"
      ],
      "text/latex": [
       "\\textbf{png:} 2"
      ],
      "text/markdown": [
       "**png:** 2"
      ],
      "text/plain": [
       "png \n",
       "  2 "
      ]
     },
     "metadata": {},
     "output_type": "display_data"
    }
   ],
   "source": [
    "png(filename = \"img/Deaths_over_100_cases_conditional_boxplot.png\", units=\"in\", width=5, height=5, res=300)\n",
    "\n",
    "ggplot(df, aes(x=as.factor(WHO.Region), y=Deaths...100.Cases)) + \n",
    "    geom_boxplot(fill=\"slateblue\", alpha=0.2) + \n",
    "    ggtitle(\"Boxplots of deaths over 100 cases divided by WHO region\") +\n",
    "    theme(\n",
    "        axis.text=element_text(size=6.5), \n",
    "        axis.title=element_text(size=14,face=\"bold\")\n",
    "    ) +\n",
    "    coord_cartesian(ylim = c(0, 10)) +\n",
    "    xlab(\"WHO.Region\")\n",
    "\n",
    "dev.off()\n",
    "\n",
    "png(filename = \"img/Deaths_over_100_cases_boxplot.png\", units=\"in\", width=5, height=5, res=300)\n",
    "\n",
    "ggplot(df, aes(y=Deaths...100.Cases)) + \n",
    "    geom_boxplot(fill=\"slateblue\", alpha=0.2) + \n",
    "    ggtitle(\"Boxplot of deaths over 100 cases\") +\n",
    "    theme(\n",
    "        axis.text=element_text(size=6.5), \n",
    "        axis.title=element_text(size=14, face=\"bold\")\n",
    "    ) +\n",
    "    coord_cartesian(ylim = c(0, 10))\n",
    "\n",
    "dev.off()\n",
    "\n",
    "png(filename = \"img/Deaths_over_100_cases_histogram.png\", units=\"in\", width=5, height=5, res=300)\n",
    "\n",
    "ggplot(df, aes(Deaths...100.Cases)) +\n",
    "    geom_histogram( binwidth=0.6, fill=\"#69b3a2\", color=\"#e9ecef\", alpha=0.9) +\n",
    "    ggtitle(\"Histogram of deaths over 100 cases\") +\n",
    "    theme(plot.title = element_text(size=15)) +\n",
    "    xlim(0,10)\n",
    "\n",
    "dev.off()"
   ]
  },
  {
   "cell_type": "markdown",
   "id": "a9f98a4b",
   "metadata": {},
   "source": [
    "#### Recovered / 100 Cases"
   ]
  },
  {
   "cell_type": "code",
   "execution_count": 39,
   "id": "109f8d60",
   "metadata": {
    "vscode": {
     "languageId": "r"
    }
   },
   "outputs": [
    {
     "data": {
      "text/html": [
       "<dl>\n",
       "\t<dt>$stats</dt>\n",
       "\t\t<dd><style>\n",
       ".list-inline {list-style: none; margin:0; padding: 0}\n",
       ".list-inline>li {display: inline-block}\n",
       ".list-inline>li:not(:last-child)::after {content: \"\\00b7\"; padding: 0 .5ex}\n",
       "</style>\n",
       "<ol class=list-inline><li>0</li><li>51.73</li><li>72.27</li><li>87.41</li><li>100</li></ol>\n",
       "</dd>\n",
       "\t<dt>$n</dt>\n",
       "\t\t<dd>182</dd>\n",
       "\t<dt>$conf</dt>\n",
       "\t\t<dd><style>\n",
       ".list-inline {list-style: none; margin:0; padding: 0}\n",
       ".list-inline>li {display: inline-block}\n",
       ".list-inline>li:not(:last-child)::after {content: \"\\00b7\"; padding: 0 .5ex}\n",
       "</style>\n",
       "<ol class=list-inline><li>68.091251452282</li><li>76.448748547718</li></ol>\n",
       "</dd>\n",
       "\t<dt>$out</dt>\n",
       "\t\t<dd></dd>\n",
       "</dl>\n"
      ],
      "text/latex": [
       "\\begin{description}\n",
       "\\item[\\$stats] \\begin{enumerate*}\n",
       "\\item 0\n",
       "\\item 51.73\n",
       "\\item 72.27\n",
       "\\item 87.41\n",
       "\\item 100\n",
       "\\end{enumerate*}\n",
       "\n",
       "\\item[\\$n] 182\n",
       "\\item[\\$conf] \\begin{enumerate*}\n",
       "\\item 68.091251452282\n",
       "\\item 76.448748547718\n",
       "\\end{enumerate*}\n",
       "\n",
       "\\item[\\$out] \n",
       "\\end{description}\n"
      ],
      "text/markdown": [
       "$stats\n",
       ":   1. 0\n",
       "2. 51.73\n",
       "3. 72.27\n",
       "4. 87.41\n",
       "5. 100\n",
       "\n",
       "\n",
       "\n",
       "$n\n",
       ":   182\n",
       "$conf\n",
       ":   1. 68.091251452282\n",
       "2. 76.448748547718\n",
       "\n",
       "\n",
       "\n",
       "$out\n",
       ":   \n",
       "\n",
       "\n"
      ],
      "text/plain": [
       "$stats\n",
       "[1]   0.00  51.73  72.27  87.41 100.00\n",
       "\n",
       "$n\n",
       "[1] 182\n",
       "\n",
       "$conf\n",
       "[1] 68.09125 76.44875\n",
       "\n",
       "$out\n",
       "numeric(0)\n"
      ]
     },
     "metadata": {},
     "output_type": "display_data"
    }
   ],
   "source": [
    "boxplot.stats(df$Recovered...100.Cases)"
   ]
  },
  {
   "cell_type": "code",
   "execution_count": 40,
   "id": "af215917",
   "metadata": {
    "vscode": {
     "languageId": "r"
    }
   },
   "outputs": [
    {
     "data": {
      "image/png": "[encoded data removed]",
      "text/plain": [
       "plot without title"
      ]
     },
     "metadata": {
      "image/png": {
       "height": 420,
       "width": 420
      }
     },
     "output_type": "display_data"
    },
    {
     "data": {
      "image/png": "[encoded data removed]",
      "text/plain": [
       "plot without title"
      ]
     },
     "metadata": {
      "image/png": {
       "height": 420,
       "width": 420
      }
     },
     "output_type": "display_data"
    }
   ],
   "source": [
    "ggplot(df, aes(x=as.factor(WHO.Region), y=Recovered...100.Cases)) + \n",
    "    geom_boxplot(fill=\"slateblue\", alpha=0.2) + \n",
    "    ggtitle(\"Boxplots of recovered over 100 cases divided by WHO region\") +\n",
    "    theme(\n",
    "        axis.text=element_text(size=6.5), \n",
    "        axis.title=element_text(size=14, face=\"bold\")\n",
    "    ) +\n",
    "    coord_cartesian(ylim = c(0, 110)) + \n",
    "    xlab(\"WHO.Region\")\n",
    "\n",
    "ggplot(df, aes(y=Recovered...100.Cases)) + \n",
    "    geom_boxplot(fill=\"slateblue\", alpha=0.2) + \n",
    "    ggtitle(\"Boxplot of recovered over 100 cases\") +\n",
    "    theme(\n",
    "        axis.text=element_text(size=6.5), \n",
    "        axis.title=element_text(size=14, face=\"bold\")\n",
    "    ) +\n",
    "    coord_cartesian(ylim = c(0, 110))"
   ]
  },
  {
   "cell_type": "code",
   "execution_count": 41,
   "id": "1730049c",
   "metadata": {
    "vscode": {
     "languageId": "r"
    }
   },
   "outputs": [
    {
     "name": "stderr",
     "output_type": "stream",
     "text": [
      "Warning message:\n",
      "\"\u001b[1m\u001b[22mRemoved 2 rows containing missing values (`geom_bar()`).\"\n"
     ]
    },
    {
     "data": {
      "image/png": "[encoded data removed]",
      "text/plain": [
       "plot without title"
      ]
     },
     "metadata": {
      "image/png": {
       "height": 420,
       "width": 420
      }
     },
     "output_type": "display_data"
    }
   ],
   "source": [
    "ggplot(df, aes(x=Recovered...100.Cases)) +\n",
    "    geom_histogram( binwidth=8, fill=\"#69b3a2\", color=\"#e9ecef\", alpha=0.9, position = 'identity') +\n",
    "    ggtitle(\"Histogram of recovered over 100 cases\") +\n",
    "    theme(plot.title = element_text(size=15)) +\n",
    "    xlim(0,110)\n",
    "    "
   ]
  },
  {
   "cell_type": "code",
   "execution_count": 42,
   "id": "a20b9861",
   "metadata": {
    "vscode": {
     "languageId": "r"
    }
   },
   "outputs": [
    {
     "data": {
      "text/html": [
       "<strong>png:</strong> 2"
      ],
      "text/latex": [
       "\\textbf{png:} 2"
      ],
      "text/markdown": [
       "**png:** 2"
      ],
      "text/plain": [
       "png \n",
       "  2 "
      ]
     },
     "metadata": {},
     "output_type": "display_data"
    },
    {
     "data": {
      "text/html": [
       "<strong>png:</strong> 2"
      ],
      "text/latex": [
       "\\textbf{png:} 2"
      ],
      "text/markdown": [
       "**png:** 2"
      ],
      "text/plain": [
       "png \n",
       "  2 "
      ]
     },
     "metadata": {},
     "output_type": "display_data"
    },
    {
     "name": "stderr",
     "output_type": "stream",
     "text": [
      "Warning message:\n",
      "\"\u001b[1m\u001b[22mRemoved 2 rows containing missing values (`geom_bar()`).\"\n"
     ]
    },
    {
     "data": {
      "text/html": [
       "<strong>png:</strong> 2"
      ],
      "text/latex": [
       "\\textbf{png:} 2"
      ],
      "text/markdown": [
       "**png:** 2"
      ],
      "text/plain": [
       "png \n",
       "  2 "
      ]
     },
     "metadata": {},
     "output_type": "display_data"
    }
   ],
   "source": [
    "png(filename = \"img/Recovered_over_100_cases_conditional_boxplot.png\", units=\"in\", width=5, height=5, res=300)\n",
    "\n",
    "ggplot(df, aes(x=as.factor(WHO.Region), y=Recovered...100.Cases)) + \n",
    "    geom_boxplot(fill=\"slateblue\", alpha=0.2) + \n",
    "    ggtitle(\"Boxplots of recovered over 100 cases divided by WHO region\") +\n",
    "    theme(\n",
    "        axis.text=element_text(size=6.5), \n",
    "        axis.title=element_text(size=14,face=\"bold\")\n",
    "    ) +\n",
    "    coord_cartesian(ylim = c(0, 110)) +\n",
    "    xlab(\"WHO.Region\")\n",
    "\n",
    "dev.off()\n",
    "\n",
    "png(filename = \"img/Recovered_over_100_cases_boxplot.png\", units=\"in\", width=5, height=5, res=300)\n",
    "\n",
    "ggplot(df, aes(y=Confirmed)) + \n",
    "    geom_boxplot(fill=\"slateblue\", alpha=0.2) + \n",
    "    ggtitle(\"Boxplot of recovered over 100 cases\") +\n",
    "    theme(\n",
    "        axis.text=element_text(size=6.5), \n",
    "        axis.title=element_text(size=14, face=\"bold\")\n",
    "    ) +\n",
    "    coord_cartesian(ylim = c(0, 110))\n",
    "\n",
    "dev.off()\n",
    "\n",
    "png(filename = \"img/Recovered_over_100_cases_histogram.png\", units=\"in\", width=5, height=5, res=300)\n",
    "\n",
    "ggplot(df, aes(Recovered...100.Cases)) +\n",
    "    geom_histogram( binwidth=8, fill=\"#69b3a2\", color=\"#e9ecef\", alpha=0.9) +\n",
    "    ggtitle(\"Histogram of recovered over 100 cases\") +\n",
    "    theme(plot.title = element_text(size=15)) +\n",
    "    xlim(0,110)\n",
    "\n",
    "dev.off()"
   ]
  },
  {
   "cell_type": "markdown",
   "id": "965d9632",
   "metadata": {},
   "source": [
    "#### Deaths / 100 Recovered"
   ]
  },
  {
   "cell_type": "code",
   "execution_count": 43,
   "id": "109f8d60",
   "metadata": {
    "vscode": {
     "languageId": "r"
    }
   },
   "outputs": [
    {
     "data": {
      "text/html": [
       "<dl>\n",
       "\t<dt>$stats</dt>\n",
       "\t\t<dd><style>\n",
       ".list-inline {list-style: none; margin:0; padding: 0}\n",
       ".list-inline>li {display: inline-block}\n",
       ".list-inline>li:not(:last-child)::after {content: \"\\00b7\"; padding: 0 .5ex}\n",
       "</style>\n",
       "<ol class=list-inline><li>0</li><li>0.94</li><li>2.13</li><li>3.72</li><li>6.82</li></ol>\n",
       "</dd>\n",
       "\t<dt>$n</dt>\n",
       "\t\t<dd>182</dd>\n",
       "\t<dt>$conf</dt>\n",
       "\t\t<dd><style>\n",
       ".list-inline {list-style: none; margin:0; padding: 0}\n",
       ".list-inline>li {display: inline-block}\n",
       ".list-inline>li:not(:last-child)::after {content: \"\\00b7\"; padding: 0 .5ex}\n",
       "</style>\n",
       "<ol class=list-inline><li>1.80441365014978</li><li>2.45558634985022</li></ol>\n",
       "</dd>\n",
       "\t<dt>$out</dt>\n",
       "\t\t<dd><style>\n",
       ".list-inline {list-style: none; margin:0; padding: 0}\n",
       ".list-inline>li {display: inline-block}\n",
       ".list-inline>li:not(:last-child)::after {content: \"\\00b7\"; padding: 0 .5ex}\n",
       "</style>\n",
       "<ol class=list-inline><li>14.79</li><li>8.13</li><li>13.71</li><li>13.4</li><li>14.26</li><li>11.13</li><li>11.53</li><li>10.44</li><li>15.19</li><li>10</li><li>28.56</li></ol>\n",
       "</dd>\n",
       "</dl>\n"
      ],
      "text/latex": [
       "\\begin{description}\n",
       "\\item[\\$stats] \\begin{enumerate*}\n",
       "\\item 0\n",
       "\\item 0.94\n",
       "\\item 2.13\n",
       "\\item 3.72\n",
       "\\item 6.82\n",
       "\\end{enumerate*}\n",
       "\n",
       "\\item[\\$n] 182\n",
       "\\item[\\$conf] \\begin{enumerate*}\n",
       "\\item 1.80441365014978\n",
       "\\item 2.45558634985022\n",
       "\\end{enumerate*}\n",
       "\n",
       "\\item[\\$out] \\begin{enumerate*}\n",
       "\\item 14.79\n",
       "\\item 8.13\n",
       "\\item 13.71\n",
       "\\item 13.4\n",
       "\\item 14.26\n",
       "\\item 11.13\n",
       "\\item 11.53\n",
       "\\item 10.44\n",
       "\\item 15.19\n",
       "\\item 10\n",
       "\\item 28.56\n",
       "\\end{enumerate*}\n",
       "\n",
       "\\end{description}\n"
      ],
      "text/markdown": [
       "$stats\n",
       ":   1. 0\n",
       "2. 0.94\n",
       "3. 2.13\n",
       "4. 3.72\n",
       "5. 6.82\n",
       "\n",
       "\n",
       "\n",
       "$n\n",
       ":   182\n",
       "$conf\n",
       ":   1. 1.80441365014978\n",
       "2. 2.45558634985022\n",
       "\n",
       "\n",
       "\n",
       "$out\n",
       ":   1. 14.79\n",
       "2. 8.13\n",
       "3. 13.71\n",
       "4. 13.4\n",
       "5. 14.26\n",
       "6. 11.13\n",
       "7. 11.53\n",
       "8. 10.44\n",
       "9. 15.19\n",
       "10. 10\n",
       "11. 28.56\n",
       "\n",
       "\n",
       "\n",
       "\n",
       "\n"
      ],
      "text/plain": [
       "$stats\n",
       "[1] 0.00 0.94 2.13 3.72 6.82\n",
       "\n",
       "$n\n",
       "[1] 182\n",
       "\n",
       "$conf\n",
       "[1] 1.804414 2.455586\n",
       "\n",
       "$out\n",
       " [1] 14.79  8.13 13.71 13.40 14.26 11.13 11.53 10.44 15.19 10.00 28.56\n"
      ]
     },
     "metadata": {},
     "output_type": "display_data"
    }
   ],
   "source": [
    "boxplot.stats(df$Deaths...100.Cases)"
   ]
  },
  {
   "cell_type": "code",
   "execution_count": 44,
   "id": "af215917",
   "metadata": {
    "vscode": {
     "languageId": "r"
    }
   },
   "outputs": [
    {
     "data": {
      "image/png": "[encoded data removed]",
      "text/plain": [
       "plot without title"
      ]
     },
     "metadata": {
      "image/png": {
       "height": 420,
       "width": 420
      }
     },
     "output_type": "display_data"
    },
    {
     "data": {
      "image/png": "[encoded data removed]",
      "text/plain": [
       "plot without title"
      ]
     },
     "metadata": {
      "image/png": {
       "height": 420,
       "width": 420
      }
     },
     "output_type": "display_data"
    }
   ],
   "source": [
    "ggplot(df, aes(x=as.factor(WHO.Region), y=Deaths...100.Cases)) + \n",
    "    geom_boxplot(fill=\"slateblue\", alpha=0.2) + \n",
    "    ggtitle(\"Boxplots of deaths over 100 cases divided by WHO region\") +\n",
    "    theme(\n",
    "        axis.text=element_text(size=6.5), \n",
    "        axis.title=element_text(size=14, face=\"bold\")\n",
    "    ) +\n",
    "    coord_cartesian(ylim = c(0, 15)) + \n",
    "    xlab(\"WHO.Region\")\n",
    "\n",
    "ggplot(df, aes(y=Deaths...100.Cases)) + \n",
    "    geom_boxplot(fill=\"slateblue\", alpha=0.2) + \n",
    "    ggtitle(\"Boxplot of recovered over 100 cases\") +\n",
    "    theme(\n",
    "        axis.text=element_text(size=6.5), \n",
    "        axis.title=element_text(size=14, face=\"bold\")\n",
    "    ) +\n",
    "    coord_cartesian(ylim = c(0, 15)) "
   ]
  },
  {
   "cell_type": "code",
   "execution_count": 45,
   "id": "1730049c",
   "metadata": {
    "vscode": {
     "languageId": "r"
    }
   },
   "outputs": [
    {
     "name": "stderr",
     "output_type": "stream",
     "text": [
      "Warning message:\n",
      "\"\u001b[1m\u001b[22mRemoved 2 rows containing non-finite values (`stat_bin()`).\"\n",
      "Warning message:\n",
      "\"\u001b[1m\u001b[22mRemoved 2 rows containing missing values (`geom_bar()`).\"\n"
     ]
    },
    {
     "data": {
      "image/png": "[encoded data removed]",
      "text/plain": [
       "plot without title"
      ]
     },
     "metadata": {
      "image/png": {
       "height": 420,
       "width": 420
      }
     },
     "output_type": "display_data"
    }
   ],
   "source": [
    "ggplot(df, aes(x=Deaths...100.Cases)) +\n",
    "    geom_histogram( binwidth=0.8, fill=\"#69b3a2\", color=\"#e9ecef\", alpha=0.9, position = 'identity') +\n",
    "    ggtitle(\"Histogram of deaths over 100 cases\") +\n",
    "    theme(plot.title = element_text(size=15)) +\n",
    "    xlim(0,15)\n",
    "    "
   ]
  },
  {
   "cell_type": "code",
   "execution_count": 46,
   "id": "a20b9861",
   "metadata": {
    "vscode": {
     "languageId": "r"
    }
   },
   "outputs": [
    {
     "data": {
      "text/html": [
       "<strong>png:</strong> 2"
      ],
      "text/latex": [
       "\\textbf{png:} 2"
      ],
      "text/markdown": [
       "**png:** 2"
      ],
      "text/plain": [
       "png \n",
       "  2 "
      ]
     },
     "metadata": {},
     "output_type": "display_data"
    },
    {
     "data": {
      "text/html": [
       "<strong>png:</strong> 2"
      ],
      "text/latex": [
       "\\textbf{png:} 2"
      ],
      "text/markdown": [
       "**png:** 2"
      ],
      "text/plain": [
       "png \n",
       "  2 "
      ]
     },
     "metadata": {},
     "output_type": "display_data"
    },
    {
     "name": "stderr",
     "output_type": "stream",
     "text": [
      "Warning message:\n",
      "\"\u001b[1m\u001b[22mRemoved 2 rows containing non-finite values (`stat_bin()`).\"\n",
      "Warning message:\n",
      "\"\u001b[1m\u001b[22mRemoved 2 rows containing missing values (`geom_bar()`).\"\n"
     ]
    },
    {
     "data": {
      "text/html": [
       "<strong>png:</strong> 2"
      ],
      "text/latex": [
       "\\textbf{png:} 2"
      ],
      "text/markdown": [
       "**png:** 2"
      ],
      "text/plain": [
       "png \n",
       "  2 "
      ]
     },
     "metadata": {},
     "output_type": "display_data"
    }
   ],
   "source": [
    "png(filename = \"img/Deaths_over_100_cases_conditional_boxplot.png\", units=\"in\", width=5, height=5, res=300)\n",
    "\n",
    "ggplot(df, aes(x=as.factor(WHO.Region), y=Deaths...100.Cases)) + \n",
    "    geom_boxplot(fill=\"slateblue\", alpha=0.2) + \n",
    "    ggtitle(\"Boxplots of deaths over 100 cases divided by WHO region\") +\n",
    "    theme(\n",
    "        axis.text=element_text(size=6.5), \n",
    "        axis.title=element_text(size=14,face=\"bold\")\n",
    "    ) +\n",
    "    coord_cartesian(ylim = c(0, 15)) +\n",
    "    xlab(\"WHO.Region\")\n",
    "\n",
    "dev.off()\n",
    "\n",
    "png(filename = \"img/Deaths_over_100_cases_boxplot.png\", units=\"in\", width=5, height=5, res=300)\n",
    "\n",
    "ggplot(df, aes(y=Deaths...100.Cases)) + \n",
    "    geom_boxplot(fill=\"slateblue\", alpha=0.2) + \n",
    "    ggtitle(\"Boxplot of deaths over 100 cases\") +\n",
    "    theme(\n",
    "        axis.text=element_text(size=6.5), \n",
    "        axis.title=element_text(size=14, face=\"bold\")\n",
    "    ) +\n",
    "    coord_cartesian(ylim = c(0, 15))\n",
    "\n",
    "dev.off()\n",
    "\n",
    "png(filename = \"img/Deaths_over_100_cases_histogram.png\", units=\"in\", width=5, height=5, res=300)\n",
    "\n",
    "ggplot(df, aes(Deaths...100.Cases)) +\n",
    "    geom_histogram( binwidth=0.8, fill=\"#69b3a2\", color=\"#e9ecef\", alpha=0.9) +\n",
    "    ggtitle(\"Histogram of deaths over 100 cases\") +\n",
    "    theme(plot.title = element_text(size=15)) +\n",
    "    xlim(0,15)\n",
    "\n",
    "dev.off()"
   ]
  },
  {
   "cell_type": "markdown",
   "id": "460bb01d",
   "metadata": {},
   "source": [
    "#### Confirmed last week"
   ]
  },
  {
   "cell_type": "code",
   "execution_count": 47,
   "id": "109f8d60",
   "metadata": {
    "vscode": {
     "languageId": "r"
    }
   },
   "outputs": [
    {
     "data": {
      "text/html": [
       "<dl>\n",
       "\t<dt>$stats</dt>\n",
       "\t\t<dd><style>\n",
       ".list-inline {list-style: none; margin:0; padding: 0}\n",
       ".list-inline>li {display: inline-block}\n",
       ".list-inline>li:not(:last-child)::after {content: \"\\00b7\"; padding: 0 .5ex}\n",
       "</style>\n",
       "<ol class=list-inline><li>10</li><li>1039</li><li>4784</li><li>36936</li><li>88402</li></ol>\n",
       "</dd>\n",
       "\t<dt>$n</dt>\n",
       "\t\t<dd>182</dd>\n",
       "\t<dt>$conf</dt>\n",
       "\t\t<dd><style>\n",
       ".list-inline {list-style: none; margin:0; padding: 0}\n",
       ".list-inline>li {display: inline-block}\n",
       ".list-inline>li:not(:last-child)::after {content: \"\\00b7\"; padding: 0 .5ex}\n",
       "</style>\n",
       "<ol class=list-inline><li>579.836978210999</li><li>8988.163021789</li></ol>\n",
       "</dd>\n",
       "\t<dt>$out</dt>\n",
       "\t\t<dd><style>\n",
       ".list-inline {list-style: none; margin:0; padding: 0}\n",
       ".list-inline>li {display: inline-block}\n",
       ".list-inline>li:not(:last-child)::after {content: \"\\00b7\"; padding: 0 .5ex}\n",
       "</style>\n",
       "<ol class=list-inline><li>130774</li><li>207453</li><li>2118646</li><li>333029</li><li>204005</li><li>214023</li><li>203325</li><li>1155338</li><li>276202</li><li>94693</li><li>244624</li><li>349396</li><li>266096</li><li>357681</li><li>107037</li><li>776212</li><li>253349</li><li>373628</li><li>264836</li><li>220572</li><li>3834677</li><li>296944</li></ol>\n",
       "</dd>\n",
       "</dl>\n"
      ],
      "text/latex": [
       "\\begin{description}\n",
       "\\item[\\$stats] \\begin{enumerate*}\n",
       "\\item 10\n",
       "\\item 1039\n",
       "\\item 4784\n",
       "\\item 36936\n",
       "\\item 88402\n",
       "\\end{enumerate*}\n",
       "\n",
       "\\item[\\$n] 182\n",
       "\\item[\\$conf] \\begin{enumerate*}\n",
       "\\item 579.836978210999\n",
       "\\item 8988.163021789\n",
       "\\end{enumerate*}\n",
       "\n",
       "\\item[\\$out] \\begin{enumerate*}\n",
       "\\item 130774\n",
       "\\item 207453\n",
       "\\item 2118646\n",
       "\\item 333029\n",
       "\\item 204005\n",
       "\\item 214023\n",
       "\\item 203325\n",
       "\\item 1155338\n",
       "\\item 276202\n",
       "\\item 94693\n",
       "\\item 244624\n",
       "\\item 349396\n",
       "\\item 266096\n",
       "\\item 357681\n",
       "\\item 107037\n",
       "\\item 776212\n",
       "\\item 253349\n",
       "\\item 373628\n",
       "\\item 264836\n",
       "\\item 220572\n",
       "\\item 3834677\n",
       "\\item 296944\n",
       "\\end{enumerate*}\n",
       "\n",
       "\\end{description}\n"
      ],
      "text/markdown": [
       "$stats\n",
       ":   1. 10\n",
       "2. 1039\n",
       "3. 4784\n",
       "4. 36936\n",
       "5. 88402\n",
       "\n",
       "\n",
       "\n",
       "$n\n",
       ":   182\n",
       "$conf\n",
       ":   1. 579.836978210999\n",
       "2. 8988.163021789\n",
       "\n",
       "\n",
       "\n",
       "$out\n",
       ":   1. 130774\n",
       "2. 207453\n",
       "3. 2118646\n",
       "4. 333029\n",
       "5. 204005\n",
       "6. 214023\n",
       "7. 203325\n",
       "8. 1155338\n",
       "9. 276202\n",
       "10. 94693\n",
       "11. 244624\n",
       "12. 349396\n",
       "13. 266096\n",
       "14. 357681\n",
       "15. 107037\n",
       "16. 776212\n",
       "17. 253349\n",
       "18. 373628\n",
       "19. 264836\n",
       "20. 220572\n",
       "21. 3834677\n",
       "22. 296944\n",
       "\n",
       "\n",
       "\n",
       "\n",
       "\n"
      ],
      "text/plain": [
       "$stats\n",
       "[1]    10  1039  4784 36936 88402\n",
       "\n",
       "$n\n",
       "[1] 182\n",
       "\n",
       "$conf\n",
       "[1]  579.837 8988.163\n",
       "\n",
       "$out\n",
       " [1]  130774  207453 2118646  333029  204005  214023  203325 1155338  276202\n",
       "[10]   94693  244624  349396  266096  357681  107037  776212  253349  373628\n",
       "[19]  264836  220572 3834677  296944\n"
      ]
     },
     "metadata": {},
     "output_type": "display_data"
    }
   ],
   "source": [
    "boxplot.stats(df$Confirmed.last.week)"
   ]
  },
  {
   "cell_type": "code",
   "execution_count": 48,
   "id": "af215917",
   "metadata": {
    "vscode": {
     "languageId": "r"
    }
   },
   "outputs": [
    {
     "data": {
      "image/png": "[encoded data removed]",
      "text/plain": [
       "plot without title"
      ]
     },
     "metadata": {
      "image/png": {
       "height": 420,
       "width": 420
      }
     },
     "output_type": "display_data"
    },
    {
     "data": {
      "image/png": "[encoded data removed]",
      "text/plain": [
       "plot without title"
      ]
     },
     "metadata": {
      "image/png": {
       "height": 420,
       "width": 420
      }
     },
     "output_type": "display_data"
    }
   ],
   "source": [
    "ggplot(df, aes(x=as.factor(WHO.Region), y=Confirmed.last.week)) + \n",
    "    geom_boxplot(fill=\"slateblue\", alpha=0.2) + \n",
    "    ggtitle(\"Boxplots of confirmed last week cases divided by WHO region\") +\n",
    "    theme(\n",
    "        axis.text=element_text(size=6.5), \n",
    "        axis.title=element_text(size=14, face=\"bold\")\n",
    "    ) +\n",
    "    coord_cartesian(ylim = c(0, 120000)) + \n",
    "    xlab(\"WHO.Region\")\n",
    "\n",
    "ggplot(df, aes(y=Confirmed.last.week)) + \n",
    "    geom_boxplot(fill=\"slateblue\", alpha=0.2) + \n",
    "    ggtitle(\"Boxplot of confirmed last week cases\") +\n",
    "    theme(\n",
    "        axis.text=element_text(size=6.5), \n",
    "        axis.title=element_text(size=14, face=\"bold\")\n",
    "    ) +\n",
    "    coord_cartesian(ylim = c(0, 120000)) "
   ]
  },
  {
   "cell_type": "code",
   "execution_count": 49,
   "id": "1730049c",
   "metadata": {
    "vscode": {
     "languageId": "r"
    }
   },
   "outputs": [
    {
     "name": "stderr",
     "output_type": "stream",
     "text": [
      "Warning message:\n",
      "\"\u001b[1m\u001b[22mRemoved 20 rows containing non-finite values (`stat_bin()`).\"\n",
      "Warning message:\n",
      "\"\u001b[1m\u001b[22mRemoved 2 rows containing missing values (`geom_bar()`).\"\n"
     ]
    },
    {
     "data": {
      "image/png": "[encoded data removed]",
      "text/plain": [
       "plot without title"
      ]
     },
     "metadata": {
      "image/png": {
       "height": 420,
       "width": 420
      }
     },
     "output_type": "display_data"
    }
   ],
   "source": [
    "ggplot(df, aes(x=Confirmed.last.week)) +\n",
    "    geom_histogram( binwidth=5000, fill=\"#69b3a2\", color=\"#e9ecef\", alpha=0.9, position = 'identity') +\n",
    "    ggtitle(\"Histogram of confirmed last week cases\") +\n",
    "    theme(plot.title = element_text(size=15)) +\n",
    "    xlim(0,120000)\n",
    "    "
   ]
  },
  {
   "cell_type": "code",
   "execution_count": 50,
   "id": "a20b9861",
   "metadata": {
    "vscode": {
     "languageId": "r"
    }
   },
   "outputs": [
    {
     "data": {
      "text/html": [
       "<strong>png:</strong> 2"
      ],
      "text/latex": [
       "\\textbf{png:} 2"
      ],
      "text/markdown": [
       "**png:** 2"
      ],
      "text/plain": [
       "png \n",
       "  2 "
      ]
     },
     "metadata": {},
     "output_type": "display_data"
    },
    {
     "data": {
      "text/html": [
       "<strong>png:</strong> 2"
      ],
      "text/latex": [
       "\\textbf{png:} 2"
      ],
      "text/markdown": [
       "**png:** 2"
      ],
      "text/plain": [
       "png \n",
       "  2 "
      ]
     },
     "metadata": {},
     "output_type": "display_data"
    },
    {
     "name": "stderr",
     "output_type": "stream",
     "text": [
      "Warning message:\n",
      "\"\u001b[1m\u001b[22mRemoved 20 rows containing non-finite values (`stat_bin()`).\"\n",
      "Warning message:\n",
      "\"\u001b[1m\u001b[22mRemoved 2 rows containing missing values (`geom_bar()`).\"\n"
     ]
    },
    {
     "data": {
      "text/html": [
       "<strong>png:</strong> 2"
      ],
      "text/latex": [
       "\\textbf{png:} 2"
      ],
      "text/markdown": [
       "**png:** 2"
      ],
      "text/plain": [
       "png \n",
       "  2 "
      ]
     },
     "metadata": {},
     "output_type": "display_data"
    }
   ],
   "source": [
    "png(filename = \"img/Confirmed_last_week_conditional_boxplot.png\", units=\"in\", width=5, height=5, res=300)\n",
    "\n",
    "ggplot(df, aes(x=as.factor(WHO.Region), y=Confirmed.last.week)) + \n",
    "    geom_boxplot(fill=\"slateblue\", alpha=0.2) + \n",
    "    ggtitle(\"Boxplots of confirmed last week cases divided by WHO region\") +\n",
    "    theme(\n",
    "        axis.text=element_text(size=6.5), \n",
    "        axis.title=element_text(size=14,face=\"bold\")\n",
    "    ) +\n",
    "    coord_cartesian(ylim = c(0, 120000)) +\n",
    "    xlab(\"WHO.Region\")\n",
    "\n",
    "dev.off()\n",
    "\n",
    "png(filename = \"img/Confirmed_last_week_boxplot.png\", units=\"in\", width=5, height=5, res=300)\n",
    "\n",
    "ggplot(df, aes(y=Confirmed.last.week)) + \n",
    "    geom_boxplot(fill=\"slateblue\", alpha=0.2) + \n",
    "    ggtitle(\"Boxplot of confirmed last week cases\") +\n",
    "    theme(\n",
    "        axis.text=element_text(size=6.5), \n",
    "        axis.title=element_text(size=14, face=\"bold\")\n",
    "    ) +\n",
    "    coord_cartesian(ylim = c(0, 120000))\n",
    "\n",
    "dev.off()\n",
    "\n",
    "png(filename = \"img/Confirmed_last_week_histogram.png\", units=\"in\", width=5, height=5, res=300)\n",
    "\n",
    "ggplot(df, aes(Confirmed.last.week)) +\n",
    "    geom_histogram( binwidth=5000, fill=\"#69b3a2\", color=\"#e9ecef\", alpha=0.9) +\n",
    "    ggtitle(\"Histogram of confirmed last week cases\") +\n",
    "    theme(plot.title = element_text(size=15)) +\n",
    "    xlim(0,120000)\n",
    "\n",
    "dev.off()"
   ]
  },
  {
   "cell_type": "markdown",
   "id": "9e4c71f4",
   "metadata": {},
   "source": [
    "#### 1 week change"
   ]
  },
  {
   "cell_type": "code",
   "execution_count": 51,
   "id": "109f8d60",
   "metadata": {
    "vscode": {
     "languageId": "r"
    }
   },
   "outputs": [
    {
     "data": {
      "text/html": [
       "<dl>\n",
       "\t<dt>$stats</dt>\n",
       "\t\t<dd><style>\n",
       ".list-inline {list-style: none; margin:0; padding: 0}\n",
       ".list-inline>li {display: inline-block}\n",
       ".list-inline>li:not(:last-child)::after {content: \"\\00b7\"; padding: 0 .5ex}\n",
       "</style>\n",
       "<ol class=list-inline><li>-47</li><li>47</li><li>418</li><li>3325</li><li>8193</li></ol>\n",
       "</dd>\n",
       "\t<dt>$n</dt>\n",
       "\t\t<dd>182</dd>\n",
       "\t<dt>$conf</dt>\n",
       "\t\t<dd><style>\n",
       ".list-inline {list-style: none; margin:0; padding: 0}\n",
       ".list-inline>li {display: inline-block}\n",
       ".list-inline>li:not(:last-child)::after {content: \"\\00b7\"; padding: 0 .5ex}\n",
       "</style>\n",
       "<ol class=list-inline><li>34.0891889176158</li><li>801.910811082384</li></ol>\n",
       "</dd>\n",
       "\t<dt>$out</dt>\n",
       "\t\t<dd><style>\n",
       ".list-inline {list-style: none; margin:0; padding: 0}\n",
       ".list-inline>li {display: inline-block}\n",
       ".list-inline>li:not(:last-child)::after {content: \"\\00b7\"; padding: 0 .5ex}\n",
       "</style>\n",
       "<ol class=list-inline><li>36642</li><li>18772</li><li>10190</li><li>323729</li><li>14894</li><li>53096</li><li>10200</li><li>324735</li><li>12089</li><li>17404</li><li>17892</li><li>11982</li><li>11180</li><li>46093</li><li>8658</li><li>32036</li><li>13142</li><li>40468</li><li>15585</li><li>78901</li><li>455582</li></ol>\n",
       "</dd>\n",
       "</dl>\n"
      ],
      "text/latex": [
       "\\begin{description}\n",
       "\\item[\\$stats] \\begin{enumerate*}\n",
       "\\item -47\n",
       "\\item 47\n",
       "\\item 418\n",
       "\\item 3325\n",
       "\\item 8193\n",
       "\\end{enumerate*}\n",
       "\n",
       "\\item[\\$n] 182\n",
       "\\item[\\$conf] \\begin{enumerate*}\n",
       "\\item 34.0891889176158\n",
       "\\item 801.910811082384\n",
       "\\end{enumerate*}\n",
       "\n",
       "\\item[\\$out] \\begin{enumerate*}\n",
       "\\item 36642\n",
       "\\item 18772\n",
       "\\item 10190\n",
       "\\item 323729\n",
       "\\item 14894\n",
       "\\item 53096\n",
       "\\item 10200\n",
       "\\item 324735\n",
       "\\item 12089\n",
       "\\item 17404\n",
       "\\item 17892\n",
       "\\item 11982\n",
       "\\item 11180\n",
       "\\item 46093\n",
       "\\item 8658\n",
       "\\item 32036\n",
       "\\item 13142\n",
       "\\item 40468\n",
       "\\item 15585\n",
       "\\item 78901\n",
       "\\item 455582\n",
       "\\end{enumerate*}\n",
       "\n",
       "\\end{description}\n"
      ],
      "text/markdown": [
       "$stats\n",
       ":   1. -47\n",
       "2. 47\n",
       "3. 418\n",
       "4. 3325\n",
       "5. 8193\n",
       "\n",
       "\n",
       "\n",
       "$n\n",
       ":   182\n",
       "$conf\n",
       ":   1. 34.0891889176158\n",
       "2. 801.910811082384\n",
       "\n",
       "\n",
       "\n",
       "$out\n",
       ":   1. 36642\n",
       "2. 18772\n",
       "3. 10190\n",
       "4. 323729\n",
       "5. 14894\n",
       "6. 53096\n",
       "7. 10200\n",
       "8. 324735\n",
       "9. 12089\n",
       "10. 17404\n",
       "11. 17892\n",
       "12. 11982\n",
       "13. 11180\n",
       "14. 46093\n",
       "15. 8658\n",
       "16. 32036\n",
       "17. 13142\n",
       "18. 40468\n",
       "19. 15585\n",
       "20. 78901\n",
       "21. 455582\n",
       "\n",
       "\n",
       "\n",
       "\n",
       "\n"
      ],
      "text/plain": [
       "$stats\n",
       "[1]  -47   47  418 3325 8193\n",
       "\n",
       "$n\n",
       "[1] 182\n",
       "\n",
       "$conf\n",
       "[1]  34.08919 801.91081\n",
       "\n",
       "$out\n",
       " [1]  36642  18772  10190 323729  14894  53096  10200 324735  12089  17404\n",
       "[11]  17892  11982  11180  46093   8658  32036  13142  40468  15585  78901\n",
       "[21] 455582\n"
      ]
     },
     "metadata": {},
     "output_type": "display_data"
    }
   ],
   "source": [
    "boxplot.stats(df$X1.week.change)"
   ]
  },
  {
   "cell_type": "code",
   "execution_count": 52,
   "id": "af215917",
   "metadata": {
    "vscode": {
     "languageId": "r"
    }
   },
   "outputs": [
    {
     "data": {
      "image/png": "[encoded data removed]",
      "text/plain": [
       "plot without title"
      ]
     },
     "metadata": {
      "image/png": {
       "height": 420,
       "width": 420
      }
     },
     "output_type": "display_data"
    },
    {
     "data": {
      "image/png": "[encoded data removed]",
      "text/plain": [
       "plot without title"
      ]
     },
     "metadata": {
      "image/png": {
       "height": 420,
       "width": 420
      }
     },
     "output_type": "display_data"
    }
   ],
   "source": [
    "ggplot(df, aes(x=as.factor(WHO.Region), y=X1.week.change)) + \n",
    "    geom_boxplot(fill=\"slateblue\", alpha=0.2) + \n",
    "    ggtitle(\"Boxplots of 1 week change cases divided by WHO region\") +\n",
    "    theme(\n",
    "        axis.text=element_text(size=6.5), \n",
    "        axis.title=element_text(size=14, face=\"bold\")\n",
    "    ) +\n",
    "    coord_cartesian(ylim = c(0, 11000)) + \n",
    "    xlab(\"WHO.Region\")\n",
    "\n",
    "ggplot(df, aes(y=X1.week.change)) + \n",
    "    geom_boxplot(fill=\"slateblue\", alpha=0.2) + \n",
    "    ggtitle(\"Boxplot of 1 week change cases\") +\n",
    "    theme(\n",
    "        axis.text=element_text(size=6.5), \n",
    "        axis.title=element_text(size=14, face=\"bold\")\n",
    "    ) +\n",
    "    coord_cartesian(ylim = c(0, 11000)) "
   ]
  },
  {
   "cell_type": "code",
   "execution_count": 53,
   "id": "1730049c",
   "metadata": {
    "vscode": {
     "languageId": "r"
    }
   },
   "outputs": [
    {
     "name": "stderr",
     "output_type": "stream",
     "text": [
      "Warning message:\n",
      "\"\u001b[1m\u001b[22mRemoved 19 rows containing non-finite values (`stat_bin()`).\"\n",
      "Warning message:\n",
      "\"\u001b[1m\u001b[22mRemoved 2 rows containing missing values (`geom_bar()`).\"\n"
     ]
    },
    {
     "data": {
      "image/png": "[encoded data removed]",
      "text/plain": [
       "plot without title"
      ]
     },
     "metadata": {
      "image/png": {
       "height": 420,
       "width": 420
      }
     },
     "output_type": "display_data"
    }
   ],
   "source": [
    "ggplot(df, aes(x=X1.week.change)) +\n",
    "    geom_histogram( binwidth=500, fill=\"#69b3a2\", color=\"#e9ecef\", alpha=0.9, position = 'identity') +\n",
    "    ggtitle(\"Histogram of 1 week change cases\") +\n",
    "    theme(plot.title = element_text(size=15)) +\n",
    "    xlim(0,11000)\n",
    "    "
   ]
  },
  {
   "cell_type": "code",
   "execution_count": 54,
   "id": "a20b9861",
   "metadata": {
    "vscode": {
     "languageId": "r"
    }
   },
   "outputs": [
    {
     "data": {
      "text/html": [
       "<strong>png:</strong> 2"
      ],
      "text/latex": [
       "\\textbf{png:} 2"
      ],
      "text/markdown": [
       "**png:** 2"
      ],
      "text/plain": [
       "png \n",
       "  2 "
      ]
     },
     "metadata": {},
     "output_type": "display_data"
    },
    {
     "data": {
      "text/html": [
       "<strong>png:</strong> 2"
      ],
      "text/latex": [
       "\\textbf{png:} 2"
      ],
      "text/markdown": [
       "**png:** 2"
      ],
      "text/plain": [
       "png \n",
       "  2 "
      ]
     },
     "metadata": {},
     "output_type": "display_data"
    },
    {
     "name": "stderr",
     "output_type": "stream",
     "text": [
      "Warning message:\n",
      "\"\u001b[1m\u001b[22mRemoved 19 rows containing non-finite values (`stat_bin()`).\"\n",
      "Warning message:\n",
      "\"\u001b[1m\u001b[22mRemoved 2 rows containing missing values (`geom_bar()`).\"\n"
     ]
    },
    {
     "data": {
      "text/html": [
       "<strong>png:</strong> 2"
      ],
      "text/latex": [
       "\\textbf{png:} 2"
      ],
      "text/markdown": [
       "**png:** 2"
      ],
      "text/plain": [
       "png \n",
       "  2 "
      ]
     },
     "metadata": {},
     "output_type": "display_data"
    }
   ],
   "source": [
    "png(filename = \"img/1_week_change_conditional_boxplot.png\", units=\"in\", width=5, height=5, res=300)\n",
    "\n",
    "ggplot(df, aes(x=as.factor(WHO.Region), y=X1.week.change)) + \n",
    "    geom_boxplot(fill=\"slateblue\", alpha=0.2) + \n",
    "    ggtitle(\"Boxplots of 1 week change cases divided by WHO region\") +\n",
    "    theme(\n",
    "        axis.text=element_text(size=6.5), \n",
    "        axis.title=element_text(size=14,face=\"bold\")\n",
    "    ) +\n",
    "    coord_cartesian(ylim = c(0, 11000)) +\n",
    "    xlab(\"WHO.Region\")\n",
    "\n",
    "dev.off()\n",
    "\n",
    "png(filename = \"img/1_week_change_boxplot.png\", units=\"in\", width=5, height=5, res=300)\n",
    "\n",
    "ggplot(df, aes(y=X1.week.change)) + \n",
    "    geom_boxplot(fill=\"slateblue\", alpha=0.2) + \n",
    "    ggtitle(\"Boxplot of 1 week change cases\") +\n",
    "    theme(\n",
    "        axis.text=element_text(size=6.5), \n",
    "        axis.title=element_text(size=14, face=\"bold\")\n",
    "    ) +\n",
    "    coord_cartesian(ylim = c(0, 11000))\n",
    "\n",
    "dev.off()\n",
    "\n",
    "png(filename = \"img/1_week_change_histogram.png\", units=\"in\", width=5, height=5, res=300)\n",
    "\n",
    "ggplot(df, aes(X1.week.change)) +\n",
    "    geom_histogram( binwidth=500, fill=\"#69b3a2\", color=\"#e9ecef\", alpha=0.9) +\n",
    "    ggtitle(\"Histogram of 1 week change cases\") +\n",
    "    theme(plot.title = element_text(size=15)) +\n",
    "    xlim(0,11000)\n",
    "\n",
    "dev.off()"
   ]
  },
  {
   "cell_type": "markdown",
   "id": "faee082c",
   "metadata": {},
   "source": [
    "#### 1 week % increase"
   ]
  },
  {
   "cell_type": "code",
   "execution_count": 55,
   "id": "109f8d60",
   "metadata": {
    "vscode": {
     "languageId": "r"
    }
   },
   "outputs": [
    {
     "data": {
      "text/html": [
       "<dl>\n",
       "\t<dt>$stats</dt>\n",
       "\t\t<dd><style>\n",
       ".list-inline {list-style: none; margin:0; padding: 0}\n",
       ".list-inline>li {display: inline-block}\n",
       ".list-inline>li:not(:last-child)::after {content: \"\\00b7\"; padding: 0 .5ex}\n",
       "</style>\n",
       "<ol class=list-inline><li>-3.84</li><li>2.75</li><li>6.89</li><li>17</li><li>37.44</li></ol>\n",
       "</dd>\n",
       "\t<dt>$n</dt>\n",
       "\t\t<dd>182</dd>\n",
       "\t<dt>$conf</dt>\n",
       "\t\t<dd><style>\n",
       ".list-inline {list-style: none; margin:0; padding: 0}\n",
       ".list-inline>li {display: inline-block}\n",
       ".list-inline>li:not(:last-child)::after {content: \"\\00b7\"; padding: 0 .5ex}\n",
       "</style>\n",
       "<ol class=list-inline><li>5.22107716353753</li><li>8.55892283646247</li></ol>\n",
       "</dd>\n",
       "\t<dt>$out</dt>\n",
       "\t\t<dd><style>\n",
       ".list-inline {list-style: none; margin:0; padding: 0}\n",
       ".list-inline>li {display: inline-block}\n",
       ".list-inline>li:not(:last-child)::after {content: \"\\00b7\"; padding: 0 .5ex}\n",
       "</style>\n",
       "<ol class=list-inline><li>119.54</li><li>41.57</li><li>42.52</li><li>191.07</li><li>40.67</li><li>42.78</li><li>226.32</li><li>57.85</li></ol>\n",
       "</dd>\n",
       "</dl>\n"
      ],
      "text/latex": [
       "\\begin{description}\n",
       "\\item[\\$stats] \\begin{enumerate*}\n",
       "\\item -3.84\n",
       "\\item 2.75\n",
       "\\item 6.89\n",
       "\\item 17\n",
       "\\item 37.44\n",
       "\\end{enumerate*}\n",
       "\n",
       "\\item[\\$n] 182\n",
       "\\item[\\$conf] \\begin{enumerate*}\n",
       "\\item 5.22107716353753\n",
       "\\item 8.55892283646247\n",
       "\\end{enumerate*}\n",
       "\n",
       "\\item[\\$out] \\begin{enumerate*}\n",
       "\\item 119.54\n",
       "\\item 41.57\n",
       "\\item 42.52\n",
       "\\item 191.07\n",
       "\\item 40.67\n",
       "\\item 42.78\n",
       "\\item 226.32\n",
       "\\item 57.85\n",
       "\\end{enumerate*}\n",
       "\n",
       "\\end{description}\n"
      ],
      "text/markdown": [
       "$stats\n",
       ":   1. -3.84\n",
       "2. 2.75\n",
       "3. 6.89\n",
       "4. 17\n",
       "5. 37.44\n",
       "\n",
       "\n",
       "\n",
       "$n\n",
       ":   182\n",
       "$conf\n",
       ":   1. 5.22107716353753\n",
       "2. 8.55892283646247\n",
       "\n",
       "\n",
       "\n",
       "$out\n",
       ":   1. 119.54\n",
       "2. 41.57\n",
       "3. 42.52\n",
       "4. 191.07\n",
       "5. 40.67\n",
       "6. 42.78\n",
       "7. 226.32\n",
       "8. 57.85\n",
       "\n",
       "\n",
       "\n",
       "\n",
       "\n"
      ],
      "text/plain": [
       "$stats\n",
       "[1] -3.84  2.75  6.89 17.00 37.44\n",
       "\n",
       "$n\n",
       "[1] 182\n",
       "\n",
       "$conf\n",
       "[1] 5.221077 8.558923\n",
       "\n",
       "$out\n",
       "[1] 119.54  41.57  42.52 191.07  40.67  42.78 226.32  57.85\n"
      ]
     },
     "metadata": {},
     "output_type": "display_data"
    }
   ],
   "source": [
    "boxplot.stats(df$X1.week...increase)"
   ]
  },
  {
   "cell_type": "code",
   "execution_count": 56,
   "id": "af215917",
   "metadata": {
    "vscode": {
     "languageId": "r"
    }
   },
   "outputs": [
    {
     "data": {
      "image/png": "[encoded data removed]",
      "text/plain": [
       "plot without title"
      ]
     },
     "metadata": {
      "image/png": {
       "height": 420,
       "width": 420
      }
     },
     "output_type": "display_data"
    },
    {
     "data": {
      "image/png": "[encoded data removed]",
      "text/plain": [
       "plot without title"
      ]
     },
     "metadata": {
      "image/png": {
       "height": 420,
       "width": 420
      }
     },
     "output_type": "display_data"
    }
   ],
   "source": [
    "ggplot(df, aes(x=as.factor(WHO.Region), y=X1.week...increase)) + \n",
    "    geom_boxplot(fill=\"slateblue\", alpha=0.2) + \n",
    "    ggtitle(\"Boxplots of 1 week increase cases divided by WHO region\") +\n",
    "    theme(\n",
    "        axis.text=element_text(size=6.5), \n",
    "        axis.title=element_text(size=14, face=\"bold\")\n",
    "    ) +\n",
    "    coord_cartesian(ylim = c(0, 50)) + \n",
    "    xlab(\"WHO.Region\")\n",
    "\n",
    "ggplot(df, aes(y=X1.week...increase)) + \n",
    "    geom_boxplot(fill=\"slateblue\", alpha=0.2) + \n",
    "    ggtitle(\"Boxplot of 1 week increase cases\") +\n",
    "    theme(\n",
    "        axis.text=element_text(size=6.5), \n",
    "        axis.title=element_text(size=14, face=\"bold\")\n",
    "    ) +\n",
    "    coord_cartesian(ylim = c(0, 50)) "
   ]
  },
  {
   "cell_type": "code",
   "execution_count": 57,
   "id": "1730049c",
   "metadata": {
    "vscode": {
     "languageId": "r"
    }
   },
   "outputs": [
    {
     "name": "stderr",
     "output_type": "stream",
     "text": [
      "Warning message:\n",
      "\"\u001b[1m\u001b[22mRemoved 5 rows containing non-finite values (`stat_bin()`).\"\n",
      "Warning message:\n",
      "\"\u001b[1m\u001b[22mRemoved 2 rows containing missing values (`geom_bar()`).\"\n"
     ]
    },
    {
     "data": {
      "image/png": "[encoded data removed]",
      "text/plain": [
       "plot without title"
      ]
     },
     "metadata": {
      "image/png": {
       "height": 420,
       "width": 420
      }
     },
     "output_type": "display_data"
    }
   ],
   "source": [
    "ggplot(df, aes(x=X1.week...increase)) +\n",
    "    geom_histogram( binwidth=3, fill=\"#69b3a2\", color=\"#e9ecef\", alpha=0.9, position = 'identity') +\n",
    "    ggtitle(\"Histogram of 1 week increase cases\") +\n",
    "    theme(plot.title = element_text(size=15)) +\n",
    "    xlim(0,50)\n",
    "    "
   ]
  },
  {
   "cell_type": "code",
   "execution_count": 58,
   "id": "a20b9861",
   "metadata": {
    "vscode": {
     "languageId": "r"
    }
   },
   "outputs": [
    {
     "data": {
      "text/html": [
       "<strong>png:</strong> 2"
      ],
      "text/latex": [
       "\\textbf{png:} 2"
      ],
      "text/markdown": [
       "**png:** 2"
      ],
      "text/plain": [
       "png \n",
       "  2 "
      ]
     },
     "metadata": {},
     "output_type": "display_data"
    },
    {
     "data": {
      "text/html": [
       "<strong>png:</strong> 2"
      ],
      "text/latex": [
       "\\textbf{png:} 2"
      ],
      "text/markdown": [
       "**png:** 2"
      ],
      "text/plain": [
       "png \n",
       "  2 "
      ]
     },
     "metadata": {},
     "output_type": "display_data"
    },
    {
     "name": "stderr",
     "output_type": "stream",
     "text": [
      "Warning message:\n",
      "\"\u001b[1m\u001b[22mRemoved 171 rows containing non-finite values (`stat_bin()`).\"\n",
      "Warning message:\n",
      "\"\u001b[1m\u001b[22mRemoved 2 rows containing missing values (`geom_bar()`).\"\n"
     ]
    },
    {
     "data": {
      "text/html": [
       "<strong>png:</strong> 2"
      ],
      "text/latex": [
       "\\textbf{png:} 2"
      ],
      "text/markdown": [
       "**png:** 2"
      ],
      "text/plain": [
       "png \n",
       "  2 "
      ]
     },
     "metadata": {},
     "output_type": "display_data"
    }
   ],
   "source": [
    "png(filename = \"img/1_week_increase_conditional_boxplot.png\", units=\"in\", width=5, height=5, res=300)\n",
    "\n",
    "ggplot(df, aes(x=as.factor(WHO.Region), y=X1.week...increase)) + \n",
    "    geom_boxplot(fill=\"slateblue\", alpha=0.2) + \n",
    "    ggtitle(\"Boxplots of 1 week increase cases divided by WHO region\") +\n",
    "    theme(\n",
    "        axis.text=element_text(size=6.5), \n",
    "        axis.title=element_text(size=14,face=\"bold\")\n",
    "    ) +\n",
    "    coord_cartesian(ylim = c(0, 50)) +\n",
    "    xlab(\"WHO.Region\")\n",
    "\n",
    "dev.off()\n",
    "\n",
    "png(filename = \"img/1_week_increase_boxplot.png\", units=\"in\", width=5, height=5, res=300)\n",
    "\n",
    "ggplot(df, aes(y=X1.week...increase)) + \n",
    "    geom_boxplot(fill=\"slateblue\", alpha=0.2) + \n",
    "    ggtitle(\"Boxplot of 1 week increase cases\") +\n",
    "    theme(\n",
    "        axis.text=element_text(size=6.5), \n",
    "        axis.title=element_text(size=14, face=\"bold\")\n",
    "    ) +\n",
    "    coord_cartesian(ylim = c(0, 50))\n",
    "\n",
    "dev.off()\n",
    "\n",
    "png(filename = \"img/1_week_increase_histogram.png\", units=\"in\", width=5, height=5, res=300)\n",
    "\n",
    "ggplot(df, aes(Confirmed)) +\n",
    "    geom_histogram( binwidth=3, fill=\"#69b3a2\", color=\"#e9ecef\", alpha=0.9) +\n",
    "    ggtitle(\"Histogram of 1 week increase cases\") +\n",
    "    theme(plot.title = element_text(size=15)) +\n",
    "    xlim(0,50)\n",
    "\n",
    "dev.off()"
   ]
  },
  {
   "cell_type": "code",
   "execution_count": null,
   "id": "d4c1ba6f",
   "metadata": {
    "vscode": {
     "languageId": "r"
    }
   },
   "outputs": [],
   "source": []
  },
  {
   "cell_type": "code",
   "execution_count": null,
   "id": "96865aa0",
   "metadata": {
    "vscode": {
     "languageId": "r"
    }
   },
   "outputs": [],
   "source": []
  },
  {
   "cell_type": "code",
   "execution_count": null,
   "id": "2faa7fda-8b43-452c-b850-bc430e1d126f",
   "metadata": {
    "vscode": {
     "languageId": "r"
    }
   },
   "outputs": [],
   "source": []
  },
  {
   "cell_type": "markdown",
   "id": "d0fc580e",
   "metadata": {},
   "source": [
    "#### WHO Region"
   ]
  },
  {
   "cell_type": "code",
   "execution_count": 59,
   "id": "8dacbcd9",
   "metadata": {
    "vscode": {
     "languageId": "r"
    }
   },
   "outputs": [
    {
     "data": {
      "text/plain": [
       "\n",
       "               Africa              Americas Eastern Mediterranean \n",
       "                   47                    34                    21 \n",
       "               Europe       South-East Asia       Western Pacific \n",
       "                   54                    10                    16 "
      ]
     },
     "metadata": {},
     "output_type": "display_data"
    }
   ],
   "source": [
    "table(df$WHO.Region)"
   ]
  },
  {
   "cell_type": "markdown",
   "id": "b399184f",
   "metadata": {},
   "source": [
    "### Multivariate EDA"
   ]
  },
  {
   "cell_type": "code",
   "execution_count": 60,
   "id": "97b9dff1",
   "metadata": {
    "vscode": {
     "languageId": "r"
    }
   },
   "outputs": [
    {
     "name": "stderr",
     "output_type": "stream",
     "text": [
      "\u001b[1m\u001b[22m`geom_smooth()` using formula = 'y ~ x'\n",
      "Warning message:\n",
      "\"\u001b[1m\u001b[22mRemoved 28 rows containing non-finite values (`stat_smooth()`).\"\n",
      "Warning message:\n",
      "\"\u001b[1m\u001b[22mRemoved 28 rows containing missing values (`geom_point()`).\"\n"
     ]
    },
    {
     "data": {
      "text/html": [
       "<strong>png:</strong> 2"
      ],
      "text/latex": [
       "\\textbf{png:} 2"
      ],
      "text/markdown": [
       "**png:** 2"
      ],
      "text/plain": [
       "png \n",
       "  2 "
      ]
     },
     "metadata": {},
     "output_type": "display_data"
    },
    {
     "name": "stderr",
     "output_type": "stream",
     "text": [
      "\u001b[1m\u001b[22m`geom_smooth()` using formula = 'y ~ x'\n",
      "Warning message:\n",
      "\"\u001b[1m\u001b[22mRemoved 28 rows containing non-finite values (`stat_smooth()`).\"\n",
      "Warning message:\n",
      "\"\u001b[1m\u001b[22mRemoved 28 rows containing missing values (`geom_point()`).\"\n"
     ]
    },
    {
     "data": {
      "image/png": "[encoded data removed]",
      "text/plain": [
       "plot without title"
      ]
     },
     "metadata": {
      "image/png": {
       "height": 420,
       "width": 420
      }
     },
     "output_type": "display_data"
    }
   ],
   "source": [
    "png(filename = \"img/Scatter_confirmed_vs_deaths.png\", units=\"in\", width=5, height=5, res=300)\n",
    "\n",
    "ggplot(df, aes(x=Confirmed, y=Deaths, color=WHO.Region)) + \n",
    "    geom_point(size=3) +\n",
    "    geom_smooth(method=lm , color=\"red\", fill=\"#69b3a2\", se=TRUE) +\n",
    "    xlim(0,100000) +\n",
    "    ylim(0,4000) +\n",
    "    theme(legend.position = c(0.8, 0.8))\n",
    "\n",
    "dev.off()\n",
    "\n",
    "\n",
    "ggplot(df, aes(x=Confirmed, y=Deaths, color=WHO.Region)) + \n",
    "    geom_point(size=3) +\n",
    "    geom_smooth(method=lm , color=\"red\", fill=\"#69b3a2\", se=TRUE) +\n",
    "    xlim(0,100000) +\n",
    "    ylim(0,4000) +\n",
    "    theme(legend.position = c(0.85, 0.85))\n"
   ]
  },
  {
   "cell_type": "code",
   "execution_count": 61,
   "id": "d14fe260",
   "metadata": {
    "vscode": {
     "languageId": "r"
    }
   },
   "outputs": [
    {
     "name": "stderr",
     "output_type": "stream",
     "text": [
      "\u001b[1m\u001b[22m`geom_smooth()` using formula = 'y ~ x'\n",
      "Warning message:\n",
      "\"\u001b[1m\u001b[22mRemoved 23 rows containing non-finite values (`stat_smooth()`).\"\n",
      "Warning message:\n",
      "\"\u001b[1m\u001b[22mRemoved 23 rows containing missing values (`geom_point()`).\"\n"
     ]
    },
    {
     "data": {
      "text/html": [
       "<strong>png:</strong> 2"
      ],
      "text/latex": [
       "\\textbf{png:} 2"
      ],
      "text/markdown": [
       "**png:** 2"
      ],
      "text/plain": [
       "png \n",
       "  2 "
      ]
     },
     "metadata": {},
     "output_type": "display_data"
    },
    {
     "name": "stderr",
     "output_type": "stream",
     "text": [
      "\u001b[1m\u001b[22m`geom_smooth()` using formula = 'y ~ x'\n",
      "Warning message:\n",
      "\"\u001b[1m\u001b[22mRemoved 23 rows containing non-finite values (`stat_smooth()`).\"\n",
      "Warning message:\n",
      "\"\u001b[1m\u001b[22mRemoved 23 rows containing missing values (`geom_point()`).\"\n"
     ]
    },
    {
     "data": {
      "image/png": "[encoded data removed]",
      "text/plain": [
       "plot without title"
      ]
     },
     "metadata": {
      "image/png": {
       "height": 420,
       "width": 420
      }
     },
     "output_type": "display_data"
    }
   ],
   "source": [
    "png(filename = \"img/Scatter_confirmed_vs_recovered.png\", units=\"in\", width=5, height=5, res=300)\n",
    "\n",
    "ggplot(df, aes(x=Confirmed, y=Recovered, color=WHO.Region)) + \n",
    "    geom_point(size=3) +\n",
    "    geom_smooth(method=lm , color=\"red\", fill=\"#69b3a2\", se=TRUE) +\n",
    "    xlim(0,100000) +\n",
    "    ylim(0,100000) +\n",
    "    theme(legend.position = c(0.8, 0.8))\n",
    "\n",
    "dev.off()\n",
    "\n",
    "\n",
    "ggplot(df, aes(x=Confirmed, y=Recovered, color=WHO.Region)) + \n",
    "    geom_point(size=3) +\n",
    "    geom_smooth(method=lm , color=\"red\", fill=\"#69b3a2\", se=TRUE) +\n",
    "    xlim(0,100000) +\n",
    "    ylim(0,100000) +\n",
    "    theme(legend.position = c(0.85, 0.85))\n"
   ]
  },
  {
   "cell_type": "code",
   "execution_count": 62,
   "id": "650296d5",
   "metadata": {
    "vscode": {
     "languageId": "r"
    }
   },
   "outputs": [
    {
     "data": {
      "text/html": [
       "<strong>png:</strong> 2"
      ],
      "text/latex": [
       "\\textbf{png:} 2"
      ],
      "text/markdown": [
       "**png:** 2"
      ],
      "text/plain": [
       "png \n",
       "  2 "
      ]
     },
     "metadata": {},
     "output_type": "display_data"
    },
    {
     "data": {
      "image/png": "[encoded data removed]",
      "text/plain": [
       "plot without title"
      ]
     },
     "metadata": {
      "image/png": {
       "height": 420,
       "width": 420
      }
     },
     "output_type": "display_data"
    }
   ],
   "source": [
    "df_num = df[2:14]\n",
    "\n",
    "\n",
    "# First\n",
    "corrgram(df_num, order=TRUE, lower.panel=panel.shade, upper.panel=panel.pie, text.panel=panel.txt, main=\"Correlation matrix\") \n",
    "\n",
    "png(filename = \"img/Correlation_matrix.png\", units=\"in\", width=5, height=5, res=300)\n",
    "\n",
    "corrgram(df_num, order=TRUE, lower.panel=panel.shade, upper.panel=panel.pie, text.panel=panel.txt, main=\"Correlation matrix\") \n",
    "\n",
    "dev.off()\n"
   ]
  },
  {
   "cell_type": "markdown",
   "id": "95ae0304",
   "metadata": {},
   "source": [
    "## Dimensionality reduction"
   ]
  },
  {
   "cell_type": "code",
   "execution_count": 63,
   "id": "beed67a8",
   "metadata": {
    "vscode": {
     "languageId": "r"
    }
   },
   "outputs": [
    {
     "name": "stdout",
     "output_type": "stream",
     "text": [
      "'data.frame':\t182 obs. of  15 variables:\n",
      " $ Country.Region        : chr  \"Afghanistan\" \"Albania\" \"Algeria\" \"Andorra\" ...\n",
      " $ Confirmed             : int  36263 4880 27973 907 950 86 167416 37390 15303 20558 ...\n",
      " $ Deaths                : int  1269 144 1163 52 41 3 3059 711 167 713 ...\n",
      " $ Recovered             : int  25198 2745 18837 803 242 65 72575 26665 9311 18246 ...\n",
      " $ Active                : int  9796 1991 7973 52 667 18 91782 10014 5825 1599 ...\n",
      " $ New.cases             : int  106 117 616 10 18 4 4890 73 368 86 ...\n",
      " $ New.deaths            : int  10 6 8 0 1 0 120 6 6 1 ...\n",
      " $ New.recovered         : int  18 63 749 0 0 5 2057 187 137 37 ...\n",
      " $ Deaths...100.Cases    : num  3.5 2.95 4.16 5.73 4.32 3.49 1.83 1.9 1.09 3.47 ...\n",
      " $ Recovered...100.Cases : num  69.5 56.2 67.3 88.5 25.5 ...\n",
      " $ Deaths...100.Recovered: num  5.04 5.25 6.17 6.48 16.94 ...\n",
      " $ Confirmed.last.week   : int  35526 4171 23691 884 749 76 130774 34981 12428 19743 ...\n",
      " $ X1.week.change        : int  737 709 4282 23 201 10 36642 2409 2875 815 ...\n",
      " $ X1.week...increase    : num  2.07 17 18.07 2.6 26.84 ...\n",
      " $ WHO.Region            : chr  \"Eastern Mediterranean\" \"Europe\" \"Africa\" \"Europe\" ...\n"
     ]
    }
   ],
   "source": [
    "str(df)"
   ]
  },
  {
   "cell_type": "code",
   "execution_count": 64,
   "id": "8bae3626",
   "metadata": {
    "vscode": {
     "languageId": "r"
    }
   },
   "outputs": [
    {
     "data": {
      "text/html": [
       "<style>\n",
       ".list-inline {list-style: none; margin:0; padding: 0}\n",
       ".list-inline>li {display: inline-block}\n",
       ".list-inline>li:not(:last-child)::after {content: \"\\00b7\"; padding: 0 .5ex}\n",
       "</style>\n",
       "<ol class=list-inline><li>0.616977459780826</li><li>0.123266129637276</li><li>0.104685583846847</li><li>0.0510483067850515</li><li>0.0379863874959457</li><li>0.0319526100795748</li><li>0.0199390336020361</li><li>0.00887849217753967</li><li>0.00361606840007441</li><li>0.00130097169141562</li><li>0.000348956503413679</li><li>-7.63943361031493e-18</li><li>-2.45989981986085e-17</li></ol>\n"
      ],
      "text/latex": [
       "\\begin{enumerate*}\n",
       "\\item 0.616977459780826\n",
       "\\item 0.123266129637276\n",
       "\\item 0.104685583846847\n",
       "\\item 0.0510483067850515\n",
       "\\item 0.0379863874959457\n",
       "\\item 0.0319526100795748\n",
       "\\item 0.0199390336020361\n",
       "\\item 0.00887849217753967\n",
       "\\item 0.00361606840007441\n",
       "\\item 0.00130097169141562\n",
       "\\item 0.000348956503413679\n",
       "\\item -7.63943361031493e-18\n",
       "\\item -2.45989981986085e-17\n",
       "\\end{enumerate*}\n"
      ],
      "text/markdown": [
       "1. 0.616977459780826\n",
       "2. 0.123266129637276\n",
       "3. 0.104685583846847\n",
       "4. 0.0510483067850515\n",
       "5. 0.0379863874959457\n",
       "6. 0.0319526100795748\n",
       "7. 0.0199390336020361\n",
       "8. 0.00887849217753967\n",
       "9. 0.00361606840007441\n",
       "10. 0.00130097169141562\n",
       "11. 0.000348956503413679\n",
       "12. -7.63943361031493e-18\n",
       "13. -2.45989981986085e-17\n",
       "\n",
       "\n"
      ],
      "text/plain": [
       " [1]  6.169775e-01  1.232661e-01  1.046856e-01  5.104831e-02  3.798639e-02\n",
       " [6]  3.195261e-02  1.993903e-02  8.878492e-03  3.616068e-03  1.300972e-03\n",
       "[11]  3.489565e-04 -7.639434e-18 -2.459900e-17"
      ]
     },
     "metadata": {},
     "output_type": "display_data"
    },
    {
     "data": {
      "text/html": [
       "<style>\n",
       ".list-inline {list-style: none; margin:0; padding: 0}\n",
       ".list-inline>li {display: inline-block}\n",
       ".list-inline>li:not(:last-child)::after {content: \"\\00b7\"; padding: 0 .5ex}\n",
       "</style>\n",
       "<ol class=list-inline><li>0.616977459780826</li><li>0.740243589418102</li><li>0.844929173264948</li><li>0.89597748005</li><li>0.933963867545946</li><li>0.965916477625521</li><li>0.985855511227557</li><li>0.994734003405096</li><li>0.998350071805171</li><li>0.999651043496586</li><li>1</li><li>1</li><li>1</li></ol>\n"
      ],
      "text/latex": [
       "\\begin{enumerate*}\n",
       "\\item 0.616977459780826\n",
       "\\item 0.740243589418102\n",
       "\\item 0.844929173264948\n",
       "\\item 0.89597748005\n",
       "\\item 0.933963867545946\n",
       "\\item 0.965916477625521\n",
       "\\item 0.985855511227557\n",
       "\\item 0.994734003405096\n",
       "\\item 0.998350071805171\n",
       "\\item 0.999651043496586\n",
       "\\item 1\n",
       "\\item 1\n",
       "\\item 1\n",
       "\\end{enumerate*}\n"
      ],
      "text/markdown": [
       "1. 0.616977459780826\n",
       "2. 0.740243589418102\n",
       "3. 0.844929173264948\n",
       "4. 0.89597748005\n",
       "5. 0.933963867545946\n",
       "6. 0.965916477625521\n",
       "7. 0.985855511227557\n",
       "8. 0.994734003405096\n",
       "9. 0.998350071805171\n",
       "10. 0.999651043496586\n",
       "11. 1\n",
       "12. 1\n",
       "13. 1\n",
       "\n",
       "\n"
      ],
      "text/plain": [
       " [1] 0.6169775 0.7402436 0.8449292 0.8959775 0.9339639 0.9659165 0.9858555\n",
       " [8] 0.9947340 0.9983501 0.9996510 1.0000000 1.0000000 1.0000000"
      ]
     },
     "metadata": {},
     "output_type": "display_data"
    }
   ],
   "source": [
    "df_num = df[2:14]\n",
    "\n",
    "df_scaled = scale(df_num)\n",
    "\n",
    "corr_mat = cor(df_scaled)\n",
    "eig = eigen(corr_mat)\n",
    "\n",
    "PVE = eig$values/sum(eig$values)\n",
    "PVE\n",
    "\n",
    "cumsum(PVE)"
   ]
  },
  {
   "cell_type": "code",
   "execution_count": 65,
   "id": "391a79d9",
   "metadata": {
    "vscode": {
     "languageId": "r"
    }
   },
   "outputs": [
    {
     "name": "stderr",
     "output_type": "stream",
     "text": [
      "Warning message:\n",
      "\"\u001b[1m\u001b[22m`qplot()` was deprecated in ggplot2 3.4.0.\"\n",
      "ERROR while rich displaying an object: \u001b[1m\u001b[33mError\u001b[39m in `geom_point()`:\u001b[22m\n",
      "\u001b[1m\u001b[22m\u001b[33m!\u001b[39m Problem while computing aesthetics.\n",
      "\u001b[36mℹ\u001b[39m Error occurred in the 1st layer.\n",
      "\u001b[1mCaused by error in `check_aesthetics()`:\u001b[22m\n",
      "\u001b[1m\u001b[22m\u001b[33m!\u001b[39m Aesthetics must be either length 1 or the same as the data (13)\n",
      "\u001b[31m✖\u001b[39m Fix the following mappings: `x`\n",
      "\n",
      "Traceback:\n",
      "1. tryCatch(withCallingHandlers({\n",
      " .     if (!mime %in% names(repr::mime2repr)) \n",
      " .         stop(\"No repr_* for mimetype \", mime, \" in repr::mime2repr\")\n",
      " .     rpr <- repr::mime2repr[[mime]](obj)\n",
      " .     if (is.null(rpr)) \n",
      " .         return(NULL)\n",
      " .     prepare_content(is.raw(rpr), rpr)\n",
      " . }, error = error_handler), error = outer_handler)\n",
      "2. tryCatchList(expr, classes, parentenv, handlers)\n",
      "3. tryCatchOne(expr, names, parentenv, handlers[[1L]])\n",
      "4. doTryCatch(return(expr), name, parentenv, handler)\n",
      "5. withCallingHandlers({\n",
      " .     if (!mime %in% names(repr::mime2repr)) \n",
      " .         stop(\"No repr_* for mimetype \", mime, \" in repr::mime2repr\")\n",
      " .     rpr <- repr::mime2repr[[mime]](obj)\n",
      " .     if (is.null(rpr)) \n",
      " .         return(NULL)\n",
      " .     prepare_content(is.raw(rpr), rpr)\n",
      " . }, error = error_handler)\n",
      "6. repr::mime2repr[[mime]](obj)\n",
      "7. repr_text.default(obj)\n",
      "8. paste(capture.output(print(obj)), collapse = \"\\n\")\n",
      "9. capture.output(print(obj))\n",
      "10. withVisible(...elt(i))\n",
      "11. print(obj)\n",
      "12. print.ggplot(obj)\n",
      "13. ggplot_build(x)\n",
      "14. ggplot_build.ggplot(x)\n",
      "15. by_layer(function(l, d) l$compute_aesthetics(d, plot), layers, \n",
      "  .     data, \"computing aesthetics\")\n",
      "16. try_fetch(for (i in seq_along(data)) {\n",
      "  .     out[[i]] <- f(l = layers[[i]], d = data[[i]])\n",
      "  . }, error = function(cnd) {\n",
      "  .     cli::cli_abort(c(\"Problem while {step}.\", i = \"Error occurred in the {ordinal(i)} layer.\"), \n",
      "  .         call = layers[[i]]$constructor, parent = cnd)\n",
      "  . })\n",
      "17. tryCatch(withCallingHandlers(expr, error = function(cnd) {\n",
      "  .     {\n",
      "  .         .__handler_frame__. <- TRUE\n",
      "  .         .__setup_frame__. <- frame\n",
      "  .     }\n",
      "  .     out <- handlers[[1L]](cnd)\n",
      "  .     if (!inherits(out, \"rlang_zap\")) \n",
      "  .         throw(out)\n",
      "  . }), stackOverflowError = handlers[[1L]])\n",
      "18. tryCatchList(expr, classes, parentenv, handlers)\n",
      "19. tryCatchOne(expr, names, parentenv, handlers[[1L]])\n",
      "20. doTryCatch(return(expr), name, parentenv, handler)\n",
      "21. withCallingHandlers(expr, error = function(cnd) {\n",
      "  .     {\n",
      "  .         .__handler_frame__. <- TRUE\n",
      "  .         .__setup_frame__. <- frame\n",
      "  .     }\n",
      "  .     out <- handlers[[1L]](cnd)\n",
      "  .     if (!inherits(out, \"rlang_zap\")) \n",
      "  .         throw(out)\n",
      "  . })\n",
      "22. f(l = layers[[i]], d = data[[i]])\n",
      "23. l$compute_aesthetics(d, plot)\n",
      "24. compute_aesthetics(..., self = self)\n",
      "25. check_aesthetics(evaled, n)\n",
      "26. cli::cli_abort(c(\"Aesthetics must be either length 1 or the same as the data ({n})\", \n",
      "  .     x = \"Fix the following mappings: {.col {names(which(!good))}}\"))\n",
      "27. rlang::abort(message, ..., call = call, use_cli_format = TRUE, \n",
      "  .     .frame = .frame)\n",
      "28. signal_abort(cnd, .file)\n",
      "29. signalCondition(cnd)\n",
      "30. (function (cnd) \n",
      "  . {\n",
      "  .     {\n",
      "  .         .__handler_frame__. <- TRUE\n",
      "  .         .__setup_frame__. <- frame\n",
      "  .     }\n",
      "  .     out <- handlers[[1L]](cnd)\n",
      "  .     if (!inherits(out, \"rlang_zap\")) \n",
      "  .         throw(out)\n",
      "  . })(structure(list(message = structure(\"Aesthetics must be either length 1 or the same as the data (13)\", names = \"\"), \n",
      "  .     trace = structure(list(call = list(IRkernel::main(), kernel$run(), \n",
      "  .         handle_shell(), executor$execute(msg), tryCatch(evaluate(request$content$code, \n",
      "  .             envir = .GlobalEnv, output_handler = oh, stop_on_error = 1L), \n",
      "  .             interrupt = function(cond) {\n",
      "  .                 log_debug(\"Interrupt during execution\")\n",
      "  .                 interrupted <<- TRUE\n",
      "  .             }, error = .self$handle_error), tryCatchList(expr, \n",
      "  .             classes, parentenv, handlers), tryCatchOne(tryCatchList(expr, \n",
      "  .             names[-nh], parentenv, handlers[-nh]), names[nh], \n",
      "  .             parentenv, handlers[[nh]]), doTryCatch(return(expr), \n",
      "  .             name, parentenv, handler), tryCatchList(expr, names[-nh], \n",
      "  .             parentenv, handlers[-nh]), tryCatchOne(expr, names, \n",
      "  .             parentenv, handlers[[1L]]), doTryCatch(return(expr), \n",
      "  .             name, parentenv, handler), evaluate(request$content$code, \n",
      "  .             envir = .GlobalEnv, output_handler = oh, stop_on_error = 1L), \n",
      "  .         evaluate_call(expr, parsed$src[[i]], envir = envir, enclos = enclos, \n",
      "  .             debug = debug, last = i == length(out), use_try = stop_on_error != \n",
      "  .                 2L, keep_warning = keep_warning, keep_message = keep_message, \n",
      "  .             output_handler = output_handler, include_timing = include_timing), \n",
      "  .         handle(pv <- withCallingHandlers(withVisible(value_fun(ev$value, \n",
      "  .             ev$visible)), warning = wHandler, error = eHandler, \n",
      "  .             message = mHandler)), try(f, silent = TRUE), tryCatch(expr, \n",
      "  .             error = function(e) {\n",
      "  .                 call <- conditionCall(e)\n",
      "  .                 if (!is.null(call)) {\n",
      "  .                   if (identical(call[[1L]], quote(doTryCatch))) \n",
      "  .                     call <- sys.call(-4L)\n",
      "  .                   dcall <- deparse(call, nlines = 1L)\n",
      "  .                   prefix <- paste(\"Error in\", dcall, \": \")\n",
      "  .                   LONG <- 75L\n",
      "  .                   sm <- strsplit(conditionMessage(e), \"\\n\")[[1L]]\n",
      "  .                   w <- 14L + nchar(dcall, type = \"w\") + nchar(sm[1L], \n",
      "  .                     type = \"w\")\n",
      "  .                   if (is.na(w)) \n",
      "  .                     w <- 14L + nchar(dcall, type = \"b\") + nchar(sm[1L], \n",
      "  .                       type = \"b\")\n",
      "  .                   if (w > LONG) \n",
      "  .                     prefix <- paste0(prefix, \"\\n  \")\n",
      "  .                 }\n",
      "  .                 else prefix <- \"Error : \"\n",
      "  .                 msg <- paste0(prefix, conditionMessage(e), \"\\n\")\n",
      "  .                 .Internal(seterrmessage(msg[1L]))\n",
      "  .                 if (!silent && isTRUE(getOption(\"show.error.messages\"))) {\n",
      "  .                   cat(msg, file = outFile)\n",
      "  .                   .Internal(printDeferredWarnings())\n",
      "  .                 }\n",
      "  .                 invisible(structure(msg, class = \"try-error\", \n",
      "  .                   condition = e))\n",
      "  .             }), tryCatchList(expr, classes, parentenv, handlers), \n",
      "  .         tryCatchOne(expr, names, parentenv, handlers[[1L]]), \n",
      "  .         doTryCatch(return(expr), name, parentenv, handler), withCallingHandlers(withVisible(value_fun(ev$value, \n",
      "  .             ev$visible)), warning = wHandler, error = eHandler, \n",
      "  .             message = mHandler), withVisible(value_fun(ev$value, \n",
      "  .             ev$visible)), value_fun(ev$value, ev$visible), prepare_mimebundle_kernel(obj, \n",
      "  .             .self$handle_display_error), prepare_mimebundle(obj, \n",
      "  .             \"text/plain\", error_handler = handle_display_error), \n",
      "  .         filter_map(mimetypes, function(mime) {\n",
      "  .             tryCatch(withCallingHandlers({\n",
      "  .                 if (!mime %in% names(repr::mime2repr)) \n",
      "  .                   stop(\"No repr_* for mimetype \", mime, \" in repr::mime2repr\")\n",
      "  .                 rpr <- repr::mime2repr[[mime]](obj)\n",
      "  .                 if (is.null(rpr)) \n",
      "  .                   return(NULL)\n",
      "  .                 prepare_content(is.raw(rpr), rpr)\n",
      "  .             }, error = error_handler), error = outer_handler)\n",
      "  .         }), Filter(Negate(is.null), sapply(x, f, simplify = simplify)), \n",
      "  .         unlist(lapply(x, f)), lapply(x, f), sapply(x, f, simplify = simplify), \n",
      "  .         lapply(X = X, FUN = FUN, ...), FUN(X[[i]], ...), tryCatch(withCallingHandlers({\n",
      "  .             if (!mime %in% names(repr::mime2repr)) \n",
      "  .                 stop(\"No repr_* for mimetype \", mime, \" in repr::mime2repr\")\n",
      "  .             rpr <- repr::mime2repr[[mime]](obj)\n",
      "  .             if (is.null(rpr)) \n",
      "  .                 return(NULL)\n",
      "  .             prepare_content(is.raw(rpr), rpr)\n",
      "  .         }, error = error_handler), error = outer_handler), tryCatchList(expr, \n",
      "  .             classes, parentenv, handlers), tryCatchOne(expr, \n",
      "  .             names, parentenv, handlers[[1L]]), doTryCatch(return(expr), \n",
      "  .             name, parentenv, handler), withCallingHandlers({\n",
      "  .             if (!mime %in% names(repr::mime2repr)) \n",
      "  .                 stop(\"No repr_* for mimetype \", mime, \" in repr::mime2repr\")\n",
      "  .             rpr <- repr::mime2repr[[mime]](obj)\n",
      "  .             if (is.null(rpr)) \n",
      "  .                 return(NULL)\n",
      "  .             prepare_content(is.raw(rpr), rpr)\n",
      "  .         }, error = error_handler), repr::mime2repr[[mime]](obj), \n",
      "  .         repr_text.default(obj), paste(capture.output(print(obj)), \n",
      "  .             collapse = \"\\n\"), capture.output(print(obj)), withVisible(...elt(i)), \n",
      "  .         print(obj), print.ggplot(obj), ggplot_build(x), ggplot_build.ggplot(x), \n",
      "  .         by_layer(function(l, d) l$compute_aesthetics(d, plot), \n",
      "  .             layers, data, \"computing aesthetics\"), try_fetch(for (i in seq_along(data)) {\n",
      "  .             out[[i]] <- f(l = layers[[i]], d = data[[i]])\n",
      "  .         }, error = function(cnd) {\n",
      "  .             cli::cli_abort(c(\"Problem while {step}.\", i = \"Error occurred in the {ordinal(i)} layer.\"), \n",
      "  .                 call = layers[[i]]$constructor, parent = cnd)\n",
      "  .         }), tryCatch(withCallingHandlers(expr, error = function(cnd) {\n",
      "  .             {\n",
      "  .                 .__handler_frame__. <- TRUE\n",
      "  .                 .__setup_frame__. <- frame\n",
      "  .             }\n",
      "  .             out <- handlers[[1L]](cnd)\n",
      "  .             if (!inherits(out, \"rlang_zap\")) \n",
      "  .                 throw(out)\n",
      "  .         }), stackOverflowError = handlers[[1L]]), tryCatchList(expr, \n",
      "  .             classes, parentenv, handlers), tryCatchOne(expr, \n",
      "  .             names, parentenv, handlers[[1L]]), doTryCatch(return(expr), \n",
      "  .             name, parentenv, handler), withCallingHandlers(expr, \n",
      "  .             error = function(cnd) {\n",
      "  .                 {\n",
      "  .                   .__handler_frame__. <- TRUE\n",
      "  .                   .__setup_frame__. <- frame\n",
      "  .                 }\n",
      "  .                 out <- handlers[[1L]](cnd)\n",
      "  .                 if (!inherits(out, \"rlang_zap\")) \n",
      "  .                   throw(out)\n",
      "  .             }), f(l = layers[[i]], d = data[[i]]), l$compute_aesthetics(d, \n",
      "  .             plot), compute_aesthetics(..., self = self), check_aesthetics(evaled, \n",
      "  .             n), cli::cli_abort(c(\"Aesthetics must be either length 1 or the same as the data ({n})\", \n",
      "  .             x = \"Fix the following mappings: {.col {names(which(!good))}}\")), \n",
      "  .         rlang::abort(message, ..., call = call, use_cli_format = TRUE, \n",
      "  .             .frame = .frame)), parent = c(0L, 1L, 2L, 3L, 4L, \n",
      "  .     5L, 6L, 7L, 6L, 9L, 10L, 4L, 12L, 13L, 14L, 15L, 16L, 17L, \n",
      "  .     18L, 13L, 13L, 13L, 22L, 23L, 24L, 25L, 26L, 26L, 25L, 29L, \n",
      "  .     30L, 31L, 32L, 33L, 34L, 31L, 31L, 31L, 38L, 38L, 40L, 38L, \n",
      "  .     38L, 43L, 43L, 45L, 46L, 47L, 48L, 49L, 50L, 47L, 46L, 53L, \n",
      "  .     54L, 55L, 56L, 57L), visible = c(TRUE, TRUE, TRUE, TRUE, \n",
      "  .     TRUE, TRUE, TRUE, TRUE, TRUE, TRUE, TRUE, TRUE, TRUE, TRUE, \n",
      "  .     TRUE, TRUE, TRUE, TRUE, TRUE, TRUE, TRUE, TRUE, TRUE, TRUE, \n",
      "  .     TRUE, TRUE, TRUE, TRUE, TRUE, TRUE, TRUE, TRUE, TRUE, TRUE, \n",
      "  .     TRUE, TRUE, TRUE, TRUE, TRUE, TRUE, TRUE, TRUE, TRUE, TRUE, \n",
      "  .     TRUE, TRUE, TRUE, TRUE, TRUE, TRUE, TRUE, TRUE, TRUE, TRUE, \n",
      "  .     TRUE, TRUE, FALSE, FALSE), namespace = c(\"IRkernel\", NA, \n",
      "  .     \"IRkernel\", NA, \"base\", \"base\", \"base\", \"base\", \"base\", \"base\", \n",
      "  .     \"base\", \"evaluate\", \"evaluate\", \"evaluate\", \"base\", \"base\", \n",
      "  .     \"base\", \"base\", \"base\", \"base\", \"base\", \"IRkernel\", \"IRkernel\", \n",
      "  .     \"IRdisplay\", \"IRdisplay\", \"base\", \"base\", \"base\", \"base\", \n",
      "  .     \"base\", \"IRdisplay\", \"base\", \"base\", \"base\", \"base\", \"base\", \n",
      "  .     NA, \"repr\", \"base\", \"utils\", \"base\", \"base\", \"ggplot2\", \"ggplot2\", \n",
      "  .     \"ggplot2\", \"ggplot2\", \"rlang\", \"base\", \"base\", \"base\", \"base\", \n",
      "  .     \"base\", \"ggplot2\", NA, \"ggplot2\", \"ggplot2\", \"cli\", \"rlang\"\n",
      "  .     ), scope = c(\"::\", NA, \"local\", NA, \"::\", \"local\", \"local\", \n",
      "  .     \"local\", \"local\", \"local\", \"local\", \"::\", \":::\", \"local\", \n",
      "  .     \"::\", \"::\", \"local\", \"local\", \"local\", \"::\", \"::\", \"local\", \n",
      "  .     \":::\", \"::\", \":::\", \"::\", \"::\", \"::\", \"::\", \"::\", \"local\", \n",
      "  .     \"::\", \"local\", \"local\", \"local\", \"::\", NA, \":::\", \"::\", \"::\", \n",
      "  .     \"::\", \"::\", \":::\", \"::\", \":::\", \":::\", \"::\", \"::\", \"local\", \n",
      "  .     \"local\", \"local\", \"::\", \"local\", NA, \"local\", \":::\", \"::\", \n",
      "  .     \"::\"), error_frame = c(FALSE, FALSE, FALSE, FALSE, FALSE, \n",
      "  .     FALSE, FALSE, FALSE, FALSE, FALSE, FALSE, FALSE, FALSE, FALSE, \n",
      "  .     FALSE, FALSE, FALSE, FALSE, FALSE, FALSE, FALSE, FALSE, FALSE, \n",
      "  .     FALSE, FALSE, FALSE, FALSE, FALSE, FALSE, FALSE, FALSE, FALSE, \n",
      "  .     FALSE, FALSE, FALSE, FALSE, FALSE, FALSE, FALSE, FALSE, FALSE, \n",
      "  .     FALSE, FALSE, FALSE, FALSE, FALSE, FALSE, FALSE, FALSE, FALSE, \n",
      "  .     FALSE, FALSE, FALSE, FALSE, FALSE, TRUE, FALSE, FALSE)), row.names = c(NA, \n",
      "  .     -58L), version = 2L, class = c(\"rlang_trace\", \"rlib_trace\", \n",
      "  .     \"tbl\", \"data.frame\")), parent = NULL, body = c(x = \"Fix the following mappings: `x`\"), \n",
      "  .     call = check_aesthetics(evaled, n), use_cli_format = TRUE), class = c(\"rlang_error\", \n",
      "  . \"error\", \"condition\")))\n",
      "31. handlers[[1L]](cnd)\n",
      "32. cli::cli_abort(c(\"Problem while {step}.\", i = \"Error occurred in the {ordinal(i)} layer.\"), \n",
      "  .     call = layers[[i]]$constructor, parent = cnd)\n",
      "33. rlang::abort(message, ..., call = call, use_cli_format = TRUE, \n",
      "  .     .frame = .frame)\n",
      "34. signal_abort(cnd, .file)\n"
     ]
    }
   ],
   "source": [
    "df_pca = prcomp(df_scaled)\n",
    "\n",
    "# compute total variance\n",
    "variance = df_pca$sdev^2 / sum(df_pca$sdev^2)\n",
    "\n",
    "# Scree plot\n",
    "qplot(c(1:12), variance) +\n",
    "  geom_line() +\n",
    "  geom_point(size=4)+\n",
    "  xlab(\"Principal Component\") +\n",
    "  ylab(\"Variance Explained\") +\n",
    "  ggtitle(\"Scree Plot\") +\n",
    "  ylim(0, 1)"
   ]
  },
  {
   "cell_type": "code",
   "execution_count": 66,
   "id": "dc6527aa",
   "metadata": {
    "vscode": {
     "languageId": "r"
    }
   },
   "outputs": [
    {
     "name": "stderr",
     "output_type": "stream",
     "text": [
      "ERROR while rich displaying an object: \u001b[1m\u001b[33mError\u001b[39m in `geom_point()`:\u001b[22m\n",
      "\u001b[1m\u001b[22m\u001b[33m!\u001b[39m Problem while computing aesthetics.\n",
      "\u001b[36mℹ\u001b[39m Error occurred in the 1st layer.\n",
      "\u001b[1mCaused by error in `check_aesthetics()`:\u001b[22m\n",
      "\u001b[1m\u001b[22m\u001b[33m!\u001b[39m Aesthetics must be either length 1 or the same as the data (13)\n",
      "\u001b[31m✖\u001b[39m Fix the following mappings: `x`\n",
      "\n",
      "Traceback:\n",
      "1. tryCatch(withCallingHandlers({\n",
      " .     if (!mime %in% names(repr::mime2repr)) \n",
      " .         stop(\"No repr_* for mimetype \", mime, \" in repr::mime2repr\")\n",
      " .     rpr <- repr::mime2repr[[mime]](obj)\n",
      " .     if (is.null(rpr)) \n",
      " .         return(NULL)\n",
      " .     prepare_content(is.raw(rpr), rpr)\n",
      " . }, error = error_handler), error = outer_handler)\n",
      "2. tryCatchList(expr, classes, parentenv, handlers)\n",
      "3. tryCatchOne(expr, names, parentenv, handlers[[1L]])\n",
      "4. doTryCatch(return(expr), name, parentenv, handler)\n",
      "5. withCallingHandlers({\n",
      " .     if (!mime %in% names(repr::mime2repr)) \n",
      " .         stop(\"No repr_* for mimetype \", mime, \" in repr::mime2repr\")\n",
      " .     rpr <- repr::mime2repr[[mime]](obj)\n",
      " .     if (is.null(rpr)) \n",
      " .         return(NULL)\n",
      " .     prepare_content(is.raw(rpr), rpr)\n",
      " . }, error = error_handler)\n",
      "6. repr::mime2repr[[mime]](obj)\n",
      "7. repr_text.default(obj)\n",
      "8. paste(capture.output(print(obj)), collapse = \"\\n\")\n",
      "9. capture.output(print(obj))\n",
      "10. withVisible(...elt(i))\n",
      "11. print(obj)\n",
      "12. print.ggplot(obj)\n",
      "13. ggplot_build(x)\n",
      "14. ggplot_build.ggplot(x)\n",
      "15. by_layer(function(l, d) l$compute_aesthetics(d, plot), layers, \n",
      "  .     data, \"computing aesthetics\")\n",
      "16. try_fetch(for (i in seq_along(data)) {\n",
      "  .     out[[i]] <- f(l = layers[[i]], d = data[[i]])\n",
      "  . }, error = function(cnd) {\n",
      "  .     cli::cli_abort(c(\"Problem while {step}.\", i = \"Error occurred in the {ordinal(i)} layer.\"), \n",
      "  .         call = layers[[i]]$constructor, parent = cnd)\n",
      "  . })\n",
      "17. tryCatch(withCallingHandlers(expr, error = function(cnd) {\n",
      "  .     {\n",
      "  .         .__handler_frame__. <- TRUE\n",
      "  .         .__setup_frame__. <- frame\n",
      "  .     }\n",
      "  .     out <- handlers[[1L]](cnd)\n",
      "  .     if (!inherits(out, \"rlang_zap\")) \n",
      "  .         throw(out)\n",
      "  . }), stackOverflowError = handlers[[1L]])\n",
      "18. tryCatchList(expr, classes, parentenv, handlers)\n",
      "19. tryCatchOne(expr, names, parentenv, handlers[[1L]])\n",
      "20. doTryCatch(return(expr), name, parentenv, handler)\n",
      "21. withCallingHandlers(expr, error = function(cnd) {\n",
      "  .     {\n",
      "  .         .__handler_frame__. <- TRUE\n",
      "  .         .__setup_frame__. <- frame\n",
      "  .     }\n",
      "  .     out <- handlers[[1L]](cnd)\n",
      "  .     if (!inherits(out, \"rlang_zap\")) \n",
      "  .         throw(out)\n",
      "  . })\n",
      "22. f(l = layers[[i]], d = data[[i]])\n",
      "23. l$compute_aesthetics(d, plot)\n",
      "24. compute_aesthetics(..., self = self)\n",
      "25. check_aesthetics(evaled, n)\n",
      "26. cli::cli_abort(c(\"Aesthetics must be either length 1 or the same as the data ({n})\", \n",
      "  .     x = \"Fix the following mappings: {.col {names(which(!good))}}\"))\n",
      "27. rlang::abort(message, ..., call = call, use_cli_format = TRUE, \n",
      "  .     .frame = .frame)\n",
      "28. signal_abort(cnd, .file)\n",
      "29. signalCondition(cnd)\n",
      "30. (function (cnd) \n",
      "  . {\n",
      "  .     {\n",
      "  .         .__handler_frame__. <- TRUE\n",
      "  .         .__setup_frame__. <- frame\n",
      "  .     }\n",
      "  .     out <- handlers[[1L]](cnd)\n",
      "  .     if (!inherits(out, \"rlang_zap\")) \n",
      "  .         throw(out)\n",
      "  . })(structure(list(message = structure(\"Aesthetics must be either length 1 or the same as the data (13)\", names = \"\"), \n",
      "  .     trace = structure(list(call = list(IRkernel::main(), kernel$run(), \n",
      "  .         handle_shell(), executor$execute(msg), tryCatch(evaluate(request$content$code, \n",
      "  .             envir = .GlobalEnv, output_handler = oh, stop_on_error = 1L), \n",
      "  .             interrupt = function(cond) {\n",
      "  .                 log_debug(\"Interrupt during execution\")\n",
      "  .                 interrupted <<- TRUE\n",
      "  .             }, error = .self$handle_error), tryCatchList(expr, \n",
      "  .             classes, parentenv, handlers), tryCatchOne(tryCatchList(expr, \n",
      "  .             names[-nh], parentenv, handlers[-nh]), names[nh], \n",
      "  .             parentenv, handlers[[nh]]), doTryCatch(return(expr), \n",
      "  .             name, parentenv, handler), tryCatchList(expr, names[-nh], \n",
      "  .             parentenv, handlers[-nh]), tryCatchOne(expr, names, \n",
      "  .             parentenv, handlers[[1L]]), doTryCatch(return(expr), \n",
      "  .             name, parentenv, handler), evaluate(request$content$code, \n",
      "  .             envir = .GlobalEnv, output_handler = oh, stop_on_error = 1L), \n",
      "  .         evaluate_call(expr, parsed$src[[i]], envir = envir, enclos = enclos, \n",
      "  .             debug = debug, last = i == length(out), use_try = stop_on_error != \n",
      "  .                 2L, keep_warning = keep_warning, keep_message = keep_message, \n",
      "  .             output_handler = output_handler, include_timing = include_timing), \n",
      "  .         handle(pv <- withCallingHandlers(withVisible(value_fun(ev$value, \n",
      "  .             ev$visible)), warning = wHandler, error = eHandler, \n",
      "  .             message = mHandler)), try(f, silent = TRUE), tryCatch(expr, \n",
      "  .             error = function(e) {\n",
      "  .                 call <- conditionCall(e)\n",
      "  .                 if (!is.null(call)) {\n",
      "  .                   if (identical(call[[1L]], quote(doTryCatch))) \n",
      "  .                     call <- sys.call(-4L)\n",
      "  .                   dcall <- deparse(call, nlines = 1L)\n",
      "  .                   prefix <- paste(\"Error in\", dcall, \": \")\n",
      "  .                   LONG <- 75L\n",
      "  .                   sm <- strsplit(conditionMessage(e), \"\\n\")[[1L]]\n",
      "  .                   w <- 14L + nchar(dcall, type = \"w\") + nchar(sm[1L], \n",
      "  .                     type = \"w\")\n",
      "  .                   if (is.na(w)) \n",
      "  .                     w <- 14L + nchar(dcall, type = \"b\") + nchar(sm[1L], \n",
      "  .                       type = \"b\")\n",
      "  .                   if (w > LONG) \n",
      "  .                     prefix <- paste0(prefix, \"\\n  \")\n",
      "  .                 }\n",
      "  .                 else prefix <- \"Error : \"\n",
      "  .                 msg <- paste0(prefix, conditionMessage(e), \"\\n\")\n",
      "  .                 .Internal(seterrmessage(msg[1L]))\n",
      "  .                 if (!silent && isTRUE(getOption(\"show.error.messages\"))) {\n",
      "  .                   cat(msg, file = outFile)\n",
      "  .                   .Internal(printDeferredWarnings())\n",
      "  .                 }\n",
      "  .                 invisible(structure(msg, class = \"try-error\", \n",
      "  .                   condition = e))\n",
      "  .             }), tryCatchList(expr, classes, parentenv, handlers), \n",
      "  .         tryCatchOne(expr, names, parentenv, handlers[[1L]]), \n",
      "  .         doTryCatch(return(expr), name, parentenv, handler), withCallingHandlers(withVisible(value_fun(ev$value, \n",
      "  .             ev$visible)), warning = wHandler, error = eHandler, \n",
      "  .             message = mHandler), withVisible(value_fun(ev$value, \n",
      "  .             ev$visible)), value_fun(ev$value, ev$visible), prepare_mimebundle_kernel(obj, \n",
      "  .             .self$handle_display_error), prepare_mimebundle(obj, \n",
      "  .             \"text/plain\", error_handler = handle_display_error), \n",
      "  .         filter_map(mimetypes, function(mime) {\n",
      "  .             tryCatch(withCallingHandlers({\n",
      "  .                 if (!mime %in% names(repr::mime2repr)) \n",
      "  .                   stop(\"No repr_* for mimetype \", mime, \" in repr::mime2repr\")\n",
      "  .                 rpr <- repr::mime2repr[[mime]](obj)\n",
      "  .                 if (is.null(rpr)) \n",
      "  .                   return(NULL)\n",
      "  .                 prepare_content(is.raw(rpr), rpr)\n",
      "  .             }, error = error_handler), error = outer_handler)\n",
      "  .         }), Filter(Negate(is.null), sapply(x, f, simplify = simplify)), \n",
      "  .         unlist(lapply(x, f)), lapply(x, f), sapply(x, f, simplify = simplify), \n",
      "  .         lapply(X = X, FUN = FUN, ...), FUN(X[[i]], ...), tryCatch(withCallingHandlers({\n",
      "  .             if (!mime %in% names(repr::mime2repr)) \n",
      "  .                 stop(\"No repr_* for mimetype \", mime, \" in repr::mime2repr\")\n",
      "  .             rpr <- repr::mime2repr[[mime]](obj)\n",
      "  .             if (is.null(rpr)) \n",
      "  .                 return(NULL)\n",
      "  .             prepare_content(is.raw(rpr), rpr)\n",
      "  .         }, error = error_handler), error = outer_handler), tryCatchList(expr, \n",
      "  .             classes, parentenv, handlers), tryCatchOne(expr, \n",
      "  .             names, parentenv, handlers[[1L]]), doTryCatch(return(expr), \n",
      "  .             name, parentenv, handler), withCallingHandlers({\n",
      "  .             if (!mime %in% names(repr::mime2repr)) \n",
      "  .                 stop(\"No repr_* for mimetype \", mime, \" in repr::mime2repr\")\n",
      "  .             rpr <- repr::mime2repr[[mime]](obj)\n",
      "  .             if (is.null(rpr)) \n",
      "  .                 return(NULL)\n",
      "  .             prepare_content(is.raw(rpr), rpr)\n",
      "  .         }, error = error_handler), repr::mime2repr[[mime]](obj), \n",
      "  .         repr_text.default(obj), paste(capture.output(print(obj)), \n",
      "  .             collapse = \"\\n\"), capture.output(print(obj)), withVisible(...elt(i)), \n",
      "  .         print(obj), print.ggplot(obj), ggplot_build(x), ggplot_build.ggplot(x), \n",
      "  .         by_layer(function(l, d) l$compute_aesthetics(d, plot), \n",
      "  .             layers, data, \"computing aesthetics\"), try_fetch(for (i in seq_along(data)) {\n",
      "  .             out[[i]] <- f(l = layers[[i]], d = data[[i]])\n",
      "  .         }, error = function(cnd) {\n",
      "  .             cli::cli_abort(c(\"Problem while {step}.\", i = \"Error occurred in the {ordinal(i)} layer.\"), \n",
      "  .                 call = layers[[i]]$constructor, parent = cnd)\n",
      "  .         }), tryCatch(withCallingHandlers(expr, error = function(cnd) {\n",
      "  .             {\n",
      "  .                 .__handler_frame__. <- TRUE\n",
      "  .                 .__setup_frame__. <- frame\n",
      "  .             }\n",
      "  .             out <- handlers[[1L]](cnd)\n",
      "  .             if (!inherits(out, \"rlang_zap\")) \n",
      "  .                 throw(out)\n",
      "  .         }), stackOverflowError = handlers[[1L]]), tryCatchList(expr, \n",
      "  .             classes, parentenv, handlers), tryCatchOne(expr, \n",
      "  .             names, parentenv, handlers[[1L]]), doTryCatch(return(expr), \n",
      "  .             name, parentenv, handler), withCallingHandlers(expr, \n",
      "  .             error = function(cnd) {\n",
      "  .                 {\n",
      "  .                   .__handler_frame__. <- TRUE\n",
      "  .                   .__setup_frame__. <- frame\n",
      "  .                 }\n",
      "  .                 out <- handlers[[1L]](cnd)\n",
      "  .                 if (!inherits(out, \"rlang_zap\")) \n",
      "  .                   throw(out)\n",
      "  .             }), f(l = layers[[i]], d = data[[i]]), l$compute_aesthetics(d, \n",
      "  .             plot), compute_aesthetics(..., self = self), check_aesthetics(evaled, \n",
      "  .             n), cli::cli_abort(c(\"Aesthetics must be either length 1 or the same as the data ({n})\", \n",
      "  .             x = \"Fix the following mappings: {.col {names(which(!good))}}\")), \n",
      "  .         rlang::abort(message, ..., call = call, use_cli_format = TRUE, \n",
      "  .             .frame = .frame)), parent = c(0L, 1L, 2L, 3L, 4L, \n",
      "  .     5L, 6L, 7L, 6L, 9L, 10L, 4L, 12L, 13L, 14L, 15L, 16L, 17L, \n",
      "  .     18L, 13L, 13L, 13L, 22L, 23L, 24L, 25L, 26L, 26L, 25L, 29L, \n",
      "  .     30L, 31L, 32L, 33L, 34L, 31L, 31L, 31L, 38L, 38L, 40L, 38L, \n",
      "  .     38L, 43L, 43L, 45L, 46L, 47L, 48L, 49L, 50L, 47L, 46L, 53L, \n",
      "  .     54L, 55L, 56L, 57L), visible = c(TRUE, TRUE, TRUE, TRUE, \n",
      "  .     TRUE, TRUE, TRUE, TRUE, TRUE, TRUE, TRUE, TRUE, TRUE, TRUE, \n",
      "  .     TRUE, TRUE, TRUE, TRUE, TRUE, TRUE, TRUE, TRUE, TRUE, TRUE, \n",
      "  .     TRUE, TRUE, TRUE, TRUE, TRUE, TRUE, TRUE, TRUE, TRUE, TRUE, \n",
      "  .     TRUE, TRUE, TRUE, TRUE, TRUE, TRUE, TRUE, TRUE, TRUE, TRUE, \n",
      "  .     TRUE, TRUE, TRUE, TRUE, TRUE, TRUE, TRUE, TRUE, TRUE, TRUE, \n",
      "  .     TRUE, TRUE, FALSE, FALSE), namespace = c(\"IRkernel\", NA, \n",
      "  .     \"IRkernel\", NA, \"base\", \"base\", \"base\", \"base\", \"base\", \"base\", \n",
      "  .     \"base\", \"evaluate\", \"evaluate\", \"evaluate\", \"base\", \"base\", \n",
      "  .     \"base\", \"base\", \"base\", \"base\", \"base\", \"IRkernel\", \"IRkernel\", \n",
      "  .     \"IRdisplay\", \"IRdisplay\", \"base\", \"base\", \"base\", \"base\", \n",
      "  .     \"base\", \"IRdisplay\", \"base\", \"base\", \"base\", \"base\", \"base\", \n",
      "  .     NA, \"repr\", \"base\", \"utils\", \"base\", \"base\", \"ggplot2\", \"ggplot2\", \n",
      "  .     \"ggplot2\", \"ggplot2\", \"rlang\", \"base\", \"base\", \"base\", \"base\", \n",
      "  .     \"base\", \"ggplot2\", NA, \"ggplot2\", \"ggplot2\", \"cli\", \"rlang\"\n",
      "  .     ), scope = c(\"::\", NA, \"local\", NA, \"::\", \"local\", \"local\", \n",
      "  .     \"local\", \"local\", \"local\", \"local\", \"::\", \":::\", \"local\", \n",
      "  .     \"::\", \"::\", \"local\", \"local\", \"local\", \"::\", \"::\", \"local\", \n",
      "  .     \":::\", \"::\", \":::\", \"::\", \"::\", \"::\", \"::\", \"::\", \"local\", \n",
      "  .     \"::\", \"local\", \"local\", \"local\", \"::\", NA, \":::\", \"::\", \"::\", \n",
      "  .     \"::\", \"::\", \":::\", \"::\", \":::\", \":::\", \"::\", \"::\", \"local\", \n",
      "  .     \"local\", \"local\", \"::\", \"local\", NA, \"local\", \":::\", \"::\", \n",
      "  .     \"::\"), error_frame = c(FALSE, FALSE, FALSE, FALSE, FALSE, \n",
      "  .     FALSE, FALSE, FALSE, FALSE, FALSE, FALSE, FALSE, FALSE, FALSE, \n",
      "  .     FALSE, FALSE, FALSE, FALSE, FALSE, FALSE, FALSE, FALSE, FALSE, \n",
      "  .     FALSE, FALSE, FALSE, FALSE, FALSE, FALSE, FALSE, FALSE, FALSE, \n",
      "  .     FALSE, FALSE, FALSE, FALSE, FALSE, FALSE, FALSE, FALSE, FALSE, \n",
      "  .     FALSE, FALSE, FALSE, FALSE, FALSE, FALSE, FALSE, FALSE, FALSE, \n",
      "  .     FALSE, FALSE, FALSE, FALSE, FALSE, TRUE, FALSE, FALSE)), row.names = c(NA, \n",
      "  .     -58L), version = 2L, class = c(\"rlang_trace\", \"rlib_trace\", \n",
      "  .     \"tbl\", \"data.frame\")), parent = NULL, body = c(x = \"Fix the following mappings: `x`\"), \n",
      "  .     call = check_aesthetics(evaled, n), use_cli_format = TRUE), class = c(\"rlang_error\", \n",
      "  . \"error\", \"condition\")))\n",
      "31. handlers[[1L]](cnd)\n",
      "32. cli::cli_abort(c(\"Problem while {step}.\", i = \"Error occurred in the {ordinal(i)} layer.\"), \n",
      "  .     call = layers[[i]]$constructor, parent = cnd)\n",
      "33. rlang::abort(message, ..., call = call, use_cli_format = TRUE, \n",
      "  .     .frame = .frame)\n",
      "34. signal_abort(cnd, .file)\n"
     ]
    }
   ],
   "source": [
    "# compute total variance\n",
    "cum_variance = cumsum(variance)\n",
    "\n",
    "# Scree plot\n",
    "qplot(c(1:12), cum_variance) +\n",
    "  geom_line() +\n",
    "  geom_point(size=4)+\n",
    "  xlab(\"Principal Component\") +\n",
    "  ylab(\"Variance Explained\") +\n",
    "  ggtitle(\"Scree Plot\") +\n",
    "  ylim(0, 1)"
   ]
  },
  {
   "cell_type": "code",
   "execution_count": 67,
   "id": "abbc3f75",
   "metadata": {
    "vscode": {
     "languageId": "r"
    }
   },
   "outputs": [
    {
     "name": "stdout",
     "output_type": "stream",
     "text": [
      " [1] 8.020707e+00 1.602460e+00 1.360913e+00 6.636280e-01 4.938230e-01\n",
      " [6] 4.153839e-01 2.592074e-01 1.154204e-01 4.700889e-02 1.691263e-02\n",
      "[11] 4.536435e-03 2.061963e-31 1.867706e-33\n"
     ]
    },
    {
     "data": {
      "text/html": [
       "<style>\n",
       ".list-inline {list-style: none; margin:0; padding: 0}\n",
       ".list-inline>li {display: inline-block}\n",
       ".list-inline>li:not(:last-child)::after {content: \"\\00b7\"; padding: 0 .5ex}\n",
       "</style>\n",
       "<ol class=list-inline><li>1</li><li>2</li><li>3</li></ol>\n"
      ],
      "text/latex": [
       "\\begin{enumerate*}\n",
       "\\item 1\n",
       "\\item 2\n",
       "\\item 3\n",
       "\\end{enumerate*}\n"
      ],
      "text/markdown": [
       "1. 1\n",
       "2. 2\n",
       "3. 3\n",
       "\n",
       "\n"
      ],
      "text/plain": [
       "[1] 1 2 3"
      ]
     },
     "metadata": {},
     "output_type": "display_data"
    }
   ],
   "source": [
    "# Kaiser rule\n",
    "kaiser = df_pca$sdev^2\n",
    "print(kaiser)\n",
    "\n",
    "which(kaiser>1)"
   ]
  },
  {
   "cell_type": "code",
   "execution_count": 68,
   "id": "8812b40f",
   "metadata": {
    "vscode": {
     "languageId": "r"
    }
   },
   "outputs": [
    {
     "data": {
      "image/png": "[encoded data removed]",
      "text/plain": [
       "plot without title"
      ]
     },
     "metadata": {
      "image/png": {
       "height": 420,
       "width": 420
      }
     },
     "output_type": "display_data"
    },
    {
     "data": {
      "text/html": [
       "<strong>png:</strong> 2"
      ],
      "text/latex": [
       "\\textbf{png:} 2"
      ],
      "text/markdown": [
       "**png:** 2"
      ],
      "text/plain": [
       "png \n",
       "  2 "
      ]
     },
     "metadata": {},
     "output_type": "display_data"
    },
    {
     "data": {
      "image/png": "[encoded data removed]",
      "text/plain": [
       "plot without title"
      ]
     },
     "metadata": {
      "image/png": {
       "height": 420,
       "width": 420
      }
     },
     "output_type": "display_data"
    }
   ],
   "source": [
    "#str(df_pca)\n",
    "\n",
    "pca_scores = data.frame(df_pca$x[,1:2])\n",
    "plot(pca_scores)\n",
    "\n",
    "biplot(df_pca)\n",
    "\n",
    "png(filename = \"img/Biplot.png\", units=\"in\", width=5, height=5, res=300)\n",
    "\n",
    "biplot(df_pca)\n",
    "\n",
    "dev.off()"
   ]
  },
  {
   "cell_type": "markdown",
   "id": "2812223b-b129-461e-aa36-7697e60caab5",
   "metadata": {},
   "source": [
    "## Predictive Analysis"
   ]
  },
  {
   "cell_type": "markdown",
   "id": "c061c19b",
   "metadata": {},
   "source": [
    "### Clustering"
   ]
  },
  {
   "cell_type": "code",
   "execution_count": 69,
   "id": "1a7c89bd",
   "metadata": {
    "vscode": {
     "languageId": "r"
    }
   },
   "outputs": [
    {
     "data": {
      "text/html": [
       "0.999999999999949"
      ],
      "text/latex": [
       "0.999999999999949"
      ],
      "text/markdown": [
       "0.999999999999949"
      ],
      "text/plain": [
       "[1] 1"
      ]
     },
     "metadata": {},
     "output_type": "display_data"
    }
   ],
   "source": [
    "set.seed(1)\n",
    "hopkins(df_scaled) # Calculated values 0-0.3 indicate regularly-spaced data. Values around 0.5 indicate random data. Values 0.7-1 indicate clustered data.\n"
   ]
  },
  {
   "cell_type": "code",
   "execution_count": 70,
   "id": "bccc5c37-0e2b-41ec-952d-2ac266b7b71c",
   "metadata": {
    "vscode": {
     "languageId": "r"
    }
   },
   "outputs": [],
   "source": [
    "k = 6\n",
    "fit_kmeans <- kmeans(df_scaled, k)"
   ]
  },
  {
   "cell_type": "code",
   "execution_count": 71,
   "id": "b01819f5",
   "metadata": {
    "vscode": {
     "languageId": "r"
    }
   },
   "outputs": [
    {
     "data": {
      "text/plain": [
       "                       \n",
       "                         1  2  3  4  5  6\n",
       "  Africa                 1 23 22  0  1  0\n",
       "  Americas               1 14 14  2  3  0\n",
       "  Eastern Mediterranean  0 13  6  0  2  0\n",
       "  Europe                 0 33 13  0  6  2\n",
       "  South-East Asia        0  6  3  1  0  0\n",
       "  Western Pacific        1 12  3  0  0  0"
      ]
     },
     "metadata": {},
     "output_type": "display_data"
    }
   ],
   "source": [
    "table(df$WHO.Region, fit_kmeans$cluster)"
   ]
  },
  {
   "cell_type": "code",
   "execution_count": 72,
   "id": "2fa48a39-ebe1-4a8d-8148-2a2d5d5e42b3",
   "metadata": {
    "vscode": {
     "languageId": "r"
    }
   },
   "outputs": [
    {
     "data": {
      "image/png": "[encoded data removed]",
      "text/plain": [
       "plot without title"
      ]
     },
     "metadata": {
      "image/png": {
       "height": 420,
       "width": 420
      }
     },
     "output_type": "display_data"
    }
   ],
   "source": [
    "pairs(df_scaled, col=c(1:k)[fit_kmeans$cluster])"
   ]
  },
  {
   "cell_type": "markdown",
   "id": "e3359d60",
   "metadata": {},
   "source": [
    "### Linear regression"
   ]
  },
  {
   "cell_type": "code",
   "execution_count": 73,
   "id": "85a8356d",
   "metadata": {
    "vscode": {
     "languageId": "r"
    }
   },
   "outputs": [
    {
     "data": {
      "text/plain": [
       "\n",
       "Call:\n",
       "lm(formula = Deaths ~ Confirmed + Recovered + Active + New.cases + \n",
       "    New.deaths + New.recovered + Deaths...100.Cases + Recovered...100.Cases + \n",
       "    Deaths...100.Recovered + Confirmed.last.week + X1.week.change + \n",
       "    X1.week...increase, data = df)\n",
       "\n",
       "Coefficients:\n",
       "           (Intercept)               Confirmed               Recovered  \n",
       "             3.452e-11               1.000e+00              -1.000e+00  \n",
       "                Active               New.cases              New.deaths  \n",
       "            -1.000e+00              -5.663e-15              -4.424e-14  \n",
       "         New.recovered      Deaths...100.Cases   Recovered...100.Cases  \n",
       "             1.051e-15               7.179e-13              -1.770e-13  \n",
       "Deaths...100.Recovered     Confirmed.last.week          X1.week.change  \n",
       "            -5.731e-15              -9.233e-16                      NA  \n",
       "    X1.week...increase  \n",
       "             5.668e-14  \n"
      ]
     },
     "metadata": {},
     "output_type": "display_data"
    }
   ],
   "source": [
    "lm(formula = Deaths ~ Confirmed + Recovered + Active + New.cases + New.deaths + \n",
    "                      New.recovered + Deaths...100.Cases + Recovered...100.Cases + \n",
    "                      Deaths...100.Recovered + Confirmed.last.week + X1.week.change +\n",
    "                      X1.week...increase, data=df)"
   ]
  },
  {
   "cell_type": "code",
   "execution_count": null,
   "id": "3082eac4",
   "metadata": {
    "vscode": {
     "languageId": "r"
    }
   },
   "outputs": [],
   "source": []
  }
 ],
 "metadata": {
  "kernelspec": {
   "display_name": "R",
   "language": "R",
   "name": "ir"
  },
  "language_info": {
   "codemirror_mode": "r",
   "file_extension": ".r",
   "mimetype": "text/x-r-source",
   "name": "R",
   "pygments_lexer": "r",
   "version": "4.2.2"
  },
  "vscode": {
   "interpreter": {
    "hash": "31f2aee4e71d21fbe5cf8b01ff0e069b9275f58929596ceb00d14d90e3e16cd6"
   }
  }
 },
 "nbformat": 4,
 "nbformat_minor": 5
}
