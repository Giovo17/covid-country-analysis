{
 "cells": [
  {
   "cell_type": "markdown",
   "id": "79192a98-80c0-45de-ba61-a73aa8615780",
   "metadata": {},
   "source": [
    "# Covid Country Analysis"
   ]
  },
  {
   "cell_type": "code",
   "execution_count": 33,
   "id": "87101567-7a77-4f12-833e-daef270f2b64",
   "metadata": {
    "vscode": {
     "languageId": "r"
    }
   },
   "outputs": [],
   "source": [
    "library(ggplot2)\n",
    "library(GGally)\n",
    "library(visdat)\n",
    "library(ISLR2)\n",
    "library(e1071)\n",
    "library(caTools)\n",
    "library(randomForest)\n"
   ]
  },
  {
   "cell_type": "code",
   "execution_count": 34,
   "id": "3851299b-642a-47dc-ad12-1496da50bc92",
   "metadata": {
    "vscode": {
     "languageId": "r"
    }
   },
   "outputs": [],
   "source": [
    "# Import datasets from csv\n",
    "\n",
    "# Source: https://www.kaggle.com/datasets/imdevskp/corona-virus-report?resource=download&select=country_wise_latest.csv\n",
    "\n",
    "# Online from github repo\n",
    "#df = read.csv('')\n",
    "\n",
    "# Local from disk\n",
    "df = read.csv(\"country_wise_latest.csv\")\n"
   ]
  },
  {
   "cell_type": "code",
   "execution_count": 35,
   "id": "ecaa0c2c-75b5-4a3b-8a8d-367fa3c2d989",
   "metadata": {
    "vscode": {
     "languageId": "r"
    }
   },
   "outputs": [
    {
     "data": {
      "text/html": [
       "<table class=\"dataframe\">\n",
       "<caption>A data.frame: 7 × 15</caption>\n",
       "<thead>\n",
       "\t<tr><th></th><th scope=col>Country.Region</th><th scope=col>Confirmed</th><th scope=col>Deaths</th><th scope=col>Recovered</th><th scope=col>Active</th><th scope=col>New.cases</th><th scope=col>New.deaths</th><th scope=col>New.recovered</th><th scope=col>Deaths...100.Cases</th><th scope=col>Recovered...100.Cases</th><th scope=col>Deaths...100.Recovered</th><th scope=col>Confirmed.last.week</th><th scope=col>X1.week.change</th><th scope=col>X1.week...increase</th><th scope=col>WHO.Region</th></tr>\n",
       "\t<tr><th></th><th scope=col>&lt;chr&gt;</th><th scope=col>&lt;int&gt;</th><th scope=col>&lt;int&gt;</th><th scope=col>&lt;int&gt;</th><th scope=col>&lt;int&gt;</th><th scope=col>&lt;int&gt;</th><th scope=col>&lt;int&gt;</th><th scope=col>&lt;int&gt;</th><th scope=col>&lt;dbl&gt;</th><th scope=col>&lt;dbl&gt;</th><th scope=col>&lt;dbl&gt;</th><th scope=col>&lt;int&gt;</th><th scope=col>&lt;int&gt;</th><th scope=col>&lt;dbl&gt;</th><th scope=col>&lt;chr&gt;</th></tr>\n",
       "</thead>\n",
       "<tbody>\n",
       "\t<tr><th scope=row>1</th><td>Afghanistan        </td><td> 36263</td><td>1269</td><td>25198</td><td> 9796</td><td> 106</td><td> 10</td><td>  18</td><td>3.50</td><td>69.49</td><td> 5.04</td><td> 35526</td><td>  737</td><td> 2.07</td><td>Eastern Mediterranean</td></tr>\n",
       "\t<tr><th scope=row>2</th><td>Albania            </td><td>  4880</td><td> 144</td><td> 2745</td><td> 1991</td><td> 117</td><td>  6</td><td>  63</td><td>2.95</td><td>56.25</td><td> 5.25</td><td>  4171</td><td>  709</td><td>17.00</td><td>Europe               </td></tr>\n",
       "\t<tr><th scope=row>3</th><td>Algeria            </td><td> 27973</td><td>1163</td><td>18837</td><td> 7973</td><td> 616</td><td>  8</td><td> 749</td><td>4.16</td><td>67.34</td><td> 6.17</td><td> 23691</td><td> 4282</td><td>18.07</td><td>Africa               </td></tr>\n",
       "\t<tr><th scope=row>4</th><td>Andorra            </td><td>   907</td><td>  52</td><td>  803</td><td>   52</td><td>  10</td><td>  0</td><td>   0</td><td>5.73</td><td>88.53</td><td> 6.48</td><td>   884</td><td>   23</td><td> 2.60</td><td>Europe               </td></tr>\n",
       "\t<tr><th scope=row>5</th><td>Angola             </td><td>   950</td><td>  41</td><td>  242</td><td>  667</td><td>  18</td><td>  1</td><td>   0</td><td>4.32</td><td>25.47</td><td>16.94</td><td>   749</td><td>  201</td><td>26.84</td><td>Africa               </td></tr>\n",
       "\t<tr><th scope=row>6</th><td>Antigua and Barbuda</td><td>    86</td><td>   3</td><td>   65</td><td>   18</td><td>   4</td><td>  0</td><td>   5</td><td>3.49</td><td>75.58</td><td> 4.62</td><td>    76</td><td>   10</td><td>13.16</td><td>Americas             </td></tr>\n",
       "\t<tr><th scope=row>7</th><td>Argentina          </td><td>167416</td><td>3059</td><td>72575</td><td>91782</td><td>4890</td><td>120</td><td>2057</td><td>1.83</td><td>43.35</td><td> 4.21</td><td>130774</td><td>36642</td><td>28.02</td><td>Americas             </td></tr>\n",
       "</tbody>\n",
       "</table>\n"
      ],
      "text/latex": [
       "A data.frame: 7 × 15\n",
       "\\begin{tabular}{r|lllllllllllllll}\n",
       "  & Country.Region & Confirmed & Deaths & Recovered & Active & New.cases & New.deaths & New.recovered & Deaths...100.Cases & Recovered...100.Cases & Deaths...100.Recovered & Confirmed.last.week & X1.week.change & X1.week...increase & WHO.Region\\\\\n",
       "  & <chr> & <int> & <int> & <int> & <int> & <int> & <int> & <int> & <dbl> & <dbl> & <dbl> & <int> & <int> & <dbl> & <chr>\\\\\n",
       "\\hline\n",
       "\t1 & Afghanistan         &  36263 & 1269 & 25198 &  9796 &  106 &  10 &   18 & 3.50 & 69.49 &  5.04 &  35526 &   737 &  2.07 & Eastern Mediterranean\\\\\n",
       "\t2 & Albania             &   4880 &  144 &  2745 &  1991 &  117 &   6 &   63 & 2.95 & 56.25 &  5.25 &   4171 &   709 & 17.00 & Europe               \\\\\n",
       "\t3 & Algeria             &  27973 & 1163 & 18837 &  7973 &  616 &   8 &  749 & 4.16 & 67.34 &  6.17 &  23691 &  4282 & 18.07 & Africa               \\\\\n",
       "\t4 & Andorra             &    907 &   52 &   803 &    52 &   10 &   0 &    0 & 5.73 & 88.53 &  6.48 &    884 &    23 &  2.60 & Europe               \\\\\n",
       "\t5 & Angola              &    950 &   41 &   242 &   667 &   18 &   1 &    0 & 4.32 & 25.47 & 16.94 &    749 &   201 & 26.84 & Africa               \\\\\n",
       "\t6 & Antigua and Barbuda &     86 &    3 &    65 &    18 &    4 &   0 &    5 & 3.49 & 75.58 &  4.62 &     76 &    10 & 13.16 & Americas             \\\\\n",
       "\t7 & Argentina           & 167416 & 3059 & 72575 & 91782 & 4890 & 120 & 2057 & 1.83 & 43.35 &  4.21 & 130774 & 36642 & 28.02 & Americas             \\\\\n",
       "\\end{tabular}\n"
      ],
      "text/markdown": [
       "\n",
       "A data.frame: 7 × 15\n",
       "\n",
       "| <!--/--> | Country.Region &lt;chr&gt; | Confirmed &lt;int&gt; | Deaths &lt;int&gt; | Recovered &lt;int&gt; | Active &lt;int&gt; | New.cases &lt;int&gt; | New.deaths &lt;int&gt; | New.recovered &lt;int&gt; | Deaths...100.Cases &lt;dbl&gt; | Recovered...100.Cases &lt;dbl&gt; | Deaths...100.Recovered &lt;dbl&gt; | Confirmed.last.week &lt;int&gt; | X1.week.change &lt;int&gt; | X1.week...increase &lt;dbl&gt; | WHO.Region &lt;chr&gt; |\n",
       "|---|---|---|---|---|---|---|---|---|---|---|---|---|---|---|---|\n",
       "| 1 | Afghanistan         |  36263 | 1269 | 25198 |  9796 |  106 |  10 |   18 | 3.50 | 69.49 |  5.04 |  35526 |   737 |  2.07 | Eastern Mediterranean |\n",
       "| 2 | Albania             |   4880 |  144 |  2745 |  1991 |  117 |   6 |   63 | 2.95 | 56.25 |  5.25 |   4171 |   709 | 17.00 | Europe                |\n",
       "| 3 | Algeria             |  27973 | 1163 | 18837 |  7973 |  616 |   8 |  749 | 4.16 | 67.34 |  6.17 |  23691 |  4282 | 18.07 | Africa                |\n",
       "| 4 | Andorra             |    907 |   52 |   803 |    52 |   10 |   0 |    0 | 5.73 | 88.53 |  6.48 |    884 |    23 |  2.60 | Europe                |\n",
       "| 5 | Angola              |    950 |   41 |   242 |   667 |   18 |   1 |    0 | 4.32 | 25.47 | 16.94 |    749 |   201 | 26.84 | Africa                |\n",
       "| 6 | Antigua and Barbuda |     86 |    3 |    65 |    18 |    4 |   0 |    5 | 3.49 | 75.58 |  4.62 |     76 |    10 | 13.16 | Americas              |\n",
       "| 7 | Argentina           | 167416 | 3059 | 72575 | 91782 | 4890 | 120 | 2057 | 1.83 | 43.35 |  4.21 | 130774 | 36642 | 28.02 | Americas              |\n",
       "\n"
      ],
      "text/plain": [
       "  Country.Region      Confirmed Deaths Recovered Active New.cases New.deaths\n",
       "1 Afghanistan          36263    1269   25198      9796   106       10       \n",
       "2 Albania               4880     144    2745      1991   117        6       \n",
       "3 Algeria              27973    1163   18837      7973   616        8       \n",
       "4 Andorra                907      52     803        52    10        0       \n",
       "5 Angola                 950      41     242       667    18        1       \n",
       "6 Antigua and Barbuda     86       3      65        18     4        0       \n",
       "7 Argentina           167416    3059   72575     91782  4890      120       \n",
       "  New.recovered Deaths...100.Cases Recovered...100.Cases Deaths...100.Recovered\n",
       "1   18          3.50               69.49                  5.04                 \n",
       "2   63          2.95               56.25                  5.25                 \n",
       "3  749          4.16               67.34                  6.17                 \n",
       "4    0          5.73               88.53                  6.48                 \n",
       "5    0          4.32               25.47                 16.94                 \n",
       "6    5          3.49               75.58                  4.62                 \n",
       "7 2057          1.83               43.35                  4.21                 \n",
       "  Confirmed.last.week X1.week.change X1.week...increase WHO.Region           \n",
       "1  35526                737           2.07              Eastern Mediterranean\n",
       "2   4171                709          17.00              Europe               \n",
       "3  23691               4282          18.07              Africa               \n",
       "4    884                 23           2.60              Europe               \n",
       "5    749                201          26.84              Africa               \n",
       "6     76                 10          13.16              Americas             \n",
       "7 130774              36642          28.02              Americas             "
      ]
     },
     "metadata": {},
     "output_type": "display_data"
    },
    {
     "name": "stdout",
     "output_type": "stream",
     "text": [
      "'data.frame':\t187 obs. of  15 variables:\n",
      " $ Country.Region        : chr  \"Afghanistan\" \"Albania\" \"Algeria\" \"Andorra\" ...\n",
      " $ Confirmed             : int  36263 4880 27973 907 950 86 167416 37390 15303 20558 ...\n",
      " $ Deaths                : int  1269 144 1163 52 41 3 3059 711 167 713 ...\n",
      " $ Recovered             : int  25198 2745 18837 803 242 65 72575 26665 9311 18246 ...\n",
      " $ Active                : int  9796 1991 7973 52 667 18 91782 10014 5825 1599 ...\n",
      " $ New.cases             : int  106 117 616 10 18 4 4890 73 368 86 ...\n",
      " $ New.deaths            : int  10 6 8 0 1 0 120 6 6 1 ...\n",
      " $ New.recovered         : int  18 63 749 0 0 5 2057 187 137 37 ...\n",
      " $ Deaths...100.Cases    : num  3.5 2.95 4.16 5.73 4.32 3.49 1.83 1.9 1.09 3.47 ...\n",
      " $ Recovered...100.Cases : num  69.5 56.2 67.3 88.5 25.5 ...\n",
      " $ Deaths...100.Recovered: num  5.04 5.25 6.17 6.48 16.94 ...\n",
      " $ Confirmed.last.week   : int  35526 4171 23691 884 749 76 130774 34981 12428 19743 ...\n",
      " $ X1.week.change        : int  737 709 4282 23 201 10 36642 2409 2875 815 ...\n",
      " $ X1.week...increase    : num  2.07 17 18.07 2.6 26.84 ...\n",
      " $ WHO.Region            : chr  \"Eastern Mediterranean\" \"Europe\" \"Africa\" \"Europe\" ...\n"
     ]
    },
    {
     "data": {
      "text/plain": [
       " Country.Region       Confirmed           Deaths           Recovered        \n",
       " Length:187         Min.   :     10   Min.   :     0.0   Min.   :      0.0  \n",
       " Class :character   1st Qu.:   1114   1st Qu.:    18.5   1st Qu.:    626.5  \n",
       " Mode  :character   Median :   5059   Median :   108.0   Median :   2815.0  \n",
       "                    Mean   :  88131   Mean   :  3497.5   Mean   :  50631.5  \n",
       "                    3rd Qu.:  40460   3rd Qu.:   734.0   3rd Qu.:  22606.0  \n",
       "                    Max.   :4290259   Max.   :148011.0   Max.   :1846641.0  \n",
       "     Active            New.cases         New.deaths      New.recovered    \n",
       " Min.   :      0.0   Min.   :    0.0   Min.   :   0.00   Min.   :    0.0  \n",
       " 1st Qu.:    141.5   1st Qu.:    4.0   1st Qu.:   0.00   1st Qu.:    0.0  \n",
       " Median :   1600.0   Median :   49.0   Median :   1.00   Median :   22.0  \n",
       " Mean   :  34001.9   Mean   : 1223.0   Mean   :  28.96   Mean   :  933.8  \n",
       " 3rd Qu.:   9149.0   3rd Qu.:  419.5   3rd Qu.:   6.00   3rd Qu.:  221.0  \n",
       " Max.   :2816444.0   Max.   :56336.0   Max.   :1076.00   Max.   :33728.0  \n",
       " Deaths...100.Cases Recovered...100.Cases Deaths...100.Recovered\n",
       " Min.   : 0.000     Min.   :  0.00        Min.   :0.00          \n",
       " 1st Qu.: 0.945     1st Qu.: 48.77        1st Qu.:1.45          \n",
       " Median : 2.150     Median : 71.32        Median :3.62          \n",
       " Mean   : 3.020     Mean   : 64.82        Mean   : Inf          \n",
       " 3rd Qu.: 3.875     3rd Qu.: 86.89        3rd Qu.:6.44          \n",
       " Max.   :28.560     Max.   :100.00        Max.   : Inf          \n",
       " Confirmed.last.week X1.week.change   X1.week...increase  WHO.Region       \n",
       " Min.   :     10     Min.   :   -47   Min.   : -3.840    Length:187        \n",
       " 1st Qu.:   1052     1st Qu.:    49   1st Qu.:  2.775    Class :character  \n",
       " Median :   5020     Median :   432   Median :  6.890    Mode  :character  \n",
       " Mean   :  78682     Mean   :  9448   Mean   : 13.606                      \n",
       " 3rd Qu.:  37080     3rd Qu.:  3172   3rd Qu.: 16.855                      \n",
       " Max.   :3834677     Max.   :455582   Max.   :226.320                      "
      ]
     },
     "metadata": {},
     "output_type": "display_data"
    }
   ],
   "source": [
    "head(df, 7)\n",
    "str(df)\n",
    "summary(df)"
   ]
  },
  {
   "cell_type": "code",
   "execution_count": 36,
   "id": "bc75d8a6",
   "metadata": {
    "vscode": {
     "languageId": "r"
    }
   },
   "outputs": [
    {
     "data": {
      "image/png": "[encoded data removed]",
      "text/plain": [
       "plot without title"
      ]
     },
     "metadata": {
      "image/png": {
       "height": 420,
       "width": 420
      }
     },
     "output_type": "display_data"
    }
   ],
   "source": [
    "vis_miss(df)"
   ]
  },
  {
   "cell_type": "code",
   "execution_count": null,
   "id": "8a6b8282",
   "metadata": {
    "vscode": {
     "languageId": "r"
    }
   },
   "outputs": [],
   "source": []
  },
  {
   "cell_type": "markdown",
   "id": "2fb8e024-20c8-46a4-a3e3-3ea265989fd2",
   "metadata": {},
   "source": [
    "## EDA"
   ]
  },
  {
   "cell_type": "code",
   "execution_count": 37,
   "id": "4238a4bc",
   "metadata": {
    "vscode": {
     "languageId": "r"
    }
   },
   "outputs": [
    {
     "name": "stdout",
     "output_type": "stream",
     "text": [
      " [1] \"Country.Region\"         \"Confirmed\"              \"Deaths\"                \n",
      " [4] \"Recovered\"              \"Active\"                 \"New.cases\"             \n",
      " [7] \"New.deaths\"             \"New.recovered\"          \"Deaths...100.Cases\"    \n",
      "[10] \"Recovered...100.Cases\"  \"Deaths...100.Recovered\" \"Confirmed.last.week\"   \n",
      "[13] \"X1.week.change\"         \"X1.week...increase\"     \"WHO.Region\"            \n"
     ]
    }
   ],
   "source": [
    "print(colnames(df))"
   ]
  },
  {
   "cell_type": "markdown",
   "id": "5ab84ff9",
   "metadata": {},
   "source": [
    "### Univariate EDA"
   ]
  },
  {
   "cell_type": "markdown",
   "id": "06eee9db",
   "metadata": {},
   "source": [
    "#### Confirmed"
   ]
  },
  {
   "cell_type": "code",
   "execution_count": 38,
   "id": "109f8d60",
   "metadata": {
    "vscode": {
     "languageId": "r"
    }
   },
   "outputs": [
    {
     "data": {
      "text/html": [
       "<dl>\n",
       "\t<dt>$stats</dt>\n",
       "\t\t<dd><style>\n",
       ".list-inline {list-style: none; margin:0; padding: 0}\n",
       ".list-inline>li {display: inline-block}\n",
       ".list-inline>li:not(:last-child)::after {content: \"\\00b7\"; padding: 0 .5ex}\n",
       "</style>\n",
       "<ol class=list-inline><li>10</li><li>1114</li><li>5059</li><li>40460.5</li><li>92482</li></ol>\n",
       "</dd>\n",
       "\t<dt>$n</dt>\n",
       "\t\t<dd>187</dd>\n",
       "\t<dt>$conf</dt>\n",
       "\t\t<dd><style>\n",
       ".list-inline {list-style: none; margin:0; padding: 0}\n",
       ".list-inline>li {display: inline-block}\n",
       ".list-inline>li:not(:last-child)::after {content: \"\\00b7\"; padding: 0 .5ex}\n",
       "</style>\n",
       "<ol class=list-inline><li>512.864351124933</li><li>9605.13564887507</li></ol>\n",
       "</dd>\n",
       "\t<dt>$out</dt>\n",
       "\t\t<dd><style>\n",
       ".list-inline {list-style: none; margin:0; padding: 0}\n",
       ".list-inline>li {display: inline-block}\n",
       ".list-inline>li:not(:last-child)::after {content: \"\\00b7\"; padding: 0 .5ex}\n",
       "</style>\n",
       "<ol class=list-inline><li>167416</li><li>226225</li><li>2442375</li><li>116458</li><li>347923</li><li>257101</li><li>220352</li><li>207112</li><li>1480073</li><li>100303</li><li>293606</li><li>112585</li><li>246286</li><li>395489</li><li>274289</li><li>389717</li><li>109597</li><li>816680</li><li>268934</li><li>452529</li><li>272421</li><li>227019</li><li>4290259</li><li>301708</li></ol>\n",
       "</dd>\n",
       "</dl>\n"
      ],
      "text/latex": [
       "\\begin{description}\n",
       "\\item[\\$stats] \\begin{enumerate*}\n",
       "\\item 10\n",
       "\\item 1114\n",
       "\\item 5059\n",
       "\\item 40460.5\n",
       "\\item 92482\n",
       "\\end{enumerate*}\n",
       "\n",
       "\\item[\\$n] 187\n",
       "\\item[\\$conf] \\begin{enumerate*}\n",
       "\\item 512.864351124933\n",
       "\\item 9605.13564887507\n",
       "\\end{enumerate*}\n",
       "\n",
       "\\item[\\$out] \\begin{enumerate*}\n",
       "\\item 167416\n",
       "\\item 226225\n",
       "\\item 2442375\n",
       "\\item 116458\n",
       "\\item 347923\n",
       "\\item 257101\n",
       "\\item 220352\n",
       "\\item 207112\n",
       "\\item 1480073\n",
       "\\item 100303\n",
       "\\item 293606\n",
       "\\item 112585\n",
       "\\item 246286\n",
       "\\item 395489\n",
       "\\item 274289\n",
       "\\item 389717\n",
       "\\item 109597\n",
       "\\item 816680\n",
       "\\item 268934\n",
       "\\item 452529\n",
       "\\item 272421\n",
       "\\item 227019\n",
       "\\item 4290259\n",
       "\\item 301708\n",
       "\\end{enumerate*}\n",
       "\n",
       "\\end{description}\n"
      ],
      "text/markdown": [
       "$stats\n",
       ":   1. 10\n",
       "2. 1114\n",
       "3. 5059\n",
       "4. 40460.5\n",
       "5. 92482\n",
       "\n",
       "\n",
       "\n",
       "$n\n",
       ":   187\n",
       "$conf\n",
       ":   1. 512.864351124933\n",
       "2. 9605.13564887507\n",
       "\n",
       "\n",
       "\n",
       "$out\n",
       ":   1. 167416\n",
       "2. 226225\n",
       "3. 2442375\n",
       "4. 116458\n",
       "5. 347923\n",
       "6. 257101\n",
       "7. 220352\n",
       "8. 207112\n",
       "9. 1480073\n",
       "10. 100303\n",
       "11. 293606\n",
       "12. 112585\n",
       "13. 246286\n",
       "14. 395489\n",
       "15. 274289\n",
       "16. 389717\n",
       "17. 109597\n",
       "18. 816680\n",
       "19. 268934\n",
       "20. 452529\n",
       "21. 272421\n",
       "22. 227019\n",
       "23. 4290259\n",
       "24. 301708\n",
       "\n",
       "\n",
       "\n",
       "\n",
       "\n"
      ],
      "text/plain": [
       "$stats\n",
       "[1]    10.0  1114.0  5059.0 40460.5 92482.0\n",
       "\n",
       "$n\n",
       "[1] 187\n",
       "\n",
       "$conf\n",
       "[1]  512.8644 9605.1356\n",
       "\n",
       "$out\n",
       " [1]  167416  226225 2442375  116458  347923  257101  220352  207112 1480073\n",
       "[10]  100303  293606  112585  246286  395489  274289  389717  109597  816680\n",
       "[19]  268934  452529  272421  227019 4290259  301708\n"
      ]
     },
     "metadata": {},
     "output_type": "display_data"
    }
   ],
   "source": [
    "boxplot.stats(df$Confirmed)"
   ]
  },
  {
   "cell_type": "code",
   "execution_count": 39,
   "id": "af215917",
   "metadata": {
    "vscode": {
     "languageId": "r"
    }
   },
   "outputs": [
    {
     "data": {
      "image/png": "[encoded data removed]",
      "text/plain": [
       "plot without title"
      ]
     },
     "metadata": {
      "image/png": {
       "height": 420,
       "width": 420
      }
     },
     "output_type": "display_data"
    },
    {
     "data": {
      "image/png": "[encoded data removed]",
      "text/plain": [
       "plot without title"
      ]
     },
     "metadata": {
      "image/png": {
       "height": 420,
       "width": 420
      }
     },
     "output_type": "display_data"
    }
   ],
   "source": [
    "ggplot(df, aes(x=as.factor(WHO.Region), y=Confirmed)) + \n",
    "    geom_boxplot(fill=\"slateblue\", alpha=0.2) + \n",
    "    ggtitle(\"Boxplots of confirmed cases divided by WHO region\") +\n",
    "    theme(\n",
    "        axis.text=element_text(size=6.5), \n",
    "        axis.title=element_text(size=14,face=\"bold\")\n",
    "    ) +\n",
    "    coord_cartesian(ylim = c(0, 100000)) + \n",
    "    xlab(\"WHO.Region\")\n",
    "\n",
    "ggplot(df, aes(y=Confirmed)) + \n",
    "    geom_boxplot(fill=\"slateblue\", alpha=0.2) + \n",
    "    ggtitle(\"Boxplot of confirmed cases\") +\n",
    "    theme(\n",
    "        axis.text=element_text(size=6.5), \n",
    "        axis.title=element_text(size=14,face=\"bold\")\n",
    "    ) +\n",
    "    coord_cartesian(ylim = c(0, 100000)) "
   ]
  },
  {
   "cell_type": "code",
   "execution_count": 40,
   "id": "a20b9861",
   "metadata": {
    "vscode": {
     "languageId": "r"
    }
   },
   "outputs": [
    {
     "data": {
      "text/html": [
       "<strong>png:</strong> 2"
      ],
      "text/latex": [
       "\\textbf{png:} 2"
      ],
      "text/markdown": [
       "**png:** 2"
      ],
      "text/plain": [
       "png \n",
       "  2 "
      ]
     },
     "metadata": {},
     "output_type": "display_data"
    },
    {
     "data": {
      "text/html": [
       "<strong>png:</strong> 2"
      ],
      "text/latex": [
       "\\textbf{png:} 2"
      ],
      "text/markdown": [
       "**png:** 2"
      ],
      "text/plain": [
       "png \n",
       "  2 "
      ]
     },
     "metadata": {},
     "output_type": "display_data"
    }
   ],
   "source": [
    "png(filename = \"img/Confirmed_conditional_boxplot.png\", units=\"in\", width=5, height=5, res=300)\n",
    "\n",
    "ggplot(df, aes(x=as.factor(WHO.Region), y=Confirmed)) + \n",
    "    geom_boxplot(fill=\"slateblue\", alpha=0.2) + \n",
    "    ggtitle(\"Boxplots of confirmed cases divided by WHO region\") +\n",
    "    theme(\n",
    "        axis.text=element_text(size=6.5), \n",
    "        axis.title=element_text(size=14,face=\"bold\")\n",
    "    ) +\n",
    "    coord_cartesian(ylim = c(0, 100000)) +\n",
    "    xlab(\"WHO.Region\")\n",
    "\n",
    "dev.off()\n",
    "\n",
    "png(filename = \"img/Confirmed_boxplot.png\", units=\"in\", width=5, height=5, res=300)\n",
    "\n",
    "ggplot(df, aes(y=Confirmed)) + \n",
    "    geom_boxplot(fill=\"slateblue\", alpha=0.2) + \n",
    "    ggtitle(\"Boxplot of confirmed cases\") +\n",
    "    theme(\n",
    "        axis.text=element_text(size=6.5), \n",
    "        axis.title=element_text(size=14, face=\"bold\")\n",
    "    ) +\n",
    "    coord_cartesian(ylim = c(0, 100000))\n",
    "\n",
    "dev.off()"
   ]
  },
  {
   "cell_type": "code",
   "execution_count": 41,
   "id": "28e660f1",
   "metadata": {
    "vscode": {
     "languageId": "r"
    }
   },
   "outputs": [
    {
     "data": {
      "image/png": "[encoded data removed]",
      "text/plain": [
       "plot without title"
      ]
     },
     "metadata": {
      "image/png": {
       "height": 420,
       "width": 420
      }
     },
     "output_type": "display_data"
    }
   ],
   "source": [
    "ggplot(df, aes(x=Confirmed)) +\n",
    "    geom_histogram( binwidth=50, fill=\"#69b3a2\", color=\"#e9ecef\", alpha=0.9) +\n",
    "    ggtitle(\"Histogram of confirmed cases\") +\n",
    "    theme(\n",
    "      plot.title = element_text(size=15)\n",
    "    ) + \n",
    "    coord_cartesian(xlim = c(0, 100000))"
   ]
  },
  {
   "cell_type": "code",
   "execution_count": null,
   "id": "4905201d",
   "metadata": {
    "vscode": {
     "languageId": "r"
    }
   },
   "outputs": [],
   "source": []
  },
  {
   "cell_type": "code",
   "execution_count": null,
   "id": "96365765",
   "metadata": {
    "vscode": {
     "languageId": "r"
    }
   },
   "outputs": [],
   "source": [
    "\n"
   ]
  },
  {
   "cell_type": "code",
   "execution_count": 42,
   "id": "5d096f3b",
   "metadata": {
    "vscode": {
     "languageId": "r"
    }
   },
   "outputs": [
    {
     "name": "stdout",
     "output_type": "stream",
     "text": [
      "'data.frame':\t187 obs. of  15 variables:\n",
      " $ Country.Region        : chr  \"Afghanistan\" \"Albania\" \"Algeria\" \"Andorra\" ...\n",
      " $ Confirmed             : int  36263 4880 27973 907 950 86 167416 37390 15303 20558 ...\n",
      " $ Deaths                : int  1269 144 1163 52 41 3 3059 711 167 713 ...\n",
      " $ Recovered             : int  25198 2745 18837 803 242 65 72575 26665 9311 18246 ...\n",
      " $ Active                : int  9796 1991 7973 52 667 18 91782 10014 5825 1599 ...\n",
      " $ New.cases             : int  106 117 616 10 18 4 4890 73 368 86 ...\n",
      " $ New.deaths            : int  10 6 8 0 1 0 120 6 6 1 ...\n",
      " $ New.recovered         : int  18 63 749 0 0 5 2057 187 137 37 ...\n",
      " $ Deaths...100.Cases    : num  3.5 2.95 4.16 5.73 4.32 3.49 1.83 1.9 1.09 3.47 ...\n",
      " $ Recovered...100.Cases : num  69.5 56.2 67.3 88.5 25.5 ...\n",
      " $ Deaths...100.Recovered: num  5.04 5.25 6.17 6.48 16.94 ...\n",
      " $ Confirmed.last.week   : int  35526 4171 23691 884 749 76 130774 34981 12428 19743 ...\n",
      " $ X1.week.change        : int  737 709 4282 23 201 10 36642 2409 2875 815 ...\n",
      " $ X1.week...increase    : num  2.07 17 18.07 2.6 26.84 ...\n",
      " $ WHO.Region            : chr  \"Eastern Mediterranean\" \"Europe\" \"Africa\" \"Europe\" ...\n"
     ]
    }
   ],
   "source": [
    "str(df)"
   ]
  },
  {
   "cell_type": "markdown",
   "id": "b8302bf5",
   "metadata": {},
   "source": [
    "#### Deaths"
   ]
  },
  {
   "cell_type": "code",
   "execution_count": 43,
   "id": "e3e20828",
   "metadata": {
    "vscode": {
     "languageId": "r"
    }
   },
   "outputs": [
    {
     "data": {
      "text/html": [
       "<strong>png:</strong> 2"
      ],
      "text/latex": [
       "\\textbf{png:} 2"
      ],
      "text/markdown": [
       "**png:** 2"
      ],
      "text/plain": [
       "png \n",
       "  2 "
      ]
     },
     "metadata": {},
     "output_type": "display_data"
    }
   ],
   "source": [
    "png(filename = \"img/Deaths_boxplot.png\", units=\"in\", width=5, height=5, res=300)\n",
    "\n",
    "ggplot(df, aes(x=as.factor(WHO.Region), y=Deaths)) + \n",
    "    geom_boxplot(fill=\"slateblue\", alpha=0.2) + \n",
    "    ggtitle(\"Boxplots of deaths cases\") +\n",
    "    theme(\n",
    "        axis.text=element_text(size=6.5), \n",
    "        axis.title=element_text(size=14,face=\"bold\")\n",
    "    ) +\n",
    "    xlab(\"WHO.Region\")\n",
    "\n",
    "dev.off()"
   ]
  },
  {
   "cell_type": "markdown",
   "id": "c2408ebb",
   "metadata": {},
   "source": [
    "#### Recovered"
   ]
  },
  {
   "cell_type": "code",
   "execution_count": null,
   "id": "ee0fd6bc",
   "metadata": {
    "vscode": {
     "languageId": "r"
    }
   },
   "outputs": [],
   "source": []
  },
  {
   "cell_type": "markdown",
   "id": "e7fc0196",
   "metadata": {},
   "source": [
    "#### Active"
   ]
  },
  {
   "cell_type": "code",
   "execution_count": null,
   "id": "430760f4",
   "metadata": {
    "vscode": {
     "languageId": "r"
    }
   },
   "outputs": [],
   "source": []
  },
  {
   "cell_type": "markdown",
   "id": "32b971c4",
   "metadata": {},
   "source": [
    "#### New cases"
   ]
  },
  {
   "cell_type": "markdown",
   "id": "99cf941f",
   "metadata": {},
   "source": [
    "#### New deaths"
   ]
  },
  {
   "cell_type": "markdown",
   "id": "aca5106b",
   "metadata": {},
   "source": [
    "#### New recovered"
   ]
  },
  {
   "cell_type": "markdown",
   "id": "5a9a1342",
   "metadata": {},
   "source": [
    "#### Deaths / 100 Cases"
   ]
  },
  {
   "cell_type": "markdown",
   "id": "a9f98a4b",
   "metadata": {},
   "source": [
    "#### Recovered / 100 Cases"
   ]
  },
  {
   "cell_type": "markdown",
   "id": "965d9632",
   "metadata": {},
   "source": [
    "#### Deaths / 100 Recovered"
   ]
  },
  {
   "cell_type": "markdown",
   "id": "460bb01d",
   "metadata": {},
   "source": [
    "#### Confirmed last week"
   ]
  },
  {
   "cell_type": "markdown",
   "id": "9e4c71f4",
   "metadata": {},
   "source": [
    "#### 1 week change"
   ]
  },
  {
   "cell_type": "markdown",
   "id": "faee082c",
   "metadata": {},
   "source": [
    "#### 1 week % increase"
   ]
  },
  {
   "cell_type": "code",
   "execution_count": null,
   "id": "d4c1ba6f",
   "metadata": {
    "vscode": {
     "languageId": "r"
    }
   },
   "outputs": [],
   "source": []
  },
  {
   "cell_type": "code",
   "execution_count": null,
   "id": "96865aa0",
   "metadata": {
    "vscode": {
     "languageId": "r"
    }
   },
   "outputs": [],
   "source": []
  },
  {
   "cell_type": "code",
   "execution_count": null,
   "id": "2faa7fda-8b43-452c-b850-bc430e1d126f",
   "metadata": {
    "vscode": {
     "languageId": "r"
    }
   },
   "outputs": [],
   "source": []
  },
  {
   "cell_type": "markdown",
   "id": "b399184f",
   "metadata": {},
   "source": [
    "### Multivariate EDA"
   ]
  },
  {
   "cell_type": "markdown",
   "id": "b43797fa",
   "metadata": {},
   "source": []
  },
  {
   "cell_type": "code",
   "execution_count": 44,
   "id": "36e13332-dc1f-43b9-8686-2f09f5965408",
   "metadata": {
    "vscode": {
     "languageId": "r"
    }
   },
   "outputs": [
    {
     "data": {
      "image/png": "[encoded data removed]",
      "text/plain": [
       "plot without title"
      ]
     },
     "metadata": {
      "image/png": {
       "height": 420,
       "width": 420
      }
     },
     "output_type": "display_data"
    }
   ],
   "source": [
    "GGally::ggpairs(df, columns = 2:10, ggplot2::aes(colour=WHO.Region)) "
   ]
  },
  {
   "cell_type": "code",
   "execution_count": 45,
   "id": "7c03279a",
   "metadata": {
    "vscode": {
     "languageId": "r"
    }
   },
   "outputs": [
    {
     "ename": "ERROR",
     "evalue": "Error in parse(text = x, srcfile = src): <text>:11:30: unexpected symbol\n10:   title = NULL,\n11:   upper = list(continuous = \"cor\n                                 ^\n",
     "output_type": "error",
     "traceback": [
      "Error in parse(text = x, srcfile = src): <text>:11:30: unexpected symbol\n10:   title = NULL,\n11:   upper = list(continuous = \"cor\n                                 ^\nTraceback:\n"
     ]
    }
   ],
   "source": [
    "png(filename = \"img/Corrmatrix_boxplot.png\", units=\"in\", width=5, height=5, res=300)\n",
    "\n",
    "GGally::ggpairs(df, columns = 2:5, ggplot2::aes(colour=WHO.Region)) \n",
    "\n",
    "\"\n",
    "ggpairs(\n",
    "  data,\n",
    "  mapping = NULL,\n",
    "  columns = 1:ncol(data),\n",
    "  title = NULL,\n",
    "  upper = list(continuous = \"cor\", combo = \"box_no_facet\", discrete = \"count\", na = \"na\"),\n",
    "  lower = list(continuous = \"points\", combo = \"facethist\", discrete = \"facetbar\", na = \"na\"),\n",
    "  diag = list(continuous = \"densityDiag\", discrete = \"barDiag\", na = \"naDiag\"),\n",
    "  params = NULL,\n",
    "  ...,\n",
    "  xlab = NULL,\n",
    "  ylab = NULL,\n",
    "  axisLabels = c(\"show\", \"internal\", \"none\"),\n",
    "  columnLabels = colnames(data[columns]),\n",
    "  labeller = \"label_value\",\n",
    "  switch = NULL,\n",
    "  showStrips = NULL,\n",
    "  legend = NULL,\n",
    "  cardinality_threshold = 15,\n",
    "  progress = NULL,\n",
    "  proportions = NULL,\n",
    "  legends = stop(\"deprecated\")\n",
    ")\n",
    "\"\n",
    "\n",
    "dev.off()"
   ]
  },
  {
   "cell_type": "code",
   "execution_count": null,
   "id": "4d3a4716",
   "metadata": {
    "vscode": {
     "languageId": "r"
    }
   },
   "outputs": [],
   "source": []
  },
  {
   "cell_type": "code",
   "execution_count": null,
   "id": "3977c821-786c-49d4-970b-02ceee8ae024",
   "metadata": {
    "vscode": {
     "languageId": "r"
    }
   },
   "outputs": [],
   "source": []
  },
  {
   "cell_type": "markdown",
   "id": "2812223b-b129-461e-aa36-7697e60caab5",
   "metadata": {},
   "source": [
    "### Predictive Analysis"
   ]
  },
  {
   "cell_type": "code",
   "execution_count": null,
   "id": "3f2f7b83-aae0-46ec-a0e7-ce698f0436a1",
   "metadata": {
    "vscode": {
     "languageId": "r"
    }
   },
   "outputs": [
    {
     "ename": "ERROR",
     "evalue": "Error in sample.split(df_accidents, SplitRatio = 0.8): object 'df_accidents' not found\n",
     "output_type": "error",
     "traceback": [
      "Error in sample.split(df_accidents, SplitRatio = 0.8): object 'df_accidents' not found\nTraceback:\n",
      "1. sample.split(df_accidents, SplitRatio = 0.8)"
     ]
    }
   ],
   "source": [
    "set.seed(1)\n",
    "sample = sample.split(df_accidents, SplitRatio = 0.8)\n",
    "accidents_train = subset(df_accidents, sample == TRUE)\n",
    "accidents_test  = subset(df_accidents, sample == FALSE)\n"
   ]
  },
  {
   "cell_type": "code",
   "execution_count": null,
   "id": "dd0259e8-4260-4d4c-87d9-851943877555",
   "metadata": {
    "vscode": {
     "languageId": "r"
    }
   },
   "outputs": [
    {
     "ename": "ERROR",
     "evalue": "Error in eval(predvars, data, env): object 'Target' not found\n",
     "output_type": "error",
     "traceback": [
      "Error in eval(predvars, data, env): object 'Target' not found\nTraceback:\n",
      "1. randomForest(Target ~ ., data = df_accidents, mtry = 3, importance = TRUE)",
      "2. randomForest.formula(Target ~ ., data = df_accidents, mtry = 3, \n .     importance = TRUE)",
      "3. eval(m, parent.frame())",
      "4. eval(m, parent.frame())",
      "5. model.frame(formula = Target ~ ., data = df_accidents, na.action = function (object, \n .     ...) \n . UseMethod(\"na.fail\"))",
      "6. model.frame.default(formula = Target ~ ., data = df_accidents, \n .     na.action = function (object, ...) \n .     UseMethod(\"na.fail\"))",
      "7. eval(predvars, data, env)",
      "8. eval(predvars, data, env)"
     ]
    }
   ],
   "source": [
    "#svmfit = svm(Morti ~ ., data = accidents_train, kernel = \"linear\", cost = 10, scale = TRUE)\n",
    "#print(svmfit)\n",
    "#y_predL = predict(svmfit, newdata = accidents_test[-19])\n",
    "\n",
    "\n",
    "set.seed(13)\n",
    "\n",
    "rf <- randomForest(Target ~ ., data = df_accidents, mtry = 3, importance = TRUE)\n",
    "rf"
   ]
  },
  {
   "cell_type": "code",
   "execution_count": null,
   "id": "91c6886a-963f-407c-b163-3d8c07ca218f",
   "metadata": {
    "vscode": {
     "languageId": "r"
    }
   },
   "outputs": [
    {
     "ename": "ERROR",
     "evalue": "Error in predict.svm(svmfit, newdata = accidents_test[-19]): test data does not match model !\n",
     "output_type": "error",
     "traceback": [
      "Error in predict.svm(svmfit, newdata = accidents_test[-19]): test data does not match model !\nTraceback:\n",
      "1. predict(svmfit, newdata = accidents_test[-19])",
      "2. predict.svm(svmfit, newdata = accidents_test[-19])",
      "3. stop(\"test data does not match model !\")"
     ]
    }
   ],
   "source": []
  },
  {
   "cell_type": "code",
   "execution_count": null,
   "id": "3d28dbc4-5c69-472e-9ace-1e574567404e",
   "metadata": {
    "vscode": {
     "languageId": "r"
    }
   },
   "outputs": [],
   "source": []
  },
  {
   "cell_type": "code",
   "execution_count": null,
   "id": "bccc5c37-0e2b-41ec-952d-2ac266b7b71c",
   "metadata": {
    "vscode": {
     "languageId": "r"
    }
   },
   "outputs": [],
   "source": []
  },
  {
   "cell_type": "code",
   "execution_count": null,
   "id": "2fa48a39-ebe1-4a8d-8148-2a2d5d5e42b3",
   "metadata": {
    "vscode": {
     "languageId": "r"
    }
   },
   "outputs": [],
   "source": []
  }
 ],
 "metadata": {
  "kernelspec": {
   "display_name": "R",
   "language": "R",
   "name": "ir"
  },
  "language_info": {
   "codemirror_mode": "r",
   "file_extension": ".r",
   "mimetype": "text/x-r-source",
   "name": "R",
   "pygments_lexer": "r",
   "version": "4.2.2"
  }
 },
 "nbformat": 4,
 "nbformat_minor": 5
}
